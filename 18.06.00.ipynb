{
 "cells": [
  {
   "cell_type": "code",
   "execution_count": 1,
   "metadata": {},
   "outputs": [
    {
     "data": {
      "text/plain": [
       "'__main__'"
      ]
     },
     "execution_count": 1,
     "metadata": {},
     "output_type": "execute_result"
    }
   ],
   "source": [
    "#interpreter start to interpret from this point\n",
    "__name__"
   ]
  },
  {
   "cell_type": "code",
   "execution_count": 2,
   "metadata": {},
   "outputs": [
    {
     "name": "stdout",
     "output_type": "stream",
     "text": [
      "5 e\n",
      "6 r\n",
      "7 t\n"
     ]
    }
   ],
   "source": [
    "#enumerate let you have a counter in a loop\n",
    "lst = ['e', 'r', 't']\n",
    "for i, l in enumerate(lst, 5):\n",
    "    print(i, l)"
   ]
  },
  {
   "cell_type": "code",
   "execution_count": 3,
   "metadata": {},
   "outputs": [
    {
     "data": {
      "text/plain": [
       "'e r t'"
      ]
     },
     "execution_count": 3,
     "metadata": {},
     "output_type": "execute_result"
    }
   ],
   "source": [
    "' '.join(lst)"
   ]
  },
  {
   "cell_type": "code",
   "execution_count": 4,
   "metadata": {},
   "outputs": [
    {
     "name": "stdout",
     "output_type": "stream",
     "text": [
      "c= 123\n"
     ]
    }
   ],
   "source": [
    "d = ['1', '2', '3']\n",
    "c =  ''.join(d)\n",
    "print ('c=', str(c))\n",
    "    "
   ]
  },
  {
   "cell_type": "code",
   "execution_count": null,
   "metadata": {},
   "outputs": [],
   "source": []
  },
  {
   "cell_type": "markdown",
   "metadata": {},
   "source": [
    "## Caesar func"
   ]
  },
  {
   "cell_type": "code",
   "execution_count": 1,
   "metadata": {},
   "outputs": [],
   "source": [
    "def encrypt(plaintext, key):\n",
    "    cyphertext = ''\n",
    "    for character in plaintext:\n",
    "        if character.isalpha():\n",
    "            number = ord(character)\n",
    "            number += key\n",
    "            if character.isupper():\n",
    "                if number > ord('Z'):\n",
    "                    number -= 26\n",
    "                elif number < ord('A'):\n",
    "                    number += 26\n",
    "            elif character.islower():\n",
    "                if number > ord('z'):\n",
    "                    number -= 26\n",
    "                elif number < ord('a'):\n",
    "                    number += 26\n",
    "            character = chr(number)\n",
    "        cyphertext += character\n",
    "    return cyphertext        \n",
    "                \n",
    "                "
   ]
  },
  {
   "cell_type": "code",
   "execution_count": 2,
   "metadata": {},
   "outputs": [
    {
     "data": {
      "text/plain": [
       "'rjqfsjj'"
      ]
     },
     "execution_count": 2,
     "metadata": {},
     "output_type": "execute_result"
    }
   ],
   "source": [
    "encrypt('melanee', 5)"
   ]
  },
  {
   "cell_type": "code",
   "execution_count": 1,
   "metadata": {},
   "outputs": [
    {
     "ename": "ModuleNotFoundError",
     "evalue": "No module named 'caesar_encryption'",
     "output_type": "error",
     "traceback": [
      "\u001b[1;31m---------------------------------------------------------------------------\u001b[0m",
      "\u001b[1;31mModuleNotFoundError\u001b[0m                       Traceback (most recent call last)",
      "\u001b[1;32m<ipython-input-1-b21c68ab113e>\u001b[0m in \u001b[0;36m<module>\u001b[1;34m\u001b[0m\n\u001b[0;32m      1\u001b[0m \u001b[1;32mimport\u001b[0m \u001b[0msys\u001b[0m\u001b[1;33m\u001b[0m\u001b[1;33m\u001b[0m\u001b[0m\n\u001b[1;32m----> 2\u001b[1;33m \u001b[1;32mfrom\u001b[0m \u001b[0mcaesar_encryption\u001b[0m \u001b[1;32mimport\u001b[0m \u001b[0mencrypt\u001b[0m\u001b[1;33m\u001b[0m\u001b[1;33m\u001b[0m\u001b[0m\n\u001b[0m\u001b[0;32m      3\u001b[0m \u001b[1;33m\u001b[0m\u001b[0m\n\u001b[0;32m      4\u001b[0m \u001b[1;32mdef\u001b[0m \u001b[0mcaesar\u001b[0m\u001b[1;33m(\u001b[0m\u001b[1;33m)\u001b[0m\u001b[1;33m:\u001b[0m\u001b[1;33m\u001b[0m\u001b[1;33m\u001b[0m\u001b[0m\n\u001b[0;32m      5\u001b[0m     \u001b[0mkey\u001b[0m \u001b[1;33m=\u001b[0m \u001b[1;36m1\u001b[0m\u001b[1;33m\u001b[0m\u001b[1;33m\u001b[0m\u001b[0m\n",
      "\u001b[1;31mModuleNotFoundError\u001b[0m: No module named 'caesar_encryption'"
     ]
    }
   ],
   "source": [
    "import sys\n",
    "from caesar_encryption import encrypt\n",
    "\n",
    "def caesar():\n",
    "    key = 1\n",
    "    is_error = False\n",
    "    \n",
    "    for index, arg in enumerate(sys.argv):\n",
    "        if arg in ['--key', '-k'] and len(sys.argv) > index + 1:\n",
    "            key = int(sys.argv[index+ 1])\n",
    "            del sys.argv[index]\n",
    "            del sys.argv[index]\n",
    "            break\n",
    "    for index, arg in enumerate(sys.argv):\n",
    "        if arg in ['--encrypt', '-e']:\n",
    "            del sys.argv[index]\n",
    "            break\n",
    "        if arg in ['--decrypt', '-d']:\n",
    "            key = -key\n",
    "            del sys.argv[index]\n",
    "            break\n",
    "        if len(sys.argv) == 1:\n",
    "            is_error = True\n",
    "        else:\n",
    "            for arg in sys.argv:\n",
    "                if arg.startwith('-'):\n",
    "                    is_error = True\n",
    "                    \n",
    "        if is_error:\n",
    "            print(f'Usage: python{sys.argv[0]} [--key <key>] [--encrypt|decrypt ] <text>') \n",
    "        else:\n",
    "            print(encrypt(' '.join(sys.argv[1:]), key))\n",
    "if __name__ == '__main__':\n",
    "    caesar()\n",
    "    "
   ]
  },
  {
   "cell_type": "code",
   "execution_count": 4,
   "metadata": {},
   "outputs": [
    {
     "name": "stderr",
     "output_type": "stream",
     "text": [
      "100%|██████████| 560000/560000 [00:00<00:00, 930340.89it/s]\n"
     ]
    }
   ],
   "source": [
    "from tqdm import tqdm\n",
    "for key in tqdm(range(560000)):\n",
    "    if key != '0':\n",
    "        pass"
   ]
  },
  {
   "cell_type": "code",
   "execution_count": 6,
   "metadata": {},
   "outputs": [
    {
     "name": "stdout",
     "output_type": "stream",
     "text": [
      "2021-09-10 21:51:56.916968\n"
     ]
    }
   ],
   "source": [
    "import datetime\n",
    "x = datetime.datetime.now()\n",
    "print(x)\n"
   ]
  },
  {
   "cell_type": "code",
   "execution_count": 13,
   "metadata": {},
   "outputs": [
    {
     "name": "stdout",
     "output_type": "stream",
     "text": [
      "2021\n",
      "Tuesday\n",
      "Tue\n"
     ]
    }
   ],
   "source": [
    "print(x.year)\n",
    "print(x.strftime('%A'))\n",
    "print(x.strftime('%a'))\n"
   ]
  },
  {
   "cell_type": "code",
   "execution_count": 10,
   "metadata": {},
   "outputs": [
    {
     "name": "stdout",
     "output_type": "stream",
     "text": [
      "June\n"
     ]
    }
   ],
   "source": [
    "x = datetime.datetime(2021, 6, 1)\n",
    "print(x.strftime('%B'))"
   ]
  },
  {
   "cell_type": "code",
   "execution_count": null,
   "metadata": {},
   "outputs": [],
   "source": []
  }
 ],
 "metadata": {
  "kernelspec": {
   "display_name": "Python 3",
   "language": "python",
   "name": "python3"
  },
  "language_info": {
   "codemirror_mode": {
    "name": "ipython",
    "version": 3
   },
   "file_extension": ".py",
   "mimetype": "text/x-python",
   "name": "python",
   "nbconvert_exporter": "python",
   "pygments_lexer": "ipython3",
   "version": "3.8.5"
  }
 },
 "nbformat": 4,
 "nbformat_minor": 4
}
