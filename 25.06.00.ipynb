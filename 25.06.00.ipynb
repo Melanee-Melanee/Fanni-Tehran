{
 "cells": [
  {
   "cell_type": "code",
   "execution_count": 6,
   "metadata": {},
   "outputs": [],
   "source": [
    "import time\n",
    "def timer_1(n):\n",
    "    for i in range(n):\n",
    "        if i %100 == 0:\n",
    "            print(i, end = ' ')\n",
    "            \n",
    "            time.sleep(1)\n",
    "    print()         "
   ]
  },
  {
   "cell_type": "code",
   "execution_count": 7,
   "metadata": {},
   "outputs": [],
   "source": [
    "def timer_2(n):\n",
    "    for i in range(n):\n",
    "        if i %100 == 0:\n",
    "            print(i, end = ' ')\n",
    "            \n",
    "            time.sleep(3)\n",
    "    print()    "
   ]
  },
  {
   "cell_type": "code",
   "execution_count": 10,
   "metadata": {},
   "outputs": [
    {
     "name": "stdout",
     "output_type": "stream",
     "text": [
      "0 100 200 300 400 500 600 700 800 900 1000 1100 1200 1300 1400 1500 1600 1700 1800 1900 2000 2100 2200 2300 2400 2500 2600 2700 2800 2900 3000 3100 3200 3300 3400 3500 \n"
     ]
    }
   ],
   "source": [
    "timer_1(3600)"
   ]
  },
  {
   "cell_type": "code",
   "execution_count": 9,
   "metadata": {},
   "outputs": [
    {
     "name": "stdout",
     "output_type": "stream",
     "text": [
      "0 100 200 300 400 \n"
     ]
    }
   ],
   "source": [
    "timer_2(500)"
   ]
  },
  {
   "cell_type": "code",
   "execution_count": 6,
   "metadata": {},
   "outputs": [
    {
     "name": "stdout",
     "output_type": "stream",
     "text": [
      "square: 100\n",
      "cube: 1000\n",
      "Done!\n"
     ]
    }
   ],
   "source": [
    "import threading \n",
    "import time\n",
    "\n",
    "def print_cube(num):\n",
    "#     time.sleep(2)\n",
    "    print('cube: {}'.format(num * num *num))\n",
    "    \n",
    "    \n",
    "def print_square(num):\n",
    "#     time.sleep(10)\n",
    "    print('square: {}'.format(num *num))\n",
    "   \n",
    "if __name__ =='__main__':\n",
    "    t1 = threading.Thread(target = print_square, args=(10,))\n",
    "    t2 = threading.Thread(target = print_cube, args=(10,))\n",
    "    t1.start()\n",
    "    t2.start()\n",
    "    t1.join()\n",
    "    t2.join()\n",
    "    print('Done!')\n",
    " "
   ]
  },
  {
   "cell_type": "code",
   "execution_count": 5,
   "metadata": {},
   "outputs": [
    {
     "name": "stdout",
     "output_type": "stream",
     "text": [
      "ID of process is running main program: 2024\n",
      "main thread name: MainThread\n",
      "task 1 assigned to threadtask 2 assigned to thread\n",
      "ID of process running task 1: 2024\n",
      "\n",
      "ID of process running task 2: 2024\n"
     ]
    }
   ],
   "source": [
    "import threading\n",
    "import os\n",
    "\n",
    "def task1():\n",
    "    print('task 1 assigned to thread'.format(threading.current_thread().name))\n",
    "    print('ID of process running task 1: {}'.format(os.getpid()))\n",
    "    \n",
    "def task2():\n",
    "    print('task 2 assigned to thread'.format(threading.current_thread().name))\n",
    "    print('ID of process running task 2: {}'.format(os.getpid()))\n",
    "    \n",
    "    \n",
    "if __name__ == '__main__':\n",
    "    print('ID of process is running main program: {}'.format(os.getpid()))\n",
    "    print('main thread name: {}'.format(threading.current_thread().name))\n",
    "        \n",
    "t1 = threading.Thread(target=task1, name='t1')\n",
    "t2 = threading.Thread(target=task2, name='t2')\n",
    "\n",
    "t1.start()\n",
    "t2.start()\n",
    "\n",
    "\n",
    "t1.join()\n",
    "t2.join()\n",
    "\n"
   ]
  },
  {
   "cell_type": "code",
   "execution_count": 9,
   "metadata": {},
   "outputs": [],
   "source": [
    "def my_generator():\n",
    "    print('inside my generator')\n",
    "    return 'melanee'\n",
    "    yield 'a'\n",
    "    yield 'b'\n",
    "    yield 'c'\n",
    "    \n",
    "    my_generator()\n",
    "    \n",
    "    "
   ]
  },
  {
   "cell_type": "code",
   "execution_count": 10,
   "metadata": {},
   "outputs": [
    {
     "name": "stdout",
     "output_type": "stream",
     "text": [
      "inside my generator\n"
     ]
    }
   ],
   "source": [
    "for char in my_generator():\n",
    "    print(char)"
   ]
  },
  {
   "cell_type": "code",
   "execution_count": 18,
   "metadata": {},
   "outputs": [
    {
     "data": {
      "text/plain": [
       "['__add__',\n",
       " '__class__',\n",
       " '__contains__',\n",
       " '__delattr__',\n",
       " '__delitem__',\n",
       " '__dir__',\n",
       " '__doc__',\n",
       " '__eq__',\n",
       " '__format__',\n",
       " '__ge__',\n",
       " '__getattribute__',\n",
       " '__getitem__',\n",
       " '__gt__',\n",
       " '__hash__',\n",
       " '__iadd__',\n",
       " '__imul__',\n",
       " '__init__',\n",
       " '__init_subclass__',\n",
       " '__iter__',\n",
       " '__le__',\n",
       " '__len__',\n",
       " '__lt__',\n",
       " '__mul__',\n",
       " '__ne__',\n",
       " '__new__',\n",
       " '__reduce__',\n",
       " '__reduce_ex__',\n",
       " '__repr__',\n",
       " '__reversed__',\n",
       " '__rmul__',\n",
       " '__setattr__',\n",
       " '__setitem__',\n",
       " '__sizeof__',\n",
       " '__str__',\n",
       " '__subclasshook__',\n",
       " 'append',\n",
       " 'clear',\n",
       " 'copy',\n",
       " 'count',\n",
       " 'extend',\n",
       " 'index',\n",
       " 'insert',\n",
       " 'pop',\n",
       " 'remove',\n",
       " 'reverse',\n",
       " 'sort']"
      ]
     },
     "execution_count": 18,
     "metadata": {},
     "output_type": "execute_result"
    }
   ],
   "source": [
    "dir (list)\n",
    "#dir(name of object)"
   ]
  },
  {
   "cell_type": "code",
   "execution_count": null,
   "metadata": {},
   "outputs": [],
   "source": []
  }
 ],
 "metadata": {
  "kernelspec": {
   "display_name": "Python 3",
   "language": "python",
   "name": "python3"
  },
  "language_info": {
   "codemirror_mode": {
    "name": "ipython",
    "version": 3
   },
   "file_extension": ".py",
   "mimetype": "text/x-python",
   "name": "python",
   "nbconvert_exporter": "python",
   "pygments_lexer": "ipython3",
   "version": "3.8.5"
  }
 },
 "nbformat": 4,
 "nbformat_minor": 5
}
