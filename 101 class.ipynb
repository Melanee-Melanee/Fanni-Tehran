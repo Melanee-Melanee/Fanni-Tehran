{
 "cells": [
  {
   "cell_type": "code",
   "execution_count": 1,
   "metadata": {},
   "outputs": [
    {
     "name": "stdout",
     "output_type": "stream",
     "text": [
      "Line_ :\n",
      "Line_ :\n",
      "Line_ :\n",
      "Line_ :\n",
      "Line_ :\n",
      "Line_ :\n",
      "Line_ :\n",
      "Line_ :\n",
      "Line_ :\n",
      "Line_ :\n"
     ]
    }
   ],
   "source": [
    "for i in range (10):\n",
    "    print('Line_ :')\n",
    "\n"
   ]
  },
  {
   "cell_type": "code",
   "execution_count": 1,
   "metadata": {},
   "outputs": [
    {
     "name": "stdout",
     "output_type": "stream",
     "text": [
      "Line_ :\n",
      "Line_ :\n",
      "Line_ :\n",
      "Line_ :\n",
      "Line_ :\n",
      "Line_ :\n",
      "Line_ :\n",
      "Line_ :\n",
      "Line_ :\n",
      "Line_ :\n"
     ]
    }
   ],
   "source": [
    "for i in range (10):\n",
    "    print('Line_ :')"
   ]
  },
  {
   "cell_type": "code",
   "execution_count": 9,
   "metadata": {},
   "outputs": [
    {
     "name": "stdout",
     "output_type": "stream",
     "text": [
      "Line_: 10\n",
      "Line_: 15\n"
     ]
    }
   ],
   "source": [
    "for i in range (10, 20, 5):\n",
    "    print('Line_:', i)  "
   ]
  },
  {
   "cell_type": "code",
   "execution_count": 10,
   "metadata": {},
   "outputs": [
    {
     "name": "stdout",
     "output_type": "stream",
     "text": [
      "Simple  Hospital System \n",
      "1. WRITE RECORD\n",
      "2. SHOW ALL RECORDS\n",
      "3. SEARCH BY SERIAL NUMBER\n",
      "4. SEARCH BY CONTACT NUMBER\n",
      "5. SEARCH BY BLOOD GROUP \n",
      "6. SEARCH BY AGE\n",
      "7. SEARCH BY SEX\n",
      "8. SEARCH BY DISEASE NAME\n",
      "9. SEARCH BY DOCTOR NAME\n",
      "10. SEARCH BY PAYMENT METHODS\n",
      "11. SEARCH BY EMAIL\n",
      "12. MODIFY RECORD\n",
      "13. DELETE RECORD\n",
      "14. EXIT\n"
     ]
    }
   ],
   "source": [
    "print('Simple  Hospital System ')\n",
    "print('1. WRITE RECORD')\n",
    "print('2. SHOW ALL RECORDS')\n",
    "print('3. SEARCH BY SERIAL NUMBER')\n",
    "print('4. SEARCH BY CONTACT NUMBER')\n",
    "print('5. SEARCH BY BLOOD GROUP ')\n",
    "print('6. SEARCH BY AGE')\n",
    "print('7. SEARCH BY SEX')\n",
    "print('8. SEARCH BY DISEASE NAME')\n",
    "print('9. SEARCH BY DOCTOR NAME')\n",
    "print('10. SEARCH BY PAYMENT METHODS')\n",
    "print('11. SEARCH BY EMAIL')\n",
    "print('12. MODIFY RECORD')\n",
    "print('13. DELETE RECORD')\n",
    "print('14. EXIT')\n"
   ]
  },
  {
   "cell_type": "code",
   "execution_count": null,
   "metadata": {},
   "outputs": [],
   "source": [
    "n = input('please inter your record')"
   ]
  },
  {
   "cell_type": "code",
   "execution_count": 13,
   "metadata": {},
   "outputs": [
    {
     "name": "stdout",
     "output_type": "stream",
     "text": [
      "1 -: -  1 -  2 -  3 -  4 -  5 -  6 -  7 -  8 -  9\n",
      "2 -: -  2 -  4 -  6 -  8 -  10 -  12 -  14 -  16 -  18\n",
      "3 -: -  3 -  6 -  9 -  12 -  15 -  18 -  21 -  24 -  27\n",
      "4 -: -  4 -  8 -  12 -  16 -  20 -  24 -  28 -  32 -  36\n",
      "5 -: -  5 -  10 -  15 -  20 -  25 -  30 -  35 -  40 -  45\n",
      "6 -: -  6 -  12 -  18 -  24 -  30 -  36 -  42 -  48 -  54\n",
      "7 -: -  7 -  14 -  21 -  28 -  35 -  42 -  49 -  56 -  63\n",
      "8 -: -  8 -  16 -  24 -  32 -  40 -  48 -  56 -  64 -  72\n",
      "9 -: -  9 -  18 -  27 -  36 -  45 -  54 -  63 -  72 -  81\n"
     ]
    }
   ],
   "source": [
    "for i in range (1,10):\n",
    "    print(i, '-:', end='')\n",
    "    for j in range(1, 10, 1):\n",
    "        print(' - ', i*j, end= '')\n",
    "    print()      "
   ]
  },
  {
   "cell_type": "code",
   "execution_count": 39,
   "metadata": {},
   "outputs": [
    {
     "name": "stdout",
     "output_type": "stream",
     "text": [
      "\t1 \t2 \t3 \t4 \t5 \t6 \t7 \t8 \t9 \t10 \t\n",
      "1 \t1 \t2 \t3 \t4 \t5 \t6 \t7 \t8 \t9 \t10 \t\n",
      "2 \t2 \t4 \t6 \t8 \t10 \t12 \t14 \t16 \t18 \t20 \t\n",
      "3 \t3 \t6 \t9 \t12 \t15 \t18 \t21 \t24 \t27 \t30 \t\n",
      "4 \t4 \t8 \t12 \t16 \t20 \t24 \t28 \t32 \t36 \t40 \t\n",
      "5 \t5 \t10 \t15 \t20 \t25 \t30 \t35 \t40 \t45 \t50 \t\n",
      "6 \t6 \t12 \t18 \t24 \t30 \t36 \t42 \t48 \t54 \t60 \t\n",
      "7 \t7 \t14 \t21 \t28 \t35 \t42 \t49 \t56 \t63 \t70 \t\n",
      "8 \t8 \t16 \t24 \t32 \t40 \t48 \t56 \t64 \t72 \t80 \t\n",
      "9 \t9 \t18 \t27 \t36 \t45 \t54 \t63 \t72 \t81 \t90 \t\n",
      "10 \t10 \t20 \t30 \t40 \t50 \t60 \t70 \t80 \t90 \t100 \t\n"
     ]
    }
   ],
   "source": [
    "print('\\t', end='')\n",
    "for i in range (1,11):\n",
    "    print(i, '\\t', end= '')\n",
    "print()    \n",
    "\n",
    "\n",
    "\n",
    "for i in range (1,11):\n",
    "    print(i, '\\t' , end='' )\n",
    "    for j in range(1, 11):\n",
    "        print( i*j, '\\t', end= '')\n",
    "    print()"
   ]
  },
  {
   "cell_type": "code",
   "execution_count": 41,
   "metadata": {},
   "outputs": [
    {
     "name": "stdout",
     "output_type": "stream",
     "text": [
      "1.256 5.640000000000001 0.6400000000000001 7.8500000000000005\n"
     ]
    }
   ],
   "source": [
    "a = 3.14\n",
    "b= 2.5\n",
    "print(a/b, a+b, a-b, a*b)"
   ]
  },
  {
   "cell_type": "markdown",
   "metadata": {},
   "source": [
    "## New Operator(+, *)"
   ]
  },
  {
   "cell_type": "code",
   "execution_count": 60,
   "metadata": {},
   "outputs": [
    {
     "name": "stdout",
     "output_type": "stream",
     "text": [
      "Shaghayegh Shaghayegh Shaghayegh Shaghayegh \n",
      "Shaghayegh3\n"
     ]
    }
   ],
   "source": [
    "a= 'Shaghayegh'\n",
    "b= 4\n",
    "c= 3\n",
    "print((a + ' ') * b)\n",
    "print(a+str(c))"
   ]
  },
  {
   "cell_type": "code",
   "execution_count": 63,
   "metadata": {},
   "outputs": [
    {
     "name": "stdout",
     "output_type": "stream",
     "text": [
      "1005\n",
      "41005\n"
     ]
    }
   ],
   "source": [
    "c=4\n",
    "a= '100'\n",
    "b= '5'\n",
    "print(a+b)\n",
    "print (str(c)+ a+b)"
   ]
  },
  {
   "cell_type": "code",
   "execution_count": 64,
   "metadata": {},
   "outputs": [
    {
     "name": "stdout",
     "output_type": "stream",
     "text": [
      "109\n"
     ]
    }
   ],
   "source": [
    "c=4\n",
    "a= '100'\n",
    "b= '5'\n",
    "\n",
    "print (c+ int(a)+ int(b))"
   ]
  },
  {
   "cell_type": "markdown",
   "metadata": {},
   "source": [
    "# boolean"
   ]
  },
  {
   "cell_type": "code",
   "execution_count": 27,
   "metadata": {},
   "outputs": [
    {
     "data": {
      "text/plain": [
       "False"
      ]
     },
     "execution_count": 27,
     "metadata": {},
     "output_type": "execute_result"
    }
   ],
   "source": [
    "a = True\n",
    "b= False\n",
    "\n",
    "# a and b\n",
    "# a or b \n",
    "b and not(a)"
   ]
  },
  {
   "cell_type": "code",
   "execution_count": 72,
   "metadata": {},
   "outputs": [
    {
     "name": "stdout",
     "output_type": "stream",
     "text": [
      "Enter a number:'fggg'\n"
     ]
    }
   ],
   "source": [
    "number = eval(input('Enter a number:'))\n"
   ]
  },
  {
   "cell_type": "code",
   "execution_count": 73,
   "metadata": {},
   "outputs": [
    {
     "name": "stdout",
     "output_type": "stream",
     "text": [
      "Enter a number:7\n"
     ]
    },
    {
     "data": {
      "text/plain": [
       "17"
      ]
     },
     "execution_count": 73,
     "metadata": {},
     "output_type": "execute_result"
    }
   ],
   "source": [
    "eval(input('Enter a number:')) +10"
   ]
  },
  {
   "cell_type": "code",
   "execution_count": 75,
   "metadata": {},
   "outputs": [
    {
     "name": "stdout",
     "output_type": "stream",
     "text": [
      "99\n",
      "44\n"
     ]
    }
   ],
   "source": [
    "a,b = 99, 44\n",
    "print(a)\n",
    "print(b)"
   ]
  },
  {
   "cell_type": "code",
   "execution_count": 4,
   "metadata": {},
   "outputs": [
    {
     "name": "stdout",
     "output_type": "stream",
     "text": [
      "6\n"
     ]
    }
   ],
   "source": [
    "def mul_(a, b):\n",
    "    temp = a * b\n",
    "    return temp\n",
    "\n",
    "print(mul_(2,3))\n",
    "\n"
   ]
  },
  {
   "cell_type": "code",
   "execution_count": 7,
   "metadata": {},
   "outputs": [
    {
     "name": "stdout",
     "output_type": "stream",
     "text": [
      "7\n",
      "8\n"
     ]
    },
    {
     "data": {
      "text/plain": [
       "15"
      ]
     },
     "execution_count": 7,
     "metadata": {},
     "output_type": "execute_result"
    }
   ],
   "source": [
    "def sum_(a, b):\n",
    "    temp = a + b\n",
    "    return temp\n",
    "\n",
    "x = input()\n",
    "y = input()\n",
    "sum_(int(x), int(y))"
   ]
  },
  {
   "cell_type": "code",
   "execution_count": 25,
   "metadata": {},
   "outputs": [
    {
     "name": "stdout",
     "output_type": "stream",
     "text": [
      "  *********\n",
      "   ********\n",
      "    *******\n",
      "     ******\n",
      "      *****\n",
      "       ****\n",
      "        ***\n",
      "         **\n"
     ]
    }
   ],
   "source": [
    "n=10\n",
    "for i in range (1,9):\n",
    "    print(i * ' ', (n-i)*'*')\n"
   ]
  },
  {
   "cell_type": "code",
   "execution_count": 22,
   "metadata": {},
   "outputs": [
    {
     "name": "stdout",
     "output_type": "stream",
     "text": [
      "**********\n",
      " *********\n",
      "  ********\n",
      "   *******\n",
      "    ******\n",
      "     *****\n",
      "      ****\n",
      "       ***\n",
      "        **\n",
      "         *\n"
     ]
    }
   ],
   "source": [
    "def polstar (n):\n",
    "    for i in range (n):\n",
    "        for j in range (i):\n",
    "            print(' ', end= '')\n",
    "            \n",
    "            for j in range(n-i):\n",
    "                print('*', end= '')\n",
    "                \n",
    "            print()\n",
    "polstar(10)                \n",
    "                "
   ]
  },
  {
   "cell_type": "code",
   "execution_count": 42,
   "metadata": {},
   "outputs": [
    {
     "name": "stdout",
     "output_type": "stream",
     "text": [
      "Please enter a degree8\n",
      "46.4\n"
     ]
    }
   ],
   "source": [
    "\n",
    "c=int((input('Please enter a degree')))\n",
    "\n",
    "F= (9/5*c) +32\n",
    "   print(F)   "
   ]
  },
  {
   "cell_type": "code",
   "execution_count": 49,
   "metadata": {},
   "outputs": [
    {
     "name": "stdout",
     "output_type": "stream",
     "text": [
      "Please enter a celsius number:7\n",
      "Celsius: 7 to Farenheit : 44.6\n"
     ]
    }
   ],
   "source": [
    "\n",
    "# def c2f (c):\n",
    "#   f= (9/5) * c +32\n",
    "#   return f\n",
    "\n",
    "\n",
    "def main():\n",
    "    c= int(input('Please enter a celsius number:'))\n",
    "    f= (9/5) * c +32\n",
    "    print('Celsius:', c, 'to Farenheit :', f )\n",
    "    \n",
    "main()    "
   ]
  },
  {
   "cell_type": "code",
   "execution_count": 61,
   "metadata": {},
   "outputs": [
    {
     "name": "stdout",
     "output_type": "stream",
     "text": [
      "This program finds the real solutions to a quadratic\n",
      "Enter the value of coefficient a:7\n",
      "Enter the value of coefficient b:8\n",
      "Enter the value of coefficient c:8\n",
      "\n",
      "The solutions are : (-0.5714285714285714-0.9035079029052513j) (-0.5714285714285714+0.9035079029052513j)\n"
     ]
    }
   ],
   "source": [
    "def rootsQEq():\n",
    "    print('This program finds the real solutions to a quadratic')\n",
    "    print()\n",
    "    \n",
    "    \n",
    "    a= eval(input('Enter the value of coefficient a:'))\n",
    "    b= eval(input('Enter the value of coefficient b:'))\n",
    "    c= eval(input('Enter the value of coefficient c:'))\n",
    "    \n",
    "    \n",
    "    s_root_val = (b*b- 4*a*c)  ** 0.5\n",
    "    \n",
    "    root1 = (-b-s_root_val)/(2*a)\n",
    "    \n",
    "    root2 = (-b+s_root_val)/(2*a)\n",
    "    \n",
    "    print()\n",
    "    print('The solutions are :', root1, root2)\n",
    "    \n",
    "    \n",
    "    \n",
    "rootsQEq()\n",
    "    \n"
   ]
  },
  {
   "cell_type": "code",
   "execution_count": null,
   "metadata": {},
   "outputs": [],
   "source": [
    "def rootsQEq():\n",
    "    print('This program finds the real solutions to a quadratic')\n",
    "    print()\n",
    "    \n",
    "    \n",
    "    a= eval(input('Enter the value of coefficient a:'))\n",
    "    b= eval(input('Enter the value of coefficient b:'))\n",
    "    c= eval(input('Enter the value of coefficient c:'))\n",
    "    \n",
    "    \n",
    "    s_root_val = (b*b- 4*a*c)  ** 0.5\n",
    "    \n",
    "    root1 = (-b-s_root_val)/(2*a)\n",
    "    \n",
    "    root2 = (-b+s_root_val)/(2*a)\n",
    "    \n",
    "    print()\n",
    "    print('The solutions are :', root1, root2)\n",
    "    \n",
    "    \n",
    "    \n",
    "rootsQEq()"
   ]
  },
  {
   "cell_type": "code",
   "execution_count": 4,
   "metadata": {},
   "outputs": [
    {
     "name": "stdout",
     "output_type": "stream",
     "text": [
      "This program finds the real solutions to a quadratic\n",
      "\n",
      "Enter the value of coefficient a:4\n",
      "Enter the value of coefficient b:1\n",
      "Enter the value of coefficient c:8\n",
      "The equation has no real roots\n"
     ]
    }
   ],
   "source": [
    "import math\n",
    "\n",
    "def rootsQEq():\n",
    "    print('This program finds the real solutions to a quadratic')\n",
    "    print()\n",
    "    \n",
    "    a= eval(input('Enter the value of coefficient a:'))\n",
    "    b= eval(input('Enter the value of coefficient b:'))\n",
    "    c= eval(input('Enter the value of coefficient c:'))\n",
    "\n",
    "    discriminant = b*b- 4*a*c\n",
    "    \n",
    "    if discriminant <0:\n",
    "        print('The equation has no real roots')\n",
    "    else:\n",
    "        s_root_val= math.sqrt(discriminant)\n",
    "    \n",
    "        root1 = (-b- s_root_val)/(2*a)\n",
    "        root2 = (-b+ s_root_val)/(2*a)\n",
    "        print('\\nThe solutions are :', root1, root2)\n",
    "    \n",
    "rootsQEq()"
   ]
  },
  {
   "cell_type": "code",
   "execution_count": 6,
   "metadata": {},
   "outputs": [
    {
     "name": "stdout",
     "output_type": "stream",
     "text": [
      "This program finds the real solutions to a quadratic\n",
      "\n",
      "Enter the value of coefficient a:1\n",
      "Enter the value of coefficient b:2\n",
      "Enter the value of coefficient c:1\n",
      "\n",
      "The solution is: -1.0\n"
     ]
    }
   ],
   "source": [
    "import math\n",
    "\n",
    "def rootsQEq():\n",
    "    print('This program finds the real solutions to a quadratic')\n",
    "    print()\n",
    "    \n",
    "    a= eval(input('Enter the value of coefficient a:'))\n",
    "    b= eval(input('Enter the value of coefficient b:'))\n",
    "    c= eval(input('Enter the value of coefficient c:'))\n",
    "\n",
    "    discriminant = b*b- 4*a*c\n",
    "    \n",
    "    if discriminant !=0:\n",
    "        s_root_val= math.sqrt(discriminant)\n",
    "    \n",
    "        root1 = (-b- s_root_val)/(2*a)\n",
    "        root2 = (-b+ s_root_val)/(2*a)\n",
    "        print('\\nThe solutions are :', root1, root2)\n",
    "    else:\n",
    "        root = (-b)/(2*a)\n",
    "        print('\\nThe solution is:', root)\n",
    "        \n",
    "    \n",
    "rootsQEq()"
   ]
  },
  {
   "cell_type": "code",
   "execution_count": 91,
   "metadata": {},
   "outputs": [
    {
     "name": "stdout",
     "output_type": "stream",
     "text": [
      "          *\n",
      "         ***\n",
      "        *****\n",
      "       *******\n",
      "      *********\n",
      "     ***********\n",
      "    *************\n",
      "   ***************\n",
      "  *****************\n",
      " *******************\n"
     ]
    }
   ],
   "source": [
    "n=10\n",
    "for i in range (n):\n",
    "    for j in range ((n-i)):\n",
    "        print(' ', end= '')\n",
    "\n",
    "    for j in range(2*i+1):\n",
    "        print('*', end= '')\n",
    "                \n",
    "    print()"
   ]
  },
  {
   "cell_type": "code",
   "execution_count": 92,
   "metadata": {},
   "outputs": [
    {
     "name": "stdout",
     "output_type": "stream",
     "text": [
      "          *\n",
      "         ***\n",
      "        *****\n",
      "       *******\n",
      "      *********\n",
      "     ***********\n",
      "    *************\n",
      "   ***************\n",
      "  *****************\n",
      " *******************\n"
     ]
    }
   ],
   "source": [
    "def polstar (n=15):\n",
    " for i in range (n):\n",
    "    for j in range (n-i):\n",
    "        \n",
    "#         این پرینت حالت ستاره ای ایجاد می کنه\n",
    "        print(' ', end= '')\n",
    "            \n",
    "            \n",
    "#      این دو تا j فرق دارن       \n",
    "    for j in range(2*i+1):\n",
    "        print('*', end= '')\n",
    "                \n",
    "    print()\n",
    "polstar(10)                \n",
    "            "
   ]
  },
  {
   "cell_type": "code",
   "execution_count": 79,
   "metadata": {},
   "outputs": [
    {
     "name": "stdout",
     "output_type": "stream",
     "text": [
      "           *\n",
      "          ***\n",
      "         *****\n",
      "        *******\n",
      "       *********\n",
      "      ***********\n",
      "     *************\n",
      "    ***************\n",
      "   *****************\n",
      "  *******************\n"
     ]
    }
   ],
   "source": [
    "def polstar (n=10):\n",
    "  for i in range (1, 2*n, 2):\n",
    "    print((n-(i//2)) * ' ', '*' * i)\n",
    "\n",
    "polstar() "
   ]
  },
  {
   "cell_type": "code",
   "execution_count": 3,
   "metadata": {},
   "outputs": [
    {
     "ename": "NameError",
     "evalue": "name 'n' is not defined",
     "output_type": "error",
     "traceback": [
      "\u001b[1;31m---------------------------------------------------------------------------\u001b[0m",
      "\u001b[1;31mNameError\u001b[0m                                 Traceback (most recent call last)",
      "\u001b[1;32m<ipython-input-3-a9d012c077ee>\u001b[0m in \u001b[0;36m<module>\u001b[1;34m\u001b[0m\n\u001b[0;32m      1\u001b[0m \u001b[1;32mfor\u001b[0m \u001b[0mi\u001b[0m \u001b[1;32min\u001b[0m \u001b[0mrange\u001b[0m \u001b[1;33m(\u001b[0m\u001b[0mm\u001b[0m\u001b[1;33m)\u001b[0m\u001b[1;33m:\u001b[0m\u001b[1;33m\u001b[0m\u001b[1;33m\u001b[0m\u001b[0m\n\u001b[1;32m----> 2\u001b[1;33m     \u001b[0mprint\u001b[0m\u001b[1;33m(\u001b[0m\u001b[1;34m' '\u001b[0m \u001b[1;33m*\u001b[0m \u001b[1;33m(\u001b[0m\u001b[0mn\u001b[0m\u001b[1;33m-\u001b[0m\u001b[0mi\u001b[0m\u001b[1;33m)\u001b[0m\u001b[1;33m,\u001b[0m \u001b[1;34m'*'\u001b[0m \u001b[1;33m*\u001b[0m \u001b[1;33m(\u001b[0m\u001b[1;36m2\u001b[0m\u001b[1;33m*\u001b[0m\u001b[0mi\u001b[0m\u001b[1;33m+\u001b[0m\u001b[1;36m1\u001b[0m\u001b[1;33m)\u001b[0m\u001b[1;33m)\u001b[0m\u001b[1;33m\u001b[0m\u001b[1;33m\u001b[0m\u001b[0m\n\u001b[0m",
      "\u001b[1;31mNameError\u001b[0m: name 'n' is not defined"
     ]
    }
   ],
   "source": [
    "for i in range (m):\n",
    "    print(' ' * (n-i), '*' * (2*i+1))"
   ]
  },
  {
   "cell_type": "code",
   "execution_count": 9,
   "metadata": {},
   "outputs": [
    {
     "ename": "IndentationError",
     "evalue": "unindent does not match any outer indentation level (<tokenize>, line 8)",
     "output_type": "error",
     "traceback": [
      "\u001b[1;36m  File \u001b[1;32m\"<tokenize>\"\u001b[1;36m, line \u001b[1;32m8\u001b[0m\n\u001b[1;33m    return True\u001b[0m\n\u001b[1;37m    ^\u001b[0m\n\u001b[1;31mIndentationError\u001b[0m\u001b[1;31m:\u001b[0m unindent does not match any outer indentation level\n"
     ]
    }
   ],
   "source": [
    "def pass_compare (pass1, pass2):\n",
    "    \n",
    "    if pass1 != pass2: \n",
    "     print(' not correct')\n",
    "     return  False\n",
    "    \n",
    "   return True \n",
    "\n",
    "    \n",
    "    \n",
    "pass_compare (153, 123)\n",
    "    \n",
    "    "
   ]
  },
  {
   "cell_type": "code",
   "execution_count": 4,
   "metadata": {},
   "outputs": [
    {
     "ename": "NameError",
     "evalue": "name 'pass_compare' is not defined",
     "output_type": "error",
     "traceback": [
      "\u001b[1;31m---------------------------------------------------------------------------\u001b[0m",
      "\u001b[1;31mNameError\u001b[0m                                 Traceback (most recent call last)",
      "\u001b[1;32m<ipython-input-4-091f0ef63a97>\u001b[0m in \u001b[0;36m<module>\u001b[1;34m\u001b[0m\n\u001b[1;32m----> 1\u001b[1;33m \u001b[0mpass_compare\u001b[0m \u001b[1;33m(\u001b[0m\u001b[1;36m123\u001b[0m\u001b[1;33m,\u001b[0m \u001b[1;36m123\u001b[0m\u001b[1;33m)\u001b[0m\u001b[1;33m\u001b[0m\u001b[1;33m\u001b[0m\u001b[0m\n\u001b[0m",
      "\u001b[1;31mNameError\u001b[0m: name 'pass_compare' is not defined"
     ]
    }
   ],
   "source": []
  },
  {
   "cell_type": "code",
   "execution_count": 10,
   "metadata": {},
   "outputs": [
    {
     "data": {
      "text/plain": [
       "True"
      ]
     },
     "execution_count": 10,
     "metadata": {},
     "output_type": "execute_result"
    }
   ],
   "source": [
    "'a'< 'b'"
   ]
  },
  {
   "cell_type": "code",
   "execution_count": 11,
   "metadata": {},
   "outputs": [
    {
     "data": {
      "text/plain": [
       "False"
      ]
     },
     "execution_count": 11,
     "metadata": {},
     "output_type": "execute_result"
    }
   ],
   "source": [
    "'aa'<'a'"
   ]
  },
  {
   "cell_type": "code",
   "execution_count": 16,
   "metadata": {},
   "outputs": [
    {
     "name": "stdout",
     "output_type": "stream",
     "text": [
      "correct\n"
     ]
    }
   ],
   "source": [
    "if -30:\n",
    "    print('correct')"
   ]
  },
  {
   "cell_type": "code",
   "execution_count": 19,
   "metadata": {},
   "outputs": [
    {
     "data": {
      "text/plain": [
       "65"
      ]
     },
     "execution_count": 19,
     "metadata": {},
     "output_type": "execute_result"
    }
   ],
   "source": [
    "ord('A')"
   ]
  },
  {
   "cell_type": "code",
   "execution_count": 25,
   "metadata": {},
   "outputs": [
    {
     "data": {
      "text/plain": [
       "False"
      ]
     },
     "execution_count": 25,
     "metadata": {},
     "output_type": "execute_result"
    }
   ],
   "source": [
    "'aello'< 'AhgfglO'"
   ]
  },
  {
   "cell_type": "code",
   "execution_count": 26,
   "metadata": {},
   "outputs": [
    {
     "name": "stdout",
     "output_type": "stream",
     "text": [
      "True\n"
     ]
    }
   ],
   "source": [
    " if 1<2<3:\n",
    "        print('True')"
   ]
  },
  {
   "cell_type": "code",
   "execution_count": 27,
   "metadata": {},
   "outputs": [],
   "source": [
    "if 1<2 and 2<3:\n",
    "    print('True')"
   ]
  },
  {
   "cell_type": "code",
   "execution_count": 28,
   "metadata": {},
   "outputs": [
    {
     "data": {
      "text/plain": [
       "False"
      ]
     },
     "execution_count": 28,
     "metadata": {},
     "output_type": "execute_result"
    }
   ],
   "source": [
    "x = True\n",
    "not x"
   ]
  },
  {
   "cell_type": "code",
   "execution_count": 30,
   "metadata": {},
   "outputs": [],
   "source": [
    "if x == 'a' or x=='b':\n",
    "    print( 'True')"
   ]
  },
  {
   "cell_type": "code",
   "execution_count": 32,
   "metadata": {},
   "outputs": [
    {
     "name": "stdout",
     "output_type": "stream",
     "text": [
      "OK\n"
     ]
    }
   ],
   "source": [
    "temp = 40\n",
    "if temp <50 and temp>30:\n",
    "    print('OK')"
   ]
  },
  {
   "cell_type": "code",
   "execution_count": 34,
   "metadata": {},
   "outputs": [
    {
     "name": "stdout",
     "output_type": "stream",
     "text": [
      "ok\n"
     ]
    }
   ],
   "source": [
    "x= 'covid-19'\n",
    "\n",
    "sequence= 'fkndjkahbl;dkfsklnf lzkvilknv,mzvmvfd'\n",
    "\n",
    "if x not in sequence:\n",
    "    print('ok')\n",
    "    "
   ]
  },
  {
   "cell_type": "code",
   "execution_count": null,
   "metadata": {},
   "outputs": [],
   "source": []
  }
 ],
 "metadata": {
  "kernelspec": {
   "display_name": "Python 3",
   "language": "python",
   "name": "python3"
  },
  "language_info": {
   "codemirror_mode": {
    "name": "ipython",
    "version": 3
   },
   "file_extension": ".py",
   "mimetype": "text/x-python",
   "name": "python",
   "nbconvert_exporter": "python",
   "pygments_lexer": "ipython3",
   "version": "3.8.5"
  }
 },
 "nbformat": 4,
 "nbformat_minor": 4
}
