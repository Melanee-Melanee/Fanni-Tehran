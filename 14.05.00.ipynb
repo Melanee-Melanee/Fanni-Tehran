{
 "cells": [
  {
   "cell_type": "code",
   "execution_count": null,
   "metadata": {},
   "outputs": [],
   "source": [
    "l = ['shafga', 'ay', 'al', 'za']\n",
    "print(len(l))\n",
    "     "
   ]
  },
  {
   "cell_type": "code",
   "execution_count": null,
   "metadata": {},
   "outputs": [],
   "source": []
  },
  {
   "cell_type": "code",
   "execution_count": null,
   "metadata": {},
   "outputs": [],
   "source": [
    "for s in l:\n",
    "    print(s, ':\\t', len(str(s)))"
   ]
  },
  {
   "cell_type": "code",
   "execution_count": null,
   "metadata": {},
   "outputs": [],
   "source": [
    "#this code is same as above\n",
    "for i in range(len(l)):\n",
    "    print(l[i], ':\\t', len(l[i]))"
   ]
  },
  {
   "cell_type": "code",
   "execution_count": null,
   "metadata": {},
   "outputs": [],
   "source": [
    "l = [ 17.3, 17.75, 19]\n",
    "for s in l:\n",
    "    print(s, ':\\t', len(str(s)))\n"
   ]
  },
  {
   "cell_type": "code",
   "execution_count": null,
   "metadata": {},
   "outputs": [],
   "source": [
    "l = ['shafga', 'ay', 'al', 'za', 17.3, 17.75, 19]\n",
    "for s in l:\n",
    "    print(s, ':\\t', len(str(s)))\n"
   ]
  },
  {
   "cell_type": "code",
   "execution_count": null,
   "metadata": {},
   "outputs": [],
   "source": [
    "#print all\n",
    "l[:]"
   ]
  },
  {
   "cell_type": "code",
   "execution_count": null,
   "metadata": {},
   "outputs": [],
   "source": [
    "#print all\n",
    "l[::]"
   ]
  },
  {
   "cell_type": "code",
   "execution_count": null,
   "metadata": {},
   "outputs": [],
   "source": [
    "l4 = [i for i in range(50)]\n",
    "l4[-2:3]\n"
   ]
  },
  {
   "cell_type": "code",
   "execution_count": null,
   "metadata": {},
   "outputs": [],
   "source": [
    "l4[-1::]"
   ]
  },
  {
   "cell_type": "code",
   "execution_count": null,
   "metadata": {},
   "outputs": [],
   "source": [
    "l4 [::-1]"
   ]
  },
  {
   "cell_type": "code",
   "execution_count": null,
   "metadata": {},
   "outputs": [],
   "source": [
    "l4[4:3]"
   ]
  },
  {
   "cell_type": "code",
   "execution_count": null,
   "metadata": {},
   "outputs": [],
   "source": [
    "#[start:stop:step]\n",
    "l4[0:10:2]"
   ]
  },
  {
   "cell_type": "code",
   "execution_count": null,
   "metadata": {},
   "outputs": [],
   "source": [
    "l4[2::5]"
   ]
  },
  {
   "cell_type": "code",
   "execution_count": null,
   "metadata": {},
   "outputs": [],
   "source": [
    "l4[::5]"
   ]
  },
  {
   "cell_type": "code",
   "execution_count": null,
   "metadata": {},
   "outputs": [],
   "source": [
    "l4[5::]"
   ]
  },
  {
   "cell_type": "code",
   "execution_count": null,
   "metadata": {},
   "outputs": [],
   "source": [
    "l4[::-5]"
   ]
  },
  {
   "cell_type": "code",
   "execution_count": null,
   "metadata": {},
   "outputs": [],
   "source": [
    "l4[-5::]"
   ]
  },
  {
   "cell_type": "code",
   "execution_count": null,
   "metadata": {},
   "outputs": [],
   "source": [
    "l3 = [3, 4, 5, 89, 34, 2]\n",
    "l5 = l3"
   ]
  },
  {
   "cell_type": "code",
   "execution_count": null,
   "metadata": {},
   "outputs": [],
   "source": [
    "l5"
   ]
  },
  {
   "cell_type": "code",
   "execution_count": null,
   "metadata": {},
   "outputs": [],
   "source": [
    "l3 is l5"
   ]
  },
  {
   "cell_type": "code",
   "execution_count": null,
   "metadata": {},
   "outputs": [],
   "source": [
    "l6 = l5.copy()\n",
    "l6"
   ]
  },
  {
   "cell_type": "code",
   "execution_count": null,
   "metadata": {},
   "outputs": [],
   "source": [
    "l5[::-1]"
   ]
  },
  {
   "cell_type": "code",
   "execution_count": null,
   "metadata": {},
   "outputs": [],
   "source": [
    "l5[::-2]"
   ]
  },
  {
   "cell_type": "code",
   "execution_count": null,
   "metadata": {},
   "outputs": [],
   "source": [
    "for i in range(len(l5)):\n",
    "    print(l5[len(l5)-i-1], end= ', ')"
   ]
  },
  {
   "cell_type": "code",
   "execution_count": null,
   "metadata": {},
   "outputs": [],
   "source": [
    "c = len(l5)\n",
    "for i in range (c):\n",
    "    print(l5[c-i-1], end= ', ')"
   ]
  },
  {
   "cell_type": "code",
   "execution_count": null,
   "metadata": {},
   "outputs": [],
   "source": [
    "c = len(l5)\n",
    "i = 0\n",
    "while i < c:\n",
    "    print(l5[c-i-1], end = ', ')\n",
    "    i+=1"
   ]
  },
  {
   "cell_type": "code",
   "execution_count": null,
   "metadata": {},
   "outputs": [],
   "source": [
    "l5.reverse()\n",
    "l5"
   ]
  },
  {
   "cell_type": "code",
   "execution_count": null,
   "metadata": {},
   "outputs": [],
   "source": [
    "mylist = [1,2,3]\n",
    "mylist[0]"
   ]
  },
  {
   "cell_type": "code",
   "execution_count": null,
   "metadata": {},
   "outputs": [],
   "source": [
    "mylist[0]= 56\n",
    "mylist[0]"
   ]
  },
  {
   "cell_type": "code",
   "execution_count": null,
   "metadata": {},
   "outputs": [],
   "source": [
    "mylist"
   ]
  },
  {
   "cell_type": "code",
   "execution_count": null,
   "metadata": {},
   "outputs": [],
   "source": [
    "mylist=[]\n",
    "print(mylist)\n",
    "mylist.append(1)\n",
    "mylist.append(2)\n",
    "mylist.append('Done')\n",
    "print(mylist)"
   ]
  },
  {
   "cell_type": "code",
   "execution_count": null,
   "metadata": {},
   "outputs": [],
   "source": [
    "string = 'Hello world'\n",
    "string.replace('o', str(ord('o')))"
   ]
  },
  {
   "cell_type": "code",
   "execution_count": null,
   "metadata": {},
   "outputs": [],
   "source": [
    "def inputee():\n",
    "    \n",
    "    my_list = []\n",
    "    while True:\n",
    "        \n",
    "        l =input('Enter a number:')\n",
    "        my_list.append(l)\n",
    "        co = input('your input is finished yes or no?',)\n",
    "        if co == 'yes':\n",
    "            break\n",
    "        \n",
    "        \n",
    "    return my_list        "
   ]
  },
  {
   "cell_type": "code",
   "execution_count": null,
   "metadata": {},
   "outputs": [],
   "source": [
    "inputee()"
   ]
  },
  {
   "cell_type": "code",
   "execution_count": null,
   "metadata": {},
   "outputs": [],
   "source": [
    "#we want to print each array of this list\n",
    "my2DList= [[1,2,3], [4,5,6]]\n",
    "for i in range(len(my2DList)):\n",
    "    for j in range(len(my2DList[i])):\n",
    "        print(my2DList[i][j], end = '')\n",
    "        \n",
    "    print()   "
   ]
  },
  {
   "cell_type": "code",
   "execution_count": null,
   "metadata": {},
   "outputs": [],
   "source": [
    "my2DList= [[1,2,3], [4,5,6]]\n",
    "for i in my2DList:\n",
    "    for j in my2DList:\n",
    "        print(j, end= \" \")\n",
    "        \n",
    "    print()    "
   ]
  },
  {
   "cell_type": "code",
   "execution_count": null,
   "metadata": {},
   "outputs": [],
   "source": [
    "mylist = [100, 200, 300, 400, 'python']\n",
    "mylist.remove('python')\n",
    "print(mylist)"
   ]
  },
  {
   "cell_type": "code",
   "execution_count": null,
   "metadata": {},
   "outputs": [],
   "source": [
    "mylist.insert(0, 600)\n",
    "print(mylist)"
   ]
  },
  {
   "cell_type": "code",
   "execution_count": null,
   "metadata": {},
   "outputs": [],
   "source": [
    "ll = [8, 3, 5, 12]\n",
    "print(ll.reverse())"
   ]
  },
  {
   "cell_type": "code",
   "execution_count": null,
   "metadata": {},
   "outputs": [],
   "source": [
    "print(ll.sort())"
   ]
  },
  {
   "cell_type": "code",
   "execution_count": null,
   "metadata": {},
   "outputs": [],
   "source": [
    "def salamkon(name):\n",
    "    return 'salam ' + name\n",
    "myList = ['ali', 'ahmad', 'shayan']\n",
    "y= list(map(salamkon, myList))\n",
    "for i in y:\n",
    "    print(i)"
   ]
  },
  {
   "cell_type": "code",
   "execution_count": null,
   "metadata": {},
   "outputs": [],
   "source": [
    "#we want to create a 5x5 matrix\n",
    "#x is row, y is column\n",
    "n = 6\n",
    "a = [[x+5*y for x in range(n)] for y in range(n)]"
   ]
  },
  {
   "cell_type": "code",
   "execution_count": null,
   "metadata": {},
   "outputs": [],
   "source": [
    "a"
   ]
  },
  {
   "cell_type": "code",
   "execution_count": null,
   "metadata": {},
   "outputs": [],
   "source": [
    "# n= 5\n",
    "# b = []\n",
    "# for x in range(n):\n",
    "#     for y in range(n):\n",
    "#         b.append(x+5*y)\n",
    "        \n",
    "# print(b)        "
   ]
  },
  {
   "cell_type": "code",
   "execution_count": 3,
   "metadata": {},
   "outputs": [
    {
     "data": {
      "text/plain": [
       "[[0, 1, 2, 3, 4],\n",
       " [5, 6, 7, 8, 9],\n",
       " [10, 11, 12, 13, 14],\n",
       " [15, 16, 17, 18, 19],\n",
       " [20, 21, 22, 23, 24]]"
      ]
     },
     "execution_count": 3,
     "metadata": {},
     "output_type": "execute_result"
    }
   ],
   "source": [
    "n = 5\n",
    "b = [[x+5*y for x in range(n)] for y in range(n)]\n",
    "b"
   ]
  },
  {
   "cell_type": "code",
   "execution_count": null,
   "metadata": {},
   "outputs": [],
   "source": [
    "##میخوایم  a و  b رو جمع کنبم\n",
    "n = 5\n",
    "c = [[0 for x in range(n)] for y in range(n)]\n",
    "for i in range(len(a)):\n",
    "    for j in range(len(a[i])):\n",
    "        c[i][j] = a[i][j] + b[i][j]\n",
    "        \n",
    "c        \n",
    "        "
   ]
  },
  {
   "cell_type": "code",
   "execution_count": null,
   "metadata": {},
   "outputs": [],
   "source": [
    "List1 = [x for x in range(10)]\n",
    "List1"
   ]
  },
  {
   "cell_type": "code",
   "execution_count": null,
   "metadata": {},
   "outputs": [],
   "source": [
    "List2 = [x + 1 for x in range(10)]\n",
    "List2"
   ]
  },
  {
   "cell_type": "code",
   "execution_count": null,
   "metadata": {},
   "outputs": [],
   "source": [
    "List3 = [x+5 for x in range(10) if x % 2 == 0]\n",
    "List3"
   ]
  },
  {
   "cell_type": "code",
   "execution_count": null,
   "metadata": {},
   "outputs": [],
   "source": [
    "l= [1,2,3]\n",
    "l.remove(3)\n",
    "l\n"
   ]
  },
  {
   "cell_type": "code",
   "execution_count": null,
   "metadata": {},
   "outputs": [],
   "source": [
    "l.append(7)\n",
    "l"
   ]
  },
  {
   "cell_type": "code",
   "execution_count": null,
   "metadata": {},
   "outputs": [],
   "source": [
    "#کاربرد  del در پاک کردن حافظه\n",
    "s= [1,2,3]\n",
    "del s\n",
    "s\n",
    "#when you clear a list, you see this error: NameError: name 's' is not defined"
   ]
  },
  {
   "cell_type": "code",
   "execution_count": null,
   "metadata": {},
   "outputs": [],
   "source": [
    "#fibonacci\n",
    "k = 100\n",
    "c= 0\n",
    "f1 = 0\n",
    "f2 = 1\n",
    "print(f1, '\\t', f2)\n",
    "while True:\n",
    "    f1, f2 = f2, f2 + f1\n",
    "    print(f2, end= '\\t')\n",
    "    \n",
    "    c+=1\n",
    "    if c>=100:\n",
    "        break\n",
    "\n"
   ]
  },
  {
   "cell_type": "code",
   "execution_count": null,
   "metadata": {},
   "outputs": [],
   "source": [
    "# all_patient = []\n",
    "# def Input():\n",
    "#     patient = []\n",
    "#     sno = input('Enter a serial number:')\n",
    "#     name = input('Enter patient name:')\n",
    "    \n",
    "#     patient.append(sno)\n",
    "#     patient. append(name)\n",
    "    \n",
    "#     return patient\n",
    "# Input()"
   ]
  },
  {
   "cell_type": "code",
   "execution_count": null,
   "metadata": {},
   "outputs": [],
   "source": [
    "# all_patient = []\n",
    "# patient = Input()\n",
    "# all_patient.append(patient)"
   ]
  },
  {
   "cell_type": "code",
   "execution_count": 11,
   "metadata": {},
   "outputs": [],
   "source": [
    "all_patient = []\n",
    "\n",
    "def Input():\n",
    "    patient = []\n",
    "    \n",
    "    name = input('Enter patient name:')\n",
    "    age = input('Enter your age:')\n",
    "    birth = input('Inter your birth location:')\n",
    "    sno = input('Enter a serial number:')\n",
    "    \n",
    "    patient.append(name)\n",
    "    patient.append(age)\n",
    "    patient.append(birth)\n",
    "    patient.append(sno)\n",
    "    \n",
    "    return patient\n"
   ]
  },
  {
   "cell_type": "code",
   "execution_count": 14,
   "metadata": {},
   "outputs": [
    {
     "name": "stdout",
     "output_type": "stream",
     "text": [
      "How many patient do you have:2\n",
      "Enter patient name:shaghayegh\n",
      "Enter your age:65\n",
      "Inter your birth location:tehran\n",
      "Enter a serial number:hgtr\n",
      "Enter patient name:zahra\n",
      "Enter your age:43\n",
      "Inter your birth location:sweden\n",
      "Enter a serial number:jhgfg\n",
      "[['shaghayegh', '65', 'tehran', 'hgtr'], ['zahra', '43', 'sweden', 'jhgfg']]\n"
     ]
    }
   ],
   "source": [
    "all_patient = []\n",
    "n = int(input('How many patient do you have:'))\n",
    "for i in range(n):\n",
    "    patient = Input()\n",
    "    all_patient.append(patient)   \n",
    "print(all_patient)\n"
   ]
  },
  {
   "cell_type": "code",
   "execution_count": null,
   "metadata": {},
   "outputs": [],
   "source": [
    "import random\n",
    "def buildSquareMatrix(m,n):\n",
    "    if m==n:\n",
    "        matrix=[]\n",
    "        for i in range(n):\n",
    "            r=[]\n",
    "            for j in range(n):\n",
    "                r.append(random.randint(1,100))\n",
    "            matrix.append(r)\n",
    "        return matrix\n",
    "    else:\n",
    "        return ('This funtion builds only square matrices with random integers\\n')\n",
    "    \n",
    "buildSquareMatrix(m,n)"
   ]
  },
  {
   "cell_type": "code",
   "execution_count": null,
   "metadata": {},
   "outputs": [],
   "source": [
    "def addMatrices(a,b):\n",
    "    m=n=len(a)\n",
    "    c=[]\n",
    "    for i in range(m):\n",
    "        r=[]\n",
    "        for j in range(n):\n",
    "            r.append(a[i][j] + b[i][j])\n",
    "        c.append(r)\n",
    "    return c                  "
   ]
  },
  {
   "cell_type": "code",
   "execution_count": null,
   "metadata": {},
   "outputs": [],
   "source": [
    "def printMatrix(a):\n",
    "    for i in a:\n",
    "        for j in i:\n",
    "            print(j, end= '\\t')\n",
    "        print()    \n",
    "    print()    \n",
    "    \n",
    "a= buildSquareMatrix (5, 5)\n",
    "b= buildSquareMatrix (5, 5)\n",
    "printMatrix(a)\n",
    "printMatrix(b)\n",
    "c=addMatrices(a, b)\n",
    "printMatrix(c)   \n",
    "        "
   ]
  },
  {
   "cell_type": "code",
   "execution_count": null,
   "metadata": {},
   "outputs": [],
   "source": []
  },
  {
   "cell_type": "code",
   "execution_count": null,
   "metadata": {},
   "outputs": [],
   "source": []
  }
 ],
 "metadata": {
  "kernelspec": {
   "display_name": "Python 3",
   "language": "python",
   "name": "python3"
  },
  "language_info": {
   "codemirror_mode": {
    "name": "ipython",
    "version": 3
   },
   "file_extension": ".py",
   "mimetype": "text/x-python",
   "name": "python",
   "nbconvert_exporter": "python",
   "pygments_lexer": "ipython3",
   "version": "3.8.5"
  }
 },
 "nbformat": 4,
 "nbformat_minor": 5
}
