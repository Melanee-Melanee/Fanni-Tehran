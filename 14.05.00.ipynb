{
 "cells": [
  {
   "cell_type": "code",
   "execution_count": 15,
   "metadata": {},
   "outputs": [
    {
     "name": "stdout",
     "output_type": "stream",
     "text": [
      "4\n"
     ]
    }
   ],
   "source": [
    "l = ['shafga', 'ay', 'al', 'za']\n",
    "print(len(l))\n",
    "     "
   ]
  },
  {
   "cell_type": "code",
   "execution_count": null,
   "metadata": {},
   "outputs": [],
   "source": []
  },
  {
   "cell_type": "code",
   "execution_count": 16,
   "metadata": {},
   "outputs": [
    {
     "name": "stdout",
     "output_type": "stream",
     "text": [
      "shafga :\t 6\n",
      "ay :\t 2\n",
      "al :\t 2\n",
      "za :\t 2\n"
     ]
    }
   ],
   "source": [
    "for s in l:\n",
    "    print(s, ':\\t', len(str(s)))"
   ]
  },
  {
   "cell_type": "code",
   "execution_count": 17,
   "metadata": {},
   "outputs": [
    {
     "name": "stdout",
     "output_type": "stream",
     "text": [
      "shafga :\t 6\n",
      "ay :\t 2\n",
      "al :\t 2\n",
      "za :\t 2\n"
     ]
    }
   ],
   "source": [
    "#this code is same as above\n",
    "for i in range(len(l)):\n",
    "    print(l[i], ':\\t', len(l[i]))"
   ]
  },
  {
   "cell_type": "code",
   "execution_count": 18,
   "metadata": {},
   "outputs": [
    {
     "name": "stdout",
     "output_type": "stream",
     "text": [
      "17.3 :\t 4\n",
      "17.75 :\t 5\n",
      "19 :\t 2\n"
     ]
    }
   ],
   "source": [
    "l = [ 17.3, 17.75, 19]\n",
    "for s in l:\n",
    "    print(s, ':\\t', len(str(s)))\n"
   ]
  },
  {
   "cell_type": "code",
   "execution_count": 19,
   "metadata": {},
   "outputs": [
    {
     "name": "stdout",
     "output_type": "stream",
     "text": [
      "shafga :\t 6\n",
      "ay :\t 2\n",
      "al :\t 2\n",
      "za :\t 2\n",
      "17.3 :\t 4\n",
      "17.75 :\t 5\n",
      "19 :\t 2\n"
     ]
    }
   ],
   "source": [
    "l = ['shafga', 'ay', 'al', 'za', 17.3, 17.75, 19]\n",
    "for s in l:\n",
    "    print(s, ':\\t', len(str(s)))\n"
   ]
  },
  {
   "cell_type": "code",
   "execution_count": 20,
   "metadata": {},
   "outputs": [
    {
     "data": {
      "text/plain": [
       "['shafga', 'ay', 'al', 'za', 17.3, 17.75, 19]"
      ]
     },
     "execution_count": 20,
     "metadata": {},
     "output_type": "execute_result"
    }
   ],
   "source": [
    "#print all\n",
    "l[:]"
   ]
  },
  {
   "cell_type": "code",
   "execution_count": 21,
   "metadata": {},
   "outputs": [
    {
     "data": {
      "text/plain": [
       "['shafga', 'ay', 'al', 'za', 17.3, 17.75, 19]"
      ]
     },
     "execution_count": 21,
     "metadata": {},
     "output_type": "execute_result"
    }
   ],
   "source": [
    "#print all\n",
    "l[::]"
   ]
  },
  {
   "cell_type": "code",
   "execution_count": 22,
   "metadata": {},
   "outputs": [
    {
     "data": {
      "text/plain": [
       "[]"
      ]
     },
     "execution_count": 22,
     "metadata": {},
     "output_type": "execute_result"
    }
   ],
   "source": [
    "l4 = [i for i in range(50)]\n",
    "l4[-2:3]\n"
   ]
  },
  {
   "cell_type": "code",
   "execution_count": 23,
   "metadata": {},
   "outputs": [
    {
     "data": {
      "text/plain": [
       "[49]"
      ]
     },
     "execution_count": 23,
     "metadata": {},
     "output_type": "execute_result"
    }
   ],
   "source": [
    "l4[-1::]"
   ]
  },
  {
   "cell_type": "code",
   "execution_count": 77,
   "metadata": {},
   "outputs": [
    {
     "data": {
      "text/plain": [
       "[49,\n",
       " 48,\n",
       " 47,\n",
       " 46,\n",
       " 45,\n",
       " 44,\n",
       " 43,\n",
       " 42,\n",
       " 41,\n",
       " 40,\n",
       " 39,\n",
       " 38,\n",
       " 37,\n",
       " 36,\n",
       " 35,\n",
       " 34,\n",
       " 33,\n",
       " 32,\n",
       " 31,\n",
       " 30,\n",
       " 29,\n",
       " 28,\n",
       " 27,\n",
       " 26,\n",
       " 25,\n",
       " 24,\n",
       " 23,\n",
       " 22,\n",
       " 21,\n",
       " 20,\n",
       " 19,\n",
       " 18,\n",
       " 17,\n",
       " 16,\n",
       " 15,\n",
       " 14,\n",
       " 13,\n",
       " 12,\n",
       " 11,\n",
       " 10,\n",
       " 9,\n",
       " 8,\n",
       " 7,\n",
       " 6,\n",
       " 5,\n",
       " 4,\n",
       " 3,\n",
       " 2,\n",
       " 1,\n",
       " 0]"
      ]
     },
     "execution_count": 77,
     "metadata": {},
     "output_type": "execute_result"
    }
   ],
   "source": [
    "l4 [::-1]"
   ]
  },
  {
   "cell_type": "code",
   "execution_count": 25,
   "metadata": {},
   "outputs": [
    {
     "data": {
      "text/plain": [
       "[]"
      ]
     },
     "execution_count": 25,
     "metadata": {},
     "output_type": "execute_result"
    }
   ],
   "source": [
    "l4[4:3]"
   ]
  },
  {
   "cell_type": "code",
   "execution_count": 26,
   "metadata": {},
   "outputs": [
    {
     "data": {
      "text/plain": [
       "[0, 2, 4, 6, 8]"
      ]
     },
     "execution_count": 26,
     "metadata": {},
     "output_type": "execute_result"
    }
   ],
   "source": [
    "#[start:stop:step]\n",
    "l4[0:10:2]"
   ]
  },
  {
   "cell_type": "code",
   "execution_count": 27,
   "metadata": {},
   "outputs": [
    {
     "data": {
      "text/plain": [
       "[2, 7, 12, 17, 22, 27, 32, 37, 42, 47]"
      ]
     },
     "execution_count": 27,
     "metadata": {},
     "output_type": "execute_result"
    }
   ],
   "source": [
    "l4[2::5]"
   ]
  },
  {
   "cell_type": "code",
   "execution_count": 28,
   "metadata": {},
   "outputs": [
    {
     "data": {
      "text/plain": [
       "[0, 5, 10, 15, 20, 25, 30, 35, 40, 45]"
      ]
     },
     "execution_count": 28,
     "metadata": {},
     "output_type": "execute_result"
    }
   ],
   "source": [
    "l4[::5]"
   ]
  },
  {
   "cell_type": "code",
   "execution_count": 29,
   "metadata": {},
   "outputs": [
    {
     "data": {
      "text/plain": [
       "[5,\n",
       " 6,\n",
       " 7,\n",
       " 8,\n",
       " 9,\n",
       " 10,\n",
       " 11,\n",
       " 12,\n",
       " 13,\n",
       " 14,\n",
       " 15,\n",
       " 16,\n",
       " 17,\n",
       " 18,\n",
       " 19,\n",
       " 20,\n",
       " 21,\n",
       " 22,\n",
       " 23,\n",
       " 24,\n",
       " 25,\n",
       " 26,\n",
       " 27,\n",
       " 28,\n",
       " 29,\n",
       " 30,\n",
       " 31,\n",
       " 32,\n",
       " 33,\n",
       " 34,\n",
       " 35,\n",
       " 36,\n",
       " 37,\n",
       " 38,\n",
       " 39,\n",
       " 40,\n",
       " 41,\n",
       " 42,\n",
       " 43,\n",
       " 44,\n",
       " 45,\n",
       " 46,\n",
       " 47,\n",
       " 48,\n",
       " 49]"
      ]
     },
     "execution_count": 29,
     "metadata": {},
     "output_type": "execute_result"
    }
   ],
   "source": [
    "l4[5::]"
   ]
  },
  {
   "cell_type": "code",
   "execution_count": 30,
   "metadata": {},
   "outputs": [
    {
     "data": {
      "text/plain": [
       "[49, 44, 39, 34, 29, 24, 19, 14, 9, 4]"
      ]
     },
     "execution_count": 30,
     "metadata": {},
     "output_type": "execute_result"
    }
   ],
   "source": [
    "l4[::-5]"
   ]
  },
  {
   "cell_type": "code",
   "execution_count": 31,
   "metadata": {},
   "outputs": [
    {
     "data": {
      "text/plain": [
       "[45, 46, 47, 48, 49]"
      ]
     },
     "execution_count": 31,
     "metadata": {},
     "output_type": "execute_result"
    }
   ],
   "source": [
    "l4[-5::]"
   ]
  },
  {
   "cell_type": "code",
   "execution_count": 32,
   "metadata": {},
   "outputs": [],
   "source": [
    "l3 = [3, 4, 5, 89, 34, 2]\n",
    "l5 = l3"
   ]
  },
  {
   "cell_type": "code",
   "execution_count": 33,
   "metadata": {},
   "outputs": [
    {
     "data": {
      "text/plain": [
       "[3, 4, 5, 89, 34, 2]"
      ]
     },
     "execution_count": 33,
     "metadata": {},
     "output_type": "execute_result"
    }
   ],
   "source": [
    "l5"
   ]
  },
  {
   "cell_type": "code",
   "execution_count": 34,
   "metadata": {},
   "outputs": [
    {
     "data": {
      "text/plain": [
       "True"
      ]
     },
     "execution_count": 34,
     "metadata": {},
     "output_type": "execute_result"
    }
   ],
   "source": [
    "l3 is l5"
   ]
  },
  {
   "cell_type": "code",
   "execution_count": 35,
   "metadata": {},
   "outputs": [
    {
     "data": {
      "text/plain": [
       "[3, 4, 5, 89, 34, 2]"
      ]
     },
     "execution_count": 35,
     "metadata": {},
     "output_type": "execute_result"
    }
   ],
   "source": [
    "l6 = l5.copy()\n",
    "l6"
   ]
  },
  {
   "cell_type": "code",
   "execution_count": 36,
   "metadata": {},
   "outputs": [
    {
     "data": {
      "text/plain": [
       "[2, 34, 89, 5, 4, 3]"
      ]
     },
     "execution_count": 36,
     "metadata": {},
     "output_type": "execute_result"
    }
   ],
   "source": [
    "l5[::-1]"
   ]
  },
  {
   "cell_type": "code",
   "execution_count": 37,
   "metadata": {},
   "outputs": [
    {
     "data": {
      "text/plain": [
       "[2, 89, 4]"
      ]
     },
     "execution_count": 37,
     "metadata": {},
     "output_type": "execute_result"
    }
   ],
   "source": [
    "l5[::-2]"
   ]
  },
  {
   "cell_type": "code",
   "execution_count": 84,
   "metadata": {},
   "outputs": [
    {
     "data": {
      "text/plain": [
       "[7, 9, 'k', 2, 2, 2, 2, 34, 89, 5, 4, 3]"
      ]
     },
     "execution_count": 84,
     "metadata": {},
     "output_type": "execute_result"
    }
   ],
   "source": [
    "#Adding Elements To a List\n",
    "kk= [7,9,'k'] + [2,2,2] + l3\n",
    "kk"
   ]
  },
  {
   "cell_type": "code",
   "execution_count": 38,
   "metadata": {},
   "outputs": [
    {
     "name": "stdout",
     "output_type": "stream",
     "text": [
      "2, 34, 89, 5, 4, 3, "
     ]
    }
   ],
   "source": [
    "for i in range(len(l5)):\n",
    "    print(l5[len(l5)-i-1], end= ', ')"
   ]
  },
  {
   "cell_type": "code",
   "execution_count": 39,
   "metadata": {},
   "outputs": [
    {
     "name": "stdout",
     "output_type": "stream",
     "text": [
      "2, 34, 89, 5, 4, 3, "
     ]
    }
   ],
   "source": [
    "c = len(l5)\n",
    "for i in range (c):\n",
    "    print(l5[c-i-1], end= ', ')"
   ]
  },
  {
   "cell_type": "code",
   "execution_count": 40,
   "metadata": {},
   "outputs": [
    {
     "name": "stdout",
     "output_type": "stream",
     "text": [
      "2, 34, 89, 5, 4, 3, "
     ]
    }
   ],
   "source": [
    "c = len(l5)\n",
    "i = 0\n",
    "while i < c:\n",
    "    print(l5[c-i-1], end = ', ')\n",
    "    i+=1"
   ]
  },
  {
   "cell_type": "code",
   "execution_count": 41,
   "metadata": {},
   "outputs": [
    {
     "data": {
      "text/plain": [
       "[2, 34, 89, 5, 4, 3]"
      ]
     },
     "execution_count": 41,
     "metadata": {},
     "output_type": "execute_result"
    }
   ],
   "source": [
    "l5.reverse()\n",
    "l5"
   ]
  },
  {
   "cell_type": "code",
   "execution_count": 42,
   "metadata": {},
   "outputs": [
    {
     "data": {
      "text/plain": [
       "1"
      ]
     },
     "execution_count": 42,
     "metadata": {},
     "output_type": "execute_result"
    }
   ],
   "source": [
    "mylist = [1,2,3]\n",
    "mylist[0]"
   ]
  },
  {
   "cell_type": "code",
   "execution_count": 43,
   "metadata": {},
   "outputs": [
    {
     "data": {
      "text/plain": [
       "56"
      ]
     },
     "execution_count": 43,
     "metadata": {},
     "output_type": "execute_result"
    }
   ],
   "source": [
    "mylist[0]= 56\n",
    "mylist[0]"
   ]
  },
  {
   "cell_type": "code",
   "execution_count": 44,
   "metadata": {},
   "outputs": [
    {
     "data": {
      "text/plain": [
       "[56, 2, 3]"
      ]
     },
     "execution_count": 44,
     "metadata": {},
     "output_type": "execute_result"
    }
   ],
   "source": [
    "mylist"
   ]
  },
  {
   "cell_type": "code",
   "execution_count": 45,
   "metadata": {},
   "outputs": [
    {
     "name": "stdout",
     "output_type": "stream",
     "text": [
      "[]\n",
      "[1, 2, 'Done']\n"
     ]
    }
   ],
   "source": [
    "mylist=[]\n",
    "print(mylist)\n",
    "mylist.append(1)\n",
    "mylist.append(2)\n",
    "mylist.append('Done')\n",
    "print(mylist)"
   ]
  },
  {
   "cell_type": "code",
   "execution_count": 46,
   "metadata": {},
   "outputs": [
    {
     "data": {
      "text/plain": [
       "'Hell111 w111rld'"
      ]
     },
     "execution_count": 46,
     "metadata": {},
     "output_type": "execute_result"
    }
   ],
   "source": [
    "string = 'Hello world'\n",
    "string.replace('o', str(ord('o')))"
   ]
  },
  {
   "cell_type": "code",
   "execution_count": 47,
   "metadata": {},
   "outputs": [],
   "source": [
    "def inputee():\n",
    "    \n",
    "    my_list = []\n",
    "    while True:\n",
    "        \n",
    "        l =input('Enter a number:')\n",
    "        my_list.append(l)\n",
    "        co = input('your input is finished yes or no?',)\n",
    "        if co == 'yes':\n",
    "            break\n",
    "        \n",
    "        \n",
    "    return my_list        "
   ]
  },
  {
   "cell_type": "code",
   "execution_count": 48,
   "metadata": {},
   "outputs": [
    {
     "name": "stdout",
     "output_type": "stream",
     "text": [
      "Enter a number:2\n",
      "your input is finished yes or no?no\n",
      "Enter a number:3\n",
      "your input is finished yes or no?yes\n"
     ]
    },
    {
     "data": {
      "text/plain": [
       "['2', '3']"
      ]
     },
     "execution_count": 48,
     "metadata": {},
     "output_type": "execute_result"
    }
   ],
   "source": [
    "inputee()"
   ]
  },
  {
   "cell_type": "code",
   "execution_count": 49,
   "metadata": {},
   "outputs": [
    {
     "name": "stdout",
     "output_type": "stream",
     "text": [
      "123\n",
      "456\n"
     ]
    }
   ],
   "source": [
    "#we want to print each array of this list\n",
    "my2DList= [[1,2,3], [4,5,6]]\n",
    "for i in range(len(my2DList)):\n",
    "    for j in range(len(my2DList[i])):\n",
    "        print(my2DList[i][j], end = '')\n",
    "        \n",
    "    print()   "
   ]
  },
  {
   "cell_type": "code",
   "execution_count": 50,
   "metadata": {},
   "outputs": [
    {
     "name": "stdout",
     "output_type": "stream",
     "text": [
      "[1, 2, 3] [4, 5, 6] \n",
      "[1, 2, 3] [4, 5, 6] \n"
     ]
    }
   ],
   "source": [
    "my2DList= [[1,2,3], [4,5,6]]\n",
    "for i in my2DList:\n",
    "    for j in my2DList:\n",
    "        print(j, end= \" \")\n",
    "        \n",
    "    print()    "
   ]
  },
  {
   "cell_type": "code",
   "execution_count": 51,
   "metadata": {},
   "outputs": [
    {
     "name": "stdout",
     "output_type": "stream",
     "text": [
      "[100, 200, 300, 400]\n"
     ]
    }
   ],
   "source": [
    "mylist = [100, 200, 300, 400, 'python']\n",
    "mylist.remove('python')\n",
    "print(mylist)"
   ]
  },
  {
   "cell_type": "code",
   "execution_count": 52,
   "metadata": {},
   "outputs": [
    {
     "name": "stdout",
     "output_type": "stream",
     "text": [
      "[600, 100, 200, 300, 400]\n"
     ]
    }
   ],
   "source": [
    "mylist.insert(0, 600)\n",
    "print(mylist)"
   ]
  },
  {
   "cell_type": "code",
   "execution_count": 53,
   "metadata": {},
   "outputs": [
    {
     "name": "stdout",
     "output_type": "stream",
     "text": [
      "None\n"
     ]
    }
   ],
   "source": [
    "ll = [8, 3, 5, 12]\n",
    "print(ll.reverse())"
   ]
  },
  {
   "cell_type": "code",
   "execution_count": 54,
   "metadata": {},
   "outputs": [
    {
     "name": "stdout",
     "output_type": "stream",
     "text": [
      "None\n"
     ]
    }
   ],
   "source": [
    "print(ll.sort())"
   ]
  },
  {
   "cell_type": "code",
   "execution_count": 55,
   "metadata": {},
   "outputs": [
    {
     "name": "stdout",
     "output_type": "stream",
     "text": [
      "salam ali\n",
      "salam ahmad\n",
      "salam shayan\n"
     ]
    }
   ],
   "source": [
    "def salamkon(name):\n",
    "    return 'salam ' + name\n",
    "myList = ['ali', 'ahmad', 'shayan']\n",
    "y= list(map(salamkon, myList))\n",
    "for i in y:\n",
    "    print(i)"
   ]
  },
  {
   "cell_type": "code",
   "execution_count": 90,
   "metadata": {},
   "outputs": [
    {
     "data": {
      "text/plain": [
       "[[0, 5, 10, 15, 20],\n",
       " [1, 6, 11, 16, 21],\n",
       " [2, 7, 12, 17, 22],\n",
       " [3, 8, 13, 18, 23],\n",
       " [4, 9, 14, 19, 24]]"
      ]
     },
     "execution_count": 90,
     "metadata": {},
     "output_type": "execute_result"
    }
   ],
   "source": [
    "#we want to create a 5x5 matrix\n",
    "#x is row, y is column\n",
    "n= 5\n",
    "a = []\n",
    "for x in range(n):\n",
    "    b= []\n",
    "    for y in range(n):\n",
    "        b.append(x+5*y)\n",
    "    a.append(b)    \n",
    "        \n",
    "a        "
   ]
  },
  {
   "cell_type": "code",
   "execution_count": 97,
   "metadata": {},
   "outputs": [
    {
     "data": {
      "text/plain": [
       "[[], [], [], [], []]"
      ]
     },
     "execution_count": 97,
     "metadata": {},
     "output_type": "execute_result"
    }
   ],
   "source": [
    "#this code is equivalnt above\n",
    "n= 5\n",
    "a = []\n",
    "b= []\n",
    "for x in range(n):\n",
    "    for y in range(n):\n",
    "        b.append(x + 5 * y)\n",
    "    a.append(b)\n",
    "    b.clear()\n",
    "a\n",
    "        "
   ]
  },
  {
   "cell_type": "code",
   "execution_count": 59,
   "metadata": {},
   "outputs": [
    {
     "data": {
      "text/plain": [
       "[[0, 1, 2, 3, 4],\n",
       " [5, 6, 7, 8, 9],\n",
       " [10, 11, 12, 13, 14],\n",
       " [15, 16, 17, 18, 19],\n",
       " [20, 21, 22, 23, 24]]"
      ]
     },
     "execution_count": 59,
     "metadata": {},
     "output_type": "execute_result"
    }
   ],
   "source": [
    "#this code is equivalnt above\n",
    "n = 5\n",
    "b = [[x+5*y for x in range(n)] for y in range(n)]\n",
    "b"
   ]
  },
  {
   "cell_type": "code",
   "execution_count": 78,
   "metadata": {},
   "outputs": [
    {
     "name": "stdout",
     "output_type": "stream",
     "text": [
      "[[114, 81, 124, 134, 79], [137, 170, 110, 95, 151], [97, 109, 60, 109, 120], [128, 59, 34, 196, 103], [40, 18, 107, 93, 15]]\n"
     ]
    }
   ],
   "source": [
    "##میخوایم  a و  b رو جمع کنبم\n",
    "n = 5\n",
    "c = [[0 for x in range(n)] for y in range(n)]\n",
    "for i in range(len(a)):\n",
    "    for j in range(len(a[i])):\n",
    "        c[i][j] = a[i][j] + b[i][j]\n",
    "        \n",
    "print(c)       \n",
    "        "
   ]
  },
  {
   "cell_type": "code",
   "execution_count": 63,
   "metadata": {},
   "outputs": [
    {
     "data": {
      "text/plain": [
       "[0, 1, 2, 3, 4, 5, 6, 7, 8, 9]"
      ]
     },
     "execution_count": 63,
     "metadata": {},
     "output_type": "execute_result"
    }
   ],
   "source": [
    "List1 = [x for x in range(10)]\n",
    "List1"
   ]
  },
  {
   "cell_type": "code",
   "execution_count": 64,
   "metadata": {},
   "outputs": [
    {
     "data": {
      "text/plain": [
       "[1, 2, 3, 4, 5, 6, 7, 8, 9, 10]"
      ]
     },
     "execution_count": 64,
     "metadata": {},
     "output_type": "execute_result"
    }
   ],
   "source": [
    "List2 = [x + 1 for x in range(10)]\n",
    "List2"
   ]
  },
  {
   "cell_type": "code",
   "execution_count": 65,
   "metadata": {},
   "outputs": [
    {
     "data": {
      "text/plain": [
       "[5, 7, 9, 11, 13]"
      ]
     },
     "execution_count": 65,
     "metadata": {},
     "output_type": "execute_result"
    }
   ],
   "source": [
    "List3 = [x+5 for x in range(10) if x % 2 == 0]\n",
    "List3"
   ]
  },
  {
   "cell_type": "code",
   "execution_count": 66,
   "metadata": {},
   "outputs": [
    {
     "data": {
      "text/plain": [
       "[1, 2]"
      ]
     },
     "execution_count": 66,
     "metadata": {},
     "output_type": "execute_result"
    }
   ],
   "source": [
    "l= [1,2,3]\n",
    "l.remove(3)\n",
    "l\n"
   ]
  },
  {
   "cell_type": "code",
   "execution_count": 67,
   "metadata": {},
   "outputs": [
    {
     "data": {
      "text/plain": [
       "[1, 2, 7]"
      ]
     },
     "execution_count": 67,
     "metadata": {},
     "output_type": "execute_result"
    }
   ],
   "source": [
    "l.append(7)\n",
    "l"
   ]
  },
  {
   "cell_type": "code",
   "execution_count": 69,
   "metadata": {},
   "outputs": [
    {
     "ename": "NameError",
     "evalue": "name 's' is not defined",
     "output_type": "error",
     "traceback": [
      "\u001b[1;31m---------------------------------------------------------------------------\u001b[0m",
      "\u001b[1;31mNameError\u001b[0m                                 Traceback (most recent call last)",
      "\u001b[1;32m<ipython-input-69-d1b2cfce461a>\u001b[0m in \u001b[0;36m<module>\u001b[1;34m\u001b[0m\n\u001b[0;32m      2\u001b[0m \u001b[0ms\u001b[0m\u001b[1;33m=\u001b[0m \u001b[1;33m[\u001b[0m\u001b[1;36m1\u001b[0m\u001b[1;33m,\u001b[0m\u001b[1;36m2\u001b[0m\u001b[1;33m,\u001b[0m\u001b[1;36m3\u001b[0m\u001b[1;33m]\u001b[0m\u001b[1;33m\u001b[0m\u001b[1;33m\u001b[0m\u001b[0m\n\u001b[0;32m      3\u001b[0m \u001b[1;32mdel\u001b[0m \u001b[0ms\u001b[0m\u001b[1;33m\u001b[0m\u001b[1;33m\u001b[0m\u001b[0m\n\u001b[1;32m----> 4\u001b[1;33m \u001b[0ms\u001b[0m\u001b[1;33m\u001b[0m\u001b[1;33m\u001b[0m\u001b[0m\n\u001b[0m\u001b[0;32m      5\u001b[0m \u001b[1;31m#when you clear a list, you see this error: NameError: name 's' is not defined\u001b[0m\u001b[1;33m\u001b[0m\u001b[1;33m\u001b[0m\u001b[1;33m\u001b[0m\u001b[0m\n",
      "\u001b[1;31mNameError\u001b[0m: name 's' is not defined"
     ]
    }
   ],
   "source": [
    "#کاربرد  del در پاک کردن حافظه\n",
    "s= [1,2,3]\n",
    "del s\n",
    "s\n",
    "#when you clear a list, you see this error: NameError: name 's' is not defined"
   ]
  },
  {
   "cell_type": "code",
   "execution_count": 70,
   "metadata": {},
   "outputs": [
    {
     "name": "stdout",
     "output_type": "stream",
     "text": [
      "0 \t 1\n",
      "1\t2\t3\t5\t8\t13\t21\t34\t55\t89\t144\t233\t377\t610\t987\t1597\t2584\t4181\t6765\t10946\t17711\t28657\t46368\t75025\t121393\t196418\t317811\t514229\t832040\t1346269\t2178309\t3524578\t5702887\t9227465\t14930352\t24157817\t39088169\t63245986\t102334155\t165580141\t267914296\t433494437\t701408733\t1134903170\t1836311903\t2971215073\t4807526976\t7778742049\t12586269025\t20365011074\t32951280099\t53316291173\t86267571272\t139583862445\t225851433717\t365435296162\t591286729879\t956722026041\t1548008755920\t2504730781961\t4052739537881\t6557470319842\t10610209857723\t17167680177565\t27777890035288\t44945570212853\t72723460248141\t117669030460994\t190392490709135\t308061521170129\t498454011879264\t806515533049393\t1304969544928657\t2111485077978050\t3416454622906707\t5527939700884757\t8944394323791464\t14472334024676221\t23416728348467685\t37889062373143906\t61305790721611591\t99194853094755497\t160500643816367088\t259695496911122585\t420196140727489673\t679891637638612258\t1100087778366101931\t1779979416004714189\t2880067194370816120\t4660046610375530309\t7540113804746346429\t12200160415121876738\t19740274219868223167\t31940434634990099905\t51680708854858323072\t83621143489848422977\t135301852344706746049\t218922995834555169026\t354224848179261915075\t573147844013817084101\t"
     ]
    }
   ],
   "source": [
    "#fibonacci\n",
    "k = 100\n",
    "c= 0\n",
    "f1 = 0\n",
    "f2 = 1\n",
    "print(f1, '\\t', f2)\n",
    "while True:\n",
    "    f1, f2 = f2, f2 + f1\n",
    "    print(f2, end= '\\t')\n",
    "    \n",
    "    c+=1\n",
    "    if c>=100:\n",
    "        break\n",
    "\n"
   ]
  },
  {
   "cell_type": "code",
   "execution_count": null,
   "metadata": {},
   "outputs": [],
   "source": [
    "# all_patient = []\n",
    "# def Input():\n",
    "#     patient = []\n",
    "#     sno = input('Enter a serial number:')\n",
    "#     name = input('Enter patient name:')\n",
    "    \n",
    "#     patient.append(sno)\n",
    "#     patient. append(name)\n",
    "    \n",
    "#     return patient\n",
    "# Input()"
   ]
  },
  {
   "cell_type": "code",
   "execution_count": null,
   "metadata": {},
   "outputs": [],
   "source": [
    "# all_patient = []\n",
    "# patient = Input()\n",
    "# all_patient.append(patient)"
   ]
  },
  {
   "cell_type": "code",
   "execution_count": 71,
   "metadata": {},
   "outputs": [],
   "source": [
    "all_patient = []\n",
    "\n",
    "def Input():\n",
    "    patient = []\n",
    "    \n",
    "    name = input('Enter patient name:')\n",
    "    age = input('Enter your age:')\n",
    "    birth = input('Inter your birth location:')\n",
    "    sno = input('Enter a serial number:')\n",
    "    \n",
    "    patient.append(name)\n",
    "    patient.append(age)\n",
    "    patient.append(birth)\n",
    "    patient.append(sno)\n",
    "    \n",
    "    return patient\n"
   ]
  },
  {
   "cell_type": "code",
   "execution_count": 82,
   "metadata": {},
   "outputs": [
    {
     "name": "stdout",
     "output_type": "stream",
     "text": [
      "How many patient do you have:2\n",
      "Enter patient name:jkhj\n",
      "Enter your age:gh\n",
      "Inter your birth location:hj\n",
      "Enter a serial number:gh\n",
      "Enter patient name:gh\n",
      "Enter your age:\n",
      "Inter your birth location:gh\n",
      "Enter a serial number:hgf\n",
      "[['jkhj', 'gh', 'hj', 'gh'], ['gh', '', 'gh', 'hgf']]\n"
     ]
    }
   ],
   "source": [
    "all_patient = []\n",
    "n = int(input('How many patient do you have:'))\n",
    "for i in range(n):\n",
    "    patient = Input()\n",
    "    all_patient.append(patient)   \n",
    "print(all_patient)\n"
   ]
  },
  {
   "cell_type": "code",
   "execution_count": 73,
   "metadata": {},
   "outputs": [
    {
     "ename": "NameError",
     "evalue": "name 'm' is not defined",
     "output_type": "error",
     "traceback": [
      "\u001b[1;31m---------------------------------------------------------------------------\u001b[0m",
      "\u001b[1;31mNameError\u001b[0m                                 Traceback (most recent call last)",
      "\u001b[1;32m<ipython-input-73-12a86e14da86>\u001b[0m in \u001b[0;36m<module>\u001b[1;34m\u001b[0m\n\u001b[0;32m     12\u001b[0m         \u001b[1;32mreturn\u001b[0m \u001b[1;33m(\u001b[0m\u001b[1;34m'This funtion builds only square matrices with random integers\\n'\u001b[0m\u001b[1;33m)\u001b[0m\u001b[1;33m\u001b[0m\u001b[1;33m\u001b[0m\u001b[0m\n\u001b[0;32m     13\u001b[0m \u001b[1;33m\u001b[0m\u001b[0m\n\u001b[1;32m---> 14\u001b[1;33m \u001b[0mbuildSquareMatrix\u001b[0m\u001b[1;33m(\u001b[0m\u001b[0mm\u001b[0m\u001b[1;33m,\u001b[0m\u001b[0mn\u001b[0m\u001b[1;33m)\u001b[0m\u001b[1;33m\u001b[0m\u001b[1;33m\u001b[0m\u001b[0m\n\u001b[0m",
      "\u001b[1;31mNameError\u001b[0m: name 'm' is not defined"
     ]
    }
   ],
   "source": [
    "import random\n",
    "def buildSquareMatrix(m,n):\n",
    "    if m==n:\n",
    "        matrix=[]\n",
    "        for i in range(n):\n",
    "            r=[]\n",
    "            for j in range(n):\n",
    "                r.append(random.randint(1,100))\n",
    "            matrix.append(r)\n",
    "        return matrix\n",
    "    else:\n",
    "        return ('This funtion builds only square matrices with random integers\\n')\n",
    "    \n",
    "buildSquareMatrix(m,n)"
   ]
  },
  {
   "cell_type": "code",
   "execution_count": 74,
   "metadata": {},
   "outputs": [],
   "source": [
    "def addMatrices(a,b):\n",
    "    m=n=len(a)\n",
    "    c=[]\n",
    "    for i in range(m):\n",
    "        r=[]\n",
    "        for j in range(n):\n",
    "            r.append(a[i][j] + b[i][j])\n",
    "        c.append(r)\n",
    "    return c                  "
   ]
  },
  {
   "cell_type": "code",
   "execution_count": 75,
   "metadata": {},
   "outputs": [
    {
     "name": "stdout",
     "output_type": "stream",
     "text": [
      "20\t15\t39\t63\t2\t\n",
      "74\t80\t85\t91\t51\t\n",
      "54\t45\t21\t9\t52\t\n",
      "45\t27\t29\t98\t94\t\n",
      "25\t6\t92\t47\t11\t\n",
      "\n",
      "94\t66\t85\t71\t77\t\n",
      "63\t90\t25\t4\t100\t\n",
      "43\t64\t39\t100\t68\t\n",
      "83\t32\t5\t98\t9\t\n",
      "15\t12\t15\t46\t4\t\n",
      "\n",
      "114\t81\t124\t134\t79\t\n",
      "137\t170\t110\t95\t151\t\n",
      "97\t109\t60\t109\t120\t\n",
      "128\t59\t34\t196\t103\t\n",
      "40\t18\t107\t93\t15\t\n",
      "\n"
     ]
    }
   ],
   "source": [
    "def printMatrix(a):\n",
    "    for i in a:\n",
    "        for j in i:\n",
    "            print(j, end= '\\t')\n",
    "        print()    \n",
    "    print()    \n",
    "    \n",
    "a= buildSquareMatrix (5, 5)\n",
    "b= buildSquareMatrix (5, 5)\n",
    "printMatrix(a)\n",
    "printMatrix(b)\n",
    "c=addMatrices(a, b)\n",
    "printMatrix(c)   \n",
    "        "
   ]
  },
  {
   "cell_type": "code",
   "execution_count": null,
   "metadata": {},
   "outputs": [],
   "source": []
  },
  {
   "cell_type": "code",
   "execution_count": null,
   "metadata": {},
   "outputs": [],
   "source": []
  }
 ],
 "metadata": {
  "kernelspec": {
   "display_name": "Python 3",
   "language": "python",
   "name": "python3"
  },
  "language_info": {
   "codemirror_mode": {
    "name": "ipython",
    "version": 3
   },
   "file_extension": ".py",
   "mimetype": "text/x-python",
   "name": "python",
   "nbconvert_exporter": "python",
   "pygments_lexer": "ipython3",
   "version": "3.8.5"
  }
 },
 "nbformat": 4,
 "nbformat_minor": 5
}
