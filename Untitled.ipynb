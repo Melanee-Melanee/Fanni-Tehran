{
 "cells": [
  {
   "cell_type": "code",
   "execution_count": null,
   "metadata": {},
   "outputs": [],
   "source": [
    "!pip install jupyter_contrib_nbextensions"
   ]
  },
  {
   "cell_type": "code",
   "execution_count": null,
   "metadata": {},
   "outputs": [],
   "source": [
    "# n is a counter and i is an index\n",
    "# n=1\n",
    "# i = 0\n",
    "# while n < 5:\n",
    "#     if i % 3==0:\n",
    "#         print(i)\n",
    "#         n+=1\n",
    "#     i+=1\n",
    "        "
   ]
  },
  {
   "cell_type": "code",
   "execution_count": null,
   "metadata": {},
   "outputs": [],
   "source": [
    "!jupyter contrib nbextension install --user\n"
   ]
  },
  {
   "cell_type": "code",
   "execution_count": null,
   "metadata": {},
   "outputs": [],
   "source": [
    "!pip install big-O\n"
   ]
  },
  {
   "cell_type": "code",
   "execution_count": null,
   "metadata": {},
   "outputs": [],
   "source": [
    "\n",
    "import big_o\n",
    "def find_max(x):\n",
    "    max_ = 0\n",
    "    for el in x:\n",
    "        if el > max_:\n",
    "            max_ = el\n",
    "    return max_\n",
    "positive_int_generator = lambda n: big_o.datagen.integers(n, 0, 10000)\n",
    "best, others = big_o.big_o(find_max, positive_int_generator, n_repeats=100)\n",
    "print(best)"
   ]
  },
  {
   "cell_type": "code",
   "execution_count": null,
   "metadata": {},
   "outputs": [],
   "source": [
    "squares = []\n",
    "for x in range(10):\n",
    "    squares.append(x**2)\n",
    "squares"
   ]
  },
  {
   "cell_type": "code",
   "execution_count": null,
   "metadata": {},
   "outputs": [],
   "source": [
    "#this code is equivalnt above\n",
    "squares = [x**2 for i in range(10)]\n",
    "squares"
   ]
  },
  {
   "cell_type": "code",
   "execution_count": null,
   "metadata": {},
   "outputs": [],
   "source": [
    "#this code is equivalnt above\n",
    "squares = list(x**2 for i in range(10))\n",
    "squares"
   ]
  },
  {
   "cell_type": "code",
   "execution_count": null,
   "metadata": {},
   "outputs": [],
   "source": [
    "matrix = []\n",
    "for i in range(5):\n",
    "    matrix.append([])\n",
    "    for j in range(5):\n",
    "        matrix[i].append(j)         \n",
    "print(matrix)"
   ]
  },
  {
   "cell_type": "code",
   "execution_count": null,
   "metadata": {},
   "outputs": [],
   "source": [
    "# from time import time\n",
    "\n",
    "# def time_random():\n",
    "#     return time() - float(str(time()).split('.')[0])\n",
    "\n",
    "# def gen_random_range(min, max):\n",
    "#      return int(time_random() * (max - min) + min)\n",
    "\n",
    "# if __name__ == '__main__':\n",
    "#      for i in range(20):\n",
    "#              print (gen_random_range())\n",
    "                \n"
   ]
  },
  {
   "cell_type": "code",
   "execution_count": null,
   "metadata": {},
   "outputs": [],
   "source": [
    "import struct\n",
    "import time\n",
    "\n",
    "def lastbit(f):\n",
    "    return struct.pack('!f', f)[-1] & 1\n",
    "\n",
    "def getrandbits(k):\n",
    "#     \"Return k random bits using a relative drift of two clocks.\"\n",
    "#     # assume time.sleep() and time.clock() use different clocks\n",
    "#     # though it might work even if they use the same clock\n",
    "#     #XXX it does not produce \"good\" random bits, see below for details\n",
    "    result = 0\n",
    "    for _ in range(k):\n",
    "        time.sleep(0)\n",
    "        result <<= 1\n",
    "        result |= lastbit(time.perf_counter())\n",
    "    return result\n",
    "def randint(a, b):\n",
    "    \"Return random integer in range [a, b], including both end points.\"\n",
    "    return a + randbelow(b - a + 1)\n",
    "\n",
    "def randbelow(n):\n",
    "    \"Return a random int in the range [0,n).  Raises ValueError if n<=0.\"\n",
    "    # from Lib/random.py\n",
    "    if n <= 0:\n",
    "        raise ValueError\n",
    "    k = n.bit_length()  # don't use (n-1) here because n can be 1\n",
    "    r = getrandbits(k)          # 0 <= r < 2**k\n",
    "    while r >= n: # avoid skew\n",
    "        r = getrandbits(k)\n",
    "    return r\n",
    "\n",
    "print([randint(0, 10) for _ in range(1)])"
   ]
  },
  {
   "cell_type": "code",
   "execution_count": null,
   "metadata": {},
   "outputs": [],
   "source": [
    "# print(set(map(str,range(1,int(input())+1))).pop()) "
   ]
  },
  {
   "cell_type": "code",
   "execution_count": null,
   "metadata": {},
   "outputs": [],
   "source": [
    "# seed the pseudorandom number generator\n",
    "from numpy.random import seed\n",
    "from numpy.random import rand\n",
    "# seed random number generator\n",
    "seed(9)\n",
    "# generate some random numbers\n",
    "print(rand(8))\n",
    "# reset the seed\n",
    "# seed(1)\n",
    "# # generate some random numbers\n",
    "# print(rand(3))"
   ]
  },
  {
   "cell_type": "code",
   "execution_count": null,
   "metadata": {},
   "outputs": [],
   "source": [
    "from numpy.random import seed\n",
    "from numpy.random import randint\n",
    "# seed random number generator\n",
    "seed(4)\n",
    "# generate some integers\n",
    "values = randint(0, 10, 20)\n",
    "print(values)"
   ]
  },
  {
   "cell_type": "code",
   "execution_count": null,
   "metadata": {},
   "outputs": [],
   "source": [
    "import pandas as pd\n",
    "data = { 'dataA': [0,400,2800,9200,5600,2000,8400,4800,1200,7600,4000,400,6800],\n",
    "        'dataB': [30,30,30,30,30,30,20,500,30,50,330,530,930]}\n",
    "df = pd.DataFrame(data)\n",
    "print(df.to_string(index=False))\n",
    "\n",
    "# df"
   ]
  },
  {
   "cell_type": "code",
   "execution_count": null,
   "metadata": {},
   "outputs": [],
   "source": [
    "# (dataA\n",
    "# 0   \n",
    "# 400 \n",
    "# 2800\n",
    "# 9200\n",
    "# 5600\n",
    "# 2000\n",
    "# 8400\n",
    "# 4800\n",
    "# 1200\n",
    "# 7600\n",
    "# 4000\n",
    "# 400\n",
    "# 6800\n",
    "# )\n",
    "# (dataB\n",
    "# 30\n",
    "# 30\n",
    "# 30\n",
    "# 30\n",
    "# 30\n",
    "# 30\n",
    "# 20\n",
    "# 500\n",
    "# 30\n",
    "# 50\n",
    "# 330\n",
    "# 530\n",
    "# 930\n",
    "# )\n",
    "\n",
    "df = pd.read_excel(...,header=None)\n",
    "\n",
    "s = df[0].str.contains('\\(',regex=True)\n",
    "\n",
    "df1 = df.set_index([s.cumsum(), df.groupby(s.cumsum()).cumcount()]).unstack(0)\n",
    "#additional clean up\n",
    "df1 = df1.replace('\\(|\\)','',regex=True).replace('',np.nan).dropna().droplevel(0,1)\n",
    "\n",
    "df1.columns = df1.iloc[0]\n",
    "df1 = df1.iloc[1:]\n",
    "\n",
    "\n",
    "\n",
    "print(df1)"
   ]
  },
  {
   "cell_type": "code",
   "execution_count": null,
   "metadata": {},
   "outputs": [],
   "source": [
    "thisset = {'apple', 'banana', 'cherry'}\n",
    "thisset.remove('banana')\n",
    "print(thisset)"
   ]
  },
  {
   "cell_type": "code",
   "execution_count": null,
   "metadata": {},
   "outputs": [],
   "source": [
    "thisset = {'apple', 'banana', 'cherry'}\n",
    "thisset.remove('banana')\n",
    "print(thisset)"
   ]
  },
  {
   "cell_type": "code",
   "execution_count": null,
   "metadata": {},
   "outputs": [],
   "source": [
    "name = input('enter name:')\n",
    "age = input('enter age:')\n",
    "print('Hello', name, 'your age is:', age)"
   ]
  },
  {
   "cell_type": "code",
   "execution_count": null,
   "metadata": {},
   "outputs": [],
   "source": [
    "for i in range(10):\n",
    "    print('*', end = 't')"
   ]
  },
  {
   "cell_type": "code",
   "execution_count": null,
   "metadata": {},
   "outputs": [],
   "source": [
    "print('*', '8', 'gfds', end = ' ')"
   ]
  },
  {
   "cell_type": "code",
   "execution_count": null,
   "metadata": {},
   "outputs": [],
   "source": [
    "for i in range (1,11):\n",
    "    print(i, '\\t' , end='' )\n",
    "    for j in range(1, 11):\n",
    "        print( i*j, '\\t', end= '')\n",
    "    print()"
   ]
  },
  {
   "cell_type": "code",
   "execution_count": null,
   "metadata": {},
   "outputs": [],
   "source": [
    "n=10\n",
    "for i in range (10):\n",
    "    print(i * ' ', (n-i)*'*')\n",
    "\n",
    " "
   ]
  },
  {
   "cell_type": "code",
   "execution_count": null,
   "metadata": {},
   "outputs": [],
   "source": [
    "for i in range(10):\n",
    "    print(' '* (n-i), (2*i+1)* '*')"
   ]
  },
  {
   "cell_type": "code",
   "execution_count": null,
   "metadata": {},
   "outputs": [],
   "source": [
    "def my_star(n):\n",
    "    for i in range(10):\n",
    "        print(' '* (n-i), (2*i+1)* '*')\n",
    "    \n",
    "my_star(40)    "
   ]
  },
  {
   "cell_type": "code",
   "execution_count": null,
   "metadata": {},
   "outputs": [],
   "source": [
    "def plotstar(n=10):\n",
    "    for i in range(n):\n",
    "        print() \n",
    "        for j in range(n):\n",
    "            print( '*' , end = ' ' )\n",
    "\n",
    "plotstar()            "
   ]
  },
  {
   "cell_type": "code",
   "execution_count": null,
   "metadata": {},
   "outputs": [],
   "source": [
    "def plotstar(n=10):\n",
    "    for i in range(n):\n",
    "        print('* '*10)\n",
    "        \n",
    "plotstar()        "
   ]
  },
  {
   "cell_type": "code",
   "execution_count": null,
   "metadata": {},
   "outputs": [],
   "source": [
    "pass1 = int(input('please enter your pass1:'))\n",
    "pass2 = int(input('please enter your pass2:'))\n",
    "\n",
    "if pass1 ==pass2:\n",
    "    print('pass is correct')\n",
    "    \n",
    "else:\n",
    "    print('pass is not correct!')\n"
   ]
  },
  {
   "cell_type": "code",
   "execution_count": null,
   "metadata": {},
   "outputs": [],
   "source": [
    "def pass_word():\n",
    "    pass1 = int(input('please enter your pass1:'))\n",
    "    pass2 = int(input('please enter your pass2:'))\n",
    "    \n",
    "    if pass1 == pass2:\n",
    "        print('pass is correct.')\n",
    "    else:\n",
    "        print('pass is not correct.')\n",
    "        for i in range(3): \n",
    "            pass_word()\n",
    "            break       \n",
    "\n",
    "pass_word()        \n",
    "    \n",
    "    "
   ]
  },
  {
   "cell_type": "code",
   "execution_count": null,
   "metadata": {},
   "outputs": [],
   "source": []
  },
  {
   "cell_type": "code",
   "execution_count": null,
   "metadata": {},
   "outputs": [],
   "source": [
    "number = int(input('How many number?'))\n"
   ]
  },
  {
   "cell_type": "code",
   "execution_count": null,
   "metadata": {},
   "outputs": [],
   "source": [
    "l1 = [1,2,3]\n",
    "l2 = [3,5,677,'ff, 6']\n",
    "l3 = l1+l2\n",
    "print(l3)"
   ]
  },
  {
   "cell_type": "code",
   "execution_count": null,
   "metadata": {},
   "outputs": [],
   "source": [
    "l4 = [1,2,3] + [3,5,677,'ff, 6']\n",
    "print(l4)"
   ]
  },
  {
   "cell_type": "code",
   "execution_count": null,
   "metadata": {},
   "outputs": [],
   "source": [
    "print([1,2,3] + [3,5,677,'ff, 6'])"
   ]
  },
  {
   "cell_type": "markdown",
   "metadata": {},
   "source": [
    "## Calculating time run"
   ]
  },
  {
   "cell_type": "code",
   "execution_count": null,
   "metadata": {},
   "outputs": [],
   "source": [
    "\n",
    "\n",
    "import time\n",
    "start = time.time()\n",
    "\n",
    "n=10\n",
    "for i in range (n):\n",
    "    for j in range (n-i):\n",
    "        print(' ', end= '')\n",
    "\n",
    "    for j in range(2*i+1):\n",
    "        print('*', end= '')\n",
    "                \n",
    "    print()\n",
    "    \n",
    "    \n",
    "end = time.time()\n",
    "print(end - start)\n",
    "\n"
   ]
  },
  {
   "cell_type": "code",
   "execution_count": null,
   "metadata": {},
   "outputs": [],
   "source": [
    "import time\n",
    "start = time.time()\n",
    "\n",
    "\n",
    "for i in range(10):\n",
    "    print(' ' * (n-i), '*' * (2*i+1))\n",
    "    \n",
    "    \n",
    "end = time.time()\n",
    "print(end - start)"
   ]
  },
  {
   "cell_type": "code",
   "execution_count": null,
   "metadata": {},
   "outputs": [],
   "source": [
    "import pandas as pd"
   ]
  },
  {
   "cell_type": "code",
   "execution_count": null,
   "metadata": {},
   "outputs": [],
   "source": [
    "df = pd.DataFrame({'a': ['A', 'A', 'B', 'B', 'B', 'C'], 'b': ['1', '2', '5', '5', '4', '6']})\n",
    "df.groupby('a')['b'].apply(list)\n"
   ]
  },
  {
   "cell_type": "code",
   "execution_count": null,
   "metadata": {},
   "outputs": [],
   "source": [
    "\n",
    "[print('a') for x in range(10)]"
   ]
  },
  {
   "cell_type": "code",
   "execution_count": null,
   "metadata": {},
   "outputs": [],
   "source": [
    "a = ['hat', 'mat', 'rat']\n",
    "'ryhme'.join(a)"
   ]
  },
  {
   "cell_type": "code",
   "execution_count": null,
   "metadata": {},
   "outputs": [],
   "source": [
    "b = [1,2,3,4,5]\n",
    "b[:2]"
   ]
  },
  {
   "cell_type": "code",
   "execution_count": null,
   "metadata": {},
   "outputs": [],
   "source": [
    "arr = (1,2,3)\n",
    "arr = list(arr)"
   ]
  },
  {
   "cell_type": "code",
   "execution_count": null,
   "metadata": {},
   "outputs": [],
   "source": [
    "import numpy as np\n",
    "from scipy import linalg\n",
    "A = np.array([[1,2], [3,4]])\n",
    "B = np.array([[5],[6]])\n",
    "x = linalg.solve(A,B)\n",
    "print(x)"
   ]
  },
  {
   "cell_type": "code",
   "execution_count": null,
   "metadata": {},
   "outputs": [],
   "source": [
    "two_d_array = np.array([[4,5], [3,2]])\n",
    "linalg.det(two_d_array)"
   ]
  },
  {
   "cell_type": "code",
   "execution_count": null,
   "metadata": {},
   "outputs": [],
   "source": [
    "arr = np.array([[6,3], [5,4]])\n",
    "eg_val, eg_vect = linalg.eig(arr)\n",
    "print(eg_val)"
   ]
  },
  {
   "cell_type": "code",
   "execution_count": null,
   "metadata": {},
   "outputs": [],
   "source": [
    "from scipy.integrate import quad\n",
    "def integrand(x,a,b):\n",
    "    return a*x**2+b\n",
    "    a =2\n",
    "    b=1\n",
    "    l=quad(integrand, 0, 1, args=(a,b))\n",
    "print(l)\n",
    "    "
   ]
  },
  {
   "cell_type": "code",
   "execution_count": 6,
   "metadata": {},
   "outputs": [
    {
     "name": "stdout",
     "output_type": "stream",
     "text": [
      "1 2 3 4\n",
      "10\n"
     ]
    }
   ],
   "source": [
    "a = input()\n",
    "list = a.split()\n",
    "s = []\n",
    "\n",
    "for i in list:\n",
    "    s.append(int(i))\n",
    "    \n",
    "print(sum(s))    "
   ]
  },
  {
   "cell_type": "code",
   "execution_count": 1,
   "metadata": {},
   "outputs": [
    {
     "name": "stdout",
     "output_type": "stream",
     "text": [
      "1 2 3 4 \n",
      "10\n"
     ]
    }
   ],
   "source": [
    "\n",
    "s = map(int, input().split())\n",
    "\n",
    "print(sum(s))"
   ]
  },
  {
   "cell_type": "code",
   "execution_count": null,
   "metadata": {},
   "outputs": [],
   "source": [
    "a = {'B':5, 'A':}"
   ]
  },
  {
   "cell_type": "code",
   "execution_count": 2,
   "metadata": {},
   "outputs": [
    {
     "name": "stdout",
     "output_type": "stream",
     "text": [
      "Hi, I am Melanee\n"
     ]
    }
   ],
   "source": [
    "name = 'Melanee'\n",
    "print('Hi, I am ' + name)"
   ]
  },
  {
   "cell_type": "code",
   "execution_count": 3,
   "metadata": {},
   "outputs": [
    {
     "name": "stdout",
     "output_type": "stream",
     "text": [
      "Hi, I am  Melanee\n"
     ]
    }
   ],
   "source": [
    "print('Hi, I am ', name)"
   ]
  },
  {
   "cell_type": "code",
   "execution_count": 7,
   "metadata": {},
   "outputs": [
    {
     "name": "stdout",
     "output_type": "stream",
     "text": [
      "Hi, I am Melanee\n"
     ]
    }
   ],
   "source": [
    "print('Hi, I am {}'.format(name))"
   ]
  },
  {
   "cell_type": "code",
   "execution_count": 8,
   "metadata": {},
   "outputs": [
    {
     "name": "stdout",
     "output_type": "stream",
     "text": [
      "Hi, I am Melanee\n"
     ]
    }
   ],
   "source": [
    "print(f'Hi, I am {name}')"
   ]
  },
  {
   "cell_type": "code",
   "execution_count": null,
   "metadata": {},
   "outputs": [],
   "source": []
  }
 ],
 "metadata": {
  "kernelspec": {
   "display_name": "Python 3",
   "language": "python",
   "name": "python3"
  },
  "language_info": {
   "codemirror_mode": {
    "name": "ipython",
    "version": 3
   },
   "file_extension": ".py",
   "mimetype": "text/x-python",
   "name": "python",
   "nbconvert_exporter": "python",
   "pygments_lexer": "ipython3",
   "version": "3.8.5"
  }
 },
 "nbformat": 4,
 "nbformat_minor": 4
}
