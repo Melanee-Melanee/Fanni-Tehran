{
 "cells": [
  {
   "cell_type": "code",
   "execution_count": 1,
   "metadata": {},
   "outputs": [
    {
     "name": "stdout",
     "output_type": "stream",
     "text": [
      "Line_ :\n",
      "Line_ :\n",
      "Line_ :\n",
      "Line_ :\n",
      "Line_ :\n",
      "Line_ :\n",
      "Line_ :\n",
      "Line_ :\n",
      "Line_ :\n",
      "Line_ :\n"
     ]
    }
   ],
   "source": [
    "for i in range (10):\n",
    "    print('Line_ :')"
   ]
  },
  {
   "cell_type": "code",
   "execution_count": 2,
   "metadata": {},
   "outputs": [
    {
     "name": "stdout",
     "output_type": "stream",
     "text": [
      "Line_: 10\n",
      "Line_: 15\n"
     ]
    }
   ],
   "source": [
    "# یعنی از ده شروع بشه تا بیست و پنج تا پنج تا جلو بره\n",
    "\n",
    "for i in range (10, 20, 5):\n",
    "    print('Line_:', i) "
   ]
  },
  {
   "cell_type": "code",
   "execution_count": 4,
   "metadata": {},
   "outputs": [
    {
     "name": "stdout",
     "output_type": "stream",
     "text": [
      "Simple  Hospital System \n",
      "1. WRITE RECORD\n",
      "2. SHOW ALL RECORDS\n",
      "3. SEARCH BY SERIAL NUMBER\n",
      "4. SEARCH BY CONTACT NUMBER\n",
      "5. SEARCH BY BLOOD GROUP \n",
      "6. SEARCH BY AGE\n",
      "7. SEARCH BY SEX\n",
      "8. SEARCH BY DISEASE NAME\n",
      "9. SEARCH BY DOCTOR NAME\n",
      "10. SEARCH BY PAYMENT METHODS\n",
      "11. SEARCH BY EMAIL\n",
      "12. MODIFY RECORD\n",
      "13. DELETE RECORD\n",
      "14. EXIT\n"
     ]
    }
   ],
   "source": [
    "print('Simple  Hospital System ')\n",
    "print('1. WRITE RECORD')\n",
    "print('2. SHOW ALL RECORDS')\n",
    "print('3. SEARCH BY SERIAL NUMBER')\n",
    "print('4. SEARCH BY CONTACT NUMBER')\n",
    "print('5. SEARCH BY BLOOD GROUP ')\n",
    "print('6. SEARCH BY AGE')\n",
    "print('7. SEARCH BY SEX')\n",
    "print('8. SEARCH BY DISEASE NAME')\n",
    "print('9. SEARCH BY DOCTOR NAME')\n",
    "print('10. SEARCH BY PAYMENT METHODS')\n",
    "print('11. SEARCH BY EMAIL')\n",
    "print('12. MODIFY RECORD')\n",
    "print('13. DELETE RECORD')\n",
    "print('14. EXIT')"
   ]
  },
  {
   "cell_type": "code",
   "execution_count": 6,
   "metadata": {},
   "outputs": [
    {
     "name": "stdout",
     "output_type": "stream",
     "text": [
      "\t1 \t2 \t3 \t4 \t5 \t6 \t7 \t8 \t9 \t10 \t\n",
      "1 \t1 \t2 \t3 \t4 \t5 \t6 \t7 \t8 \t9 \t10 \t\n",
      "2 \t2 \t4 \t6 \t8 \t10 \t12 \t14 \t16 \t18 \t20 \t\n",
      "3 \t3 \t6 \t9 \t12 \t15 \t18 \t21 \t24 \t27 \t30 \t\n",
      "4 \t4 \t8 \t12 \t16 \t20 \t24 \t28 \t32 \t36 \t40 \t\n",
      "5 \t5 \t10 \t15 \t20 \t25 \t30 \t35 \t40 \t45 \t50 \t\n",
      "6 \t6 \t12 \t18 \t24 \t30 \t36 \t42 \t48 \t54 \t60 \t\n",
      "7 \t7 \t14 \t21 \t28 \t35 \t42 \t49 \t56 \t63 \t70 \t\n",
      "8 \t8 \t16 \t24 \t32 \t40 \t48 \t56 \t64 \t72 \t80 \t\n",
      "9 \t9 \t18 \t27 \t36 \t45 \t54 \t63 \t72 \t81 \t90 \t\n",
      "10 \t10 \t20 \t30 \t40 \t50 \t60 \t70 \t80 \t90 \t100 \t\n"
     ]
    }
   ],
   "source": [
    "print('\\t', end='')\n",
    "for i in range (1,11):\n",
    "    print(i, '\\t', end= '')\n",
    "print()    \n",
    "\n",
    "\n",
    "\n",
    "for i in range (1,11):\n",
    "    print(i, '\\t' , end='' )\n",
    "    for j in range(1, 11):\n",
    "        print( i*j, '\\t', end= '')\n",
    "    print()"
   ]
  },
  {
   "cell_type": "code",
   "execution_count": 7,
   "metadata": {},
   "outputs": [
    {
     "name": "stdout",
     "output_type": "stream",
     "text": [
      "1.256 5.640000000000001 0.6400000000000001 7.8500000000000005\n"
     ]
    }
   ],
   "source": [
    "a = 3.14\n",
    "b= 2.5\n",
    "print(a/b, a+b, a-b, a*b)"
   ]
  },
  {
   "cell_type": "markdown",
   "metadata": {},
   "source": [
    " ## New Operator(+, *)\n",
    " "
   ]
  },
  {
   "cell_type": "code",
   "execution_count": 1,
   "metadata": {},
   "outputs": [
    {
     "name": "stdout",
     "output_type": "stream",
     "text": [
      "melanee melanee melanee melanee \n",
      "melanee3\n"
     ]
    }
   ],
   "source": [
    "a= 'melanee'\n",
    "b= 4\n",
    "c= 3\n",
    "print((a + ' ') * b)\n",
    "print(a+str(c))"
   ]
  },
  {
   "cell_type": "code",
   "execution_count": 2,
   "metadata": {},
   "outputs": [
    {
     "name": "stdout",
     "output_type": "stream",
     "text": [
      "shahjayegh shahjayegh shahjayegh shahjayegh shahjayegh "
     ]
    }
   ],
   "source": [
    "for i in range(5):\n",
    "    print('melanee', end = ' ')"
   ]
  },
  {
   "cell_type": "code",
   "execution_count": 10,
   "metadata": {},
   "outputs": [
    {
     "name": "stdout",
     "output_type": "stream",
     "text": [
      "1005\n",
      "10054\n"
     ]
    }
   ],
   "source": [
    "c=4\n",
    "a= '100'\n",
    "b= '5'\n",
    "print(a+b)\n",
    "print (a+b +str(c))"
   ]
  },
  {
   "cell_type": "code",
   "execution_count": 11,
   "metadata": {},
   "outputs": [
    {
     "name": "stdout",
     "output_type": "stream",
     "text": [
      "109\n"
     ]
    }
   ],
   "source": [
    "c=4\n",
    "a= '100'\n",
    "b= '5'\n",
    "\n",
    "print (c+ int(a)+ int(b))"
   ]
  },
  {
   "cell_type": "markdown",
   "metadata": {},
   "source": [
    "# Boolean "
   ]
  },
  {
   "cell_type": "code",
   "execution_count": 12,
   "metadata": {},
   "outputs": [
    {
     "data": {
      "text/plain": [
       "False"
      ]
     },
     "execution_count": 12,
     "metadata": {},
     "output_type": "execute_result"
    }
   ],
   "source": [
    "a = True\n",
    "b= False\n",
    "\n",
    "# a and b\n",
    "# a or b \n",
    "b and not(a)"
   ]
  },
  {
   "cell_type": "code",
   "execution_count": 15,
   "metadata": {},
   "outputs": [
    {
     "name": "stdout",
     "output_type": "stream",
     "text": [
      "Enter a number:'egggg'\n"
     ]
    }
   ],
   "source": [
    "#eval can recognise both int and string\n",
    "number = eval(input('Enter a number:'))\n"
   ]
  },
  {
   "cell_type": "code",
   "execution_count": 16,
   "metadata": {},
   "outputs": [
    {
     "name": "stdout",
     "output_type": "stream",
     "text": [
      "Enter a number:8\n"
     ]
    },
    {
     "data": {
      "text/plain": [
       "18"
      ]
     },
     "execution_count": 16,
     "metadata": {},
     "output_type": "execute_result"
    }
   ],
   "source": [
    "eval(input('Enter a number:')) +10"
   ]
  },
  {
   "cell_type": "code",
   "execution_count": 17,
   "metadata": {},
   "outputs": [
    {
     "name": "stdout",
     "output_type": "stream",
     "text": [
      "99\n",
      "44\n"
     ]
    }
   ],
   "source": [
    "a,b = 99, 44\n",
    "print(a)\n",
    "print(b)"
   ]
  },
  {
   "cell_type": "code",
   "execution_count": 18,
   "metadata": {},
   "outputs": [
    {
     "name": "stdout",
     "output_type": "stream",
     "text": [
      "6\n"
     ]
    }
   ],
   "source": [
    "def mul_(a, b):\n",
    "    temp = a * b\n",
    "    return temp\n",
    "\n",
    "print(mul_(2,3))"
   ]
  },
  {
   "cell_type": "code",
   "execution_count": 19,
   "metadata": {},
   "outputs": [
    {
     "name": "stdout",
     "output_type": "stream",
     "text": [
      "9\n",
      "7\n"
     ]
    },
    {
     "data": {
      "text/plain": [
       "16"
      ]
     },
     "execution_count": 19,
     "metadata": {},
     "output_type": "execute_result"
    }
   ],
   "source": [
    "def sum_(a, b):\n",
    "    temp = a + b\n",
    "    return temp\n",
    "\n",
    "x = input()\n",
    "y = input()\n",
    "sum_(int(x), int(y))"
   ]
  },
  {
   "cell_type": "code",
   "execution_count": 3,
   "metadata": {},
   "outputs": [
    {
     "data": {
      "text/plain": [
       "9"
      ]
     },
     "execution_count": 3,
     "metadata": {},
     "output_type": "execute_result"
    }
   ],
   "source": [
    "#absolute value\n",
    "abs(-9)"
   ]
  },
  {
   "cell_type": "code",
   "execution_count": null,
   "metadata": {},
   "outputs": [],
   "source": []
  }
 ],
 "metadata": {
  "kernelspec": {
   "display_name": "Python 3",
   "language": "python",
   "name": "python3"
  },
  "language_info": {
   "codemirror_mode": {
    "name": "ipython",
    "version": 3
   },
   "file_extension": ".py",
   "mimetype": "text/x-python",
   "name": "python",
   "nbconvert_exporter": "python",
   "pygments_lexer": "ipython3",
   "version": "3.8.5"
  }
 },
 "nbformat": 4,
 "nbformat_minor": 4
}
