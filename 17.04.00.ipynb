{
 "cells": [
  {
   "cell_type": "code",
   "execution_count": 9,
   "metadata": {},
   "outputs": [
    {
     "name": "stdout",
     "output_type": "stream",
     "text": [
      "           *\n",
      "          ***\n",
      "         *****\n",
      "        *******\n",
      "       *********\n",
      "      ***********\n",
      "     *************\n",
      "    ***************\n",
      "   *****************\n",
      "  *******************\n"
     ]
    }
   ],
   "source": [
    "n=10\n",
    "for i in range(n):\n",
    "    print(' ' * (n-i), '*' * (2*i+1))"
   ]
  },
  {
   "cell_type": "code",
   "execution_count": null,
   "metadata": {},
   "outputs": [],
   "source": [
    "s1 = [12, 19, 20, 17, 16,  13, 17.5]\n",
    "s2= [0,1,2,3,4,5,6,7,8,9]\n"
   ]
  },
  {
   "cell_type": "code",
   "execution_count": 10,
   "metadata": {},
   "outputs": [
    {
     "data": {
      "text/plain": [
       "range(0, 10)"
      ]
     },
     "execution_count": 10,
     "metadata": {},
     "output_type": "execute_result"
    }
   ],
   "source": [
    "range(10)"
   ]
  },
  {
   "cell_type": "code",
   "execution_count": 13,
   "metadata": {},
   "outputs": [
    {
     "data": {
      "text/plain": [
       "[0, 1, 2, 3, 4, 5, 6, 7, 8, 9]"
      ]
     },
     "execution_count": 13,
     "metadata": {},
     "output_type": "execute_result"
    }
   ],
   "source": [
    "list(range(10))"
   ]
  },
  {
   "cell_type": "code",
   "execution_count": 15,
   "metadata": {},
   "outputs": [
    {
     "data": {
      "text/plain": [
       "[0, 1, 2, 3, 4, 5, 6, 7, 8, 9, 10, 11, 12, 13, 14, 15, 16, 17, 18, 19]"
      ]
     },
     "execution_count": 15,
     "metadata": {},
     "output_type": "execute_result"
    }
   ],
   "source": [
    "list(range(20))"
   ]
  },
  {
   "cell_type": "code",
   "execution_count": 16,
   "metadata": {},
   "outputs": [
    {
     "data": {
      "text/plain": [
       "[2, 7, 12, 17]"
      ]
     },
     "execution_count": 16,
     "metadata": {},
     "output_type": "execute_result"
    }
   ],
   "source": [
    "list(range(2, 20, 5))"
   ]
  },
  {
   "cell_type": "code",
   "execution_count": 19,
   "metadata": {},
   "outputs": [
    {
     "data": {
      "text/plain": [
       "[1, 11, 21, 31, 41, 51, 61, 71, 81, 91]"
      ]
     },
     "execution_count": 19,
     "metadata": {},
     "output_type": "execute_result"
    }
   ],
   "source": [
    "list(range(1, 100, 10))"
   ]
  },
  {
   "cell_type": "code",
   "execution_count": 22,
   "metadata": {},
   "outputs": [
    {
     "name": "stdout",
     "output_type": "stream",
     "text": [
      "[0, 5, 10, 15, 20, 25, 30, 35, 40, 45, 50, 55, 60, 65, 70, 75, 80, 85, 90, 95]\n"
     ]
    }
   ],
   "source": [
    "s3 = list(range(0,100,5))\n",
    "print(s3)"
   ]
  },
  {
   "cell_type": "code",
   "execution_count": 26,
   "metadata": {},
   "outputs": [
    {
     "name": "stdout",
     "output_type": "stream",
     "text": [
      "2\n",
      "7\n",
      "12\n",
      "17\n"
     ]
    }
   ],
   "source": [
    "for i in range(2, 20, 5 ):\n",
    "    print(i)"
   ]
  },
  {
   "cell_type": "code",
   "execution_count": 29,
   "metadata": {},
   "outputs": [
    {
     "name": "stdout",
     "output_type": "stream",
     "text": [
      "[0, -5, -10, -15, -20, -25, -30, -35, -40, -45, -50, -55, -60, -65, -70, -75, -80, -85, -90, -95]\n"
     ]
    }
   ],
   "source": [
    "s4 = list(range(0, -100, -5))\n",
    "print(s4)\n"
   ]
  },
  {
   "cell_type": "code",
   "execution_count": 30,
   "metadata": {},
   "outputs": [
    {
     "name": "stdout",
     "output_type": "stream",
     "text": [
      "[-100, -95, -90, -85, -80, -75, -70, -65, -60, -55, -50, -45, -40, -35, -30, -25, -20, -15, -10, -5, 0]\n"
     ]
    }
   ],
   "source": [
    "s5= list(range(-100, 1, 5))\n",
    "print(s5)"
   ]
  },
  {
   "cell_type": "code",
   "execution_count": 31,
   "metadata": {},
   "outputs": [
    {
     "name": "stdout",
     "output_type": "stream",
     "text": [
      "[]\n"
     ]
    }
   ],
   "source": [
    "l1 =  []\n",
    "print (l1)"
   ]
  },
  {
   "cell_type": "code",
   "execution_count": 32,
   "metadata": {},
   "outputs": [
    {
     "name": "stdout",
     "output_type": "stream",
     "text": [
      "[]\n"
     ]
    }
   ],
   "source": [
    "l2 = list()\n",
    "print (l2)"
   ]
  },
  {
   "cell_type": "code",
   "execution_count": 33,
   "metadata": {},
   "outputs": [
    {
     "name": "stdout",
     "output_type": "stream",
     "text": [
      "[-1, 2, 'moj', 's', 5.5, 'you', -987]\n"
     ]
    }
   ],
   "source": [
    "l3 = [-1, 2, 'moj', 's', 5.5, 'you', -987]\n",
    "print(l3)"
   ]
  },
  {
   "cell_type": "code",
   "execution_count": 37,
   "metadata": {},
   "outputs": [
    {
     "name": "stdout",
     "output_type": "stream",
     "text": [
      "2\n",
      "5\n",
      "8\n",
      "11\n",
      "14\n"
     ]
    }
   ],
   "source": [
    "ss  = [2, 5, 8, 11, 14]\n",
    "for i in ss:\n",
    "    print(i)"
   ]
  },
  {
   "cell_type": "code",
   "execution_count": null,
   "metadata": {},
   "outputs": [],
   "source": [
    "# list, dictionary , set,  tuple"
   ]
  },
  {
   "cell_type": "code",
   "execution_count": 39,
   "metadata": {},
   "outputs": [
    {
     "name": "stdout",
     "output_type": "stream",
     "text": [
      "[12, 14, 16, 13, 19]\n"
     ]
    }
   ],
   "source": [
    "s7 = [12, 14, 16, 13]\n",
    "s7.append(19)\n",
    "print(s7)"
   ]
  },
  {
   "cell_type": "markdown",
   "metadata": {},
   "source": [
    "# tuple"
   ]
  },
  {
   "cell_type": "code",
   "execution_count": 40,
   "metadata": {},
   "outputs": [
    {
     "name": "stdout",
     "output_type": "stream",
     "text": [
      "(12, 5, 'moj00', '5.5', 5.5, -87, [12, 14, 16, 13, 19])\n"
     ]
    }
   ],
   "source": [
    "a= (12, 5, 'moj00', '5.5', 5.5, -87, s7)\n",
    "print(a)"
   ]
  },
  {
   "cell_type": "code",
   "execution_count": 41,
   "metadata": {},
   "outputs": [
    {
     "data": {
      "text/plain": [
       "[12, 14, 16, 13, 19, [-1, 2, 'moj', 's', 5.5, 'you', -987]]"
      ]
     },
     "execution_count": 41,
     "metadata": {},
     "output_type": "execute_result"
    }
   ],
   "source": [
    "s7.append (l3)\n",
    "\n",
    "s7"
   ]
  },
  {
   "cell_type": "code",
   "execution_count": 43,
   "metadata": {},
   "outputs": [
    {
     "name": "stdout",
     "output_type": "stream",
     "text": [
      "[1, 2, 12, [9, 8], [0, 1, 2, 3, 4, 5, 6, 7, 8, 9]]\n"
     ]
    }
   ],
   "source": [
    "s3 = [1,2,12, [9,8], list(range(10))]\n",
    "print(s3)"
   ]
  },
  {
   "cell_type": "code",
   "execution_count": 44,
   "metadata": {},
   "outputs": [
    {
     "data": {
      "text/plain": [
       "range(0, 10)"
      ]
     },
     "execution_count": 44,
     "metadata": {},
     "output_type": "execute_result"
    }
   ],
   "source": [
    "b = (range(10))\n",
    "b"
   ]
  },
  {
   "cell_type": "code",
   "execution_count": 46,
   "metadata": {},
   "outputs": [
    {
     "data": {
      "text/plain": [
       "[0, 1, 2, 3, 4, 5, 6, 7, 8, 9]"
      ]
     },
     "execution_count": 46,
     "metadata": {},
     "output_type": "execute_result"
    }
   ],
   "source": [
    "b = list(range(10))\n",
    "b"
   ]
  },
  {
   "cell_type": "code",
   "execution_count": 47,
   "metadata": {},
   "outputs": [
    {
     "data": {
      "text/plain": [
       "(0, 1, 2, 3, 4, 5, 6, 7, 8, 9)"
      ]
     },
     "execution_count": 47,
     "metadata": {},
     "output_type": "execute_result"
    }
   ],
   "source": [
    "b = tuple(range(10))\n",
    "b"
   ]
  },
  {
   "cell_type": "code",
   "execution_count": 48,
   "metadata": {},
   "outputs": [
    {
     "data": {
      "text/plain": [
       "[0, 1, 2, 3, 4, 5, 6, 7, 8, 9]"
      ]
     },
     "execution_count": 48,
     "metadata": {},
     "output_type": "execute_result"
    }
   ],
   "source": [
    "a4 = (list(range(10)))\n",
    "a4\n",
    "#this is a list not tuple!"
   ]
  },
  {
   "cell_type": "code",
   "execution_count": 49,
   "metadata": {},
   "outputs": [
    {
     "data": {
      "text/plain": [
       "(0, 1, 2, 3, 4, 5, 6, 7, 8, 9)"
      ]
     },
     "execution_count": 49,
     "metadata": {},
     "output_type": "execute_result"
    }
   ],
   "source": [
    "a5 = tuple(list(range(10)))\n",
    "a5\n",
    "#this is a tuple not list!"
   ]
  },
  {
   "cell_type": "code",
   "execution_count": 51,
   "metadata": {},
   "outputs": [
    {
     "data": {
      "text/plain": [
       "([[0, 1, 2, 3, 4, 5, 6, 7, 8, 9], 9], 9)"
      ]
     },
     "execution_count": 51,
     "metadata": {},
     "output_type": "execute_result"
    }
   ],
   "source": [
    "bb = ([list(range(10)), 9], 9)\n",
    "bb"
   ]
  },
  {
   "cell_type": "code",
   "execution_count": 40,
   "metadata": {},
   "outputs": [
    {
     "ename": "TypeError",
     "evalue": "tuple expected at most 1 argument, got 2",
     "output_type": "error",
     "traceback": [
      "\u001b[1;31m---------------------------------------------------------------------------\u001b[0m",
      "\u001b[1;31mTypeError\u001b[0m                                 Traceback (most recent call last)",
      "\u001b[1;32m<ipython-input-40-208d7c8a138c>\u001b[0m in \u001b[0;36m<module>\u001b[1;34m\u001b[0m\n\u001b[0;32m      3\u001b[0m \u001b[1;31m# tuple([0, 1, 2, 3 ,9], 9)\u001b[0m\u001b[1;33m\u001b[0m\u001b[1;33m\u001b[0m\u001b[1;33m\u001b[0m\u001b[0m\n\u001b[0;32m      4\u001b[0m \u001b[0mbb\u001b[0m \u001b[1;33m=\u001b[0m \u001b[1;33m(\u001b[0m\u001b[1;33m[\u001b[0m\u001b[0mlist\u001b[0m\u001b[1;33m(\u001b[0m\u001b[0mrange\u001b[0m\u001b[1;33m(\u001b[0m\u001b[1;36m10\u001b[0m\u001b[1;33m)\u001b[0m\u001b[1;33m)\u001b[0m\u001b[1;33m,\u001b[0m \u001b[1;36m9\u001b[0m\u001b[1;33m]\u001b[0m\u001b[1;33m,\u001b[0m \u001b[1;36m9\u001b[0m\u001b[1;33m)\u001b[0m\u001b[1;33m\u001b[0m\u001b[1;33m\u001b[0m\u001b[0m\n\u001b[1;32m----> 5\u001b[1;33m \u001b[0mprint\u001b[0m\u001b[1;33m(\u001b[0m\u001b[0mtuple\u001b[0m\u001b[1;33m(\u001b[0m\u001b[0mbb\u001b[0m\u001b[1;33m,\u001b[0m \u001b[1;36m9\u001b[0m\u001b[1;33m)\u001b[0m\u001b[1;33m)\u001b[0m\u001b[1;33m\u001b[0m\u001b[1;33m\u001b[0m\u001b[0m\n\u001b[0m",
      "\u001b[1;31mTypeError\u001b[0m: tuple expected at most 1 argument, got 2"
     ]
    }
   ],
   "source": [
    "# we can not add any item to tuple.\n",
    "\n",
    "# tuple([0, 1, 2, 3 ,9], 9)\n",
    "\n",
    "\n",
    "bb = ([list(range(10)), 9], 9)\n",
    "print(tuple(bb, 9))\n"
   ]
  },
  {
   "cell_type": "code",
   "execution_count": 54,
   "metadata": {},
   "outputs": [
    {
     "data": {
      "text/plain": [
       "(0, 1, 2, 3, 9)"
      ]
     },
     "execution_count": 54,
     "metadata": {},
     "output_type": "execute_result"
    }
   ],
   "source": [
    "tuple([0, 1, 2, 3 ,9])\n"
   ]
  },
  {
   "cell_type": "code",
   "execution_count": 56,
   "metadata": {},
   "outputs": [
    {
     "data": {
      "text/plain": [
       "{13, 15, 18, 19, 20}"
      ]
     },
     "execution_count": 56,
     "metadata": {},
     "output_type": "execute_result"
    }
   ],
   "source": [
    "# set omits repetititve items and sorts. \n",
    "\n",
    "a6 = [13, 18, 20 , 15, 15, 18, 19, 19, 19 , 19]\n",
    "se1 = set(a6)\n",
    "se1"
   ]
  },
  {
   "cell_type": "code",
   "execution_count": 42,
   "metadata": {},
   "outputs": [
    {
     "data": {
      "text/plain": [
       "set()"
      ]
     },
     "execution_count": 42,
     "metadata": {},
     "output_type": "execute_result"
    }
   ],
   "source": [
    "se1 = set()\n",
    "se1\n",
    "# set()"
   ]
  },
  {
   "cell_type": "code",
   "execution_count": 58,
   "metadata": {},
   "outputs": [
    {
     "data": {
      "text/plain": [
       "{13, 15, 18, 19, 20}"
      ]
     },
     "execution_count": 58,
     "metadata": {},
     "output_type": "execute_result"
    }
   ],
   "source": [
    "se2 = set(a6)\n",
    "se2"
   ]
  },
  {
   "cell_type": "code",
   "execution_count": 60,
   "metadata": {},
   "outputs": [
    {
     "data": {
      "text/plain": [
       "{13, 15, 18, 19, 20, 'hello'}"
      ]
     },
     "execution_count": 60,
     "metadata": {},
     "output_type": "execute_result"
    }
   ],
   "source": [
    "a7 = [13, 18, 20 , 15, 15, 18, 19, 'hello', 'hello' , 19]\n",
    "se3 = set(a7)\n",
    "se3"
   ]
  },
  {
   "cell_type": "code",
   "execution_count": null,
   "metadata": {},
   "outputs": [],
   "source": [
    "list = [12, 13, 14, 14, 14, 18, 14, 11, 19, 20]\n"
   ]
  },
  {
   "cell_type": "code",
   "execution_count": 15,
   "metadata": {},
   "outputs": [],
   "source": [
    "se1 = set([23, 45, 67, 32, 23, 13, 23, 44])\n",
    "se2 = set([23, 12, 67, 32, 23, 13, 23, 12])\n"
   ]
  },
  {
   "cell_type": "code",
   "execution_count": 16,
   "metadata": {},
   "outputs": [
    {
     "data": {
      "text/plain": [
       "{13, 23, 32, 44, 45, 67}"
      ]
     },
     "execution_count": 16,
     "metadata": {},
     "output_type": "execute_result"
    }
   ],
   "source": [
    "se1"
   ]
  },
  {
   "cell_type": "code",
   "execution_count": 18,
   "metadata": {},
   "outputs": [
    {
     "data": {
      "text/plain": [
       "{12, 13, 23, 32, 67}"
      ]
     },
     "execution_count": 18,
     "metadata": {},
     "output_type": "execute_result"
    }
   ],
   "source": [
    "se2"
   ]
  },
  {
   "cell_type": "code",
   "execution_count": 19,
   "metadata": {},
   "outputs": [
    {
     "data": {
      "text/plain": [
       "{13, 23, 32, 67}"
      ]
     },
     "execution_count": 19,
     "metadata": {},
     "output_type": "execute_result"
    }
   ],
   "source": [
    "# اشتراک\n",
    "se1 & se2"
   ]
  },
  {
   "cell_type": "code",
   "execution_count": 20,
   "metadata": {},
   "outputs": [
    {
     "data": {
      "text/plain": [
       "{12, 13, 23, 32, 44, 45, 67}"
      ]
     },
     "execution_count": 20,
     "metadata": {},
     "output_type": "execute_result"
    }
   ],
   "source": [
    "# اجتماع\n",
    "se1 | se2"
   ]
  },
  {
   "cell_type": "code",
   "execution_count": 21,
   "metadata": {},
   "outputs": [
    {
     "data": {
      "text/plain": [
       "{44, 45}"
      ]
     },
     "execution_count": 21,
     "metadata": {},
     "output_type": "execute_result"
    }
   ],
   "source": [
    "se1 - se2"
   ]
  },
  {
   "cell_type": "markdown",
   "metadata": {},
   "source": [
    "# Dictionary"
   ]
  },
  {
   "cell_type": "code",
   "execution_count": 61,
   "metadata": {},
   "outputs": [
    {
     "data": {
      "text/plain": [
       "{}"
      ]
     },
     "execution_count": 61,
     "metadata": {},
     "output_type": "execute_result"
    }
   ],
   "source": [
    "d1 = dict()\n",
    "d1"
   ]
  },
  {
   "cell_type": "code",
   "execution_count": 64,
   "metadata": {},
   "outputs": [
    {
     "data": {
      "text/plain": [
       "{2: 'moj400'}"
      ]
     },
     "execution_count": 64,
     "metadata": {},
     "output_type": "execute_result"
    }
   ],
   "source": [
    "d1[2] = 'moj400'\n",
    "d1"
   ]
  },
  {
   "cell_type": "code",
   "execution_count": 65,
   "metadata": {},
   "outputs": [
    {
     "data": {
      "text/plain": [
       "{2: 'moj400', 12345: ['s-gh', 20, [20, 20]]}"
      ]
     },
     "execution_count": 65,
     "metadata": {},
     "output_type": "execute_result"
    }
   ],
   "source": [
    "d1[12345] = ['s-gh', 20, [20, 20]]\n",
    "d1"
   ]
  },
  {
   "cell_type": "code",
   "execution_count": 66,
   "metadata": {},
   "outputs": [
    {
     "data": {
      "text/plain": [
       "{2: 'moj400', 12345: ['s-gh', 20, [20, 20]], 12347: ['f-esh', 20, [20, 20]]}"
      ]
     },
     "execution_count": 66,
     "metadata": {},
     "output_type": "execute_result"
    }
   ],
   "source": [
    "d1[12347] = ['f-esh', 20, [20, 20]]\n",
    "d1"
   ]
  },
  {
   "cell_type": "code",
   "execution_count": 68,
   "metadata": {},
   "outputs": [
    {
     "data": {
      "text/plain": [
       "{2: 'moj400', 12345: ['s-gh', 20, [20, 20]], 12347: ['f-esh', 20, [20, 20]]}"
      ]
     },
     "execution_count": 68,
     "metadata": {},
     "output_type": "execute_result"
    }
   ],
   "source": [
    "d2 = {\n",
    "    2: 'moj400', \n",
    "    12345: ['s-gh', 20, [20, 20]],\n",
    "    12347: ['f-esh', 20, [20, 20]],\n",
    "}\n",
    "d2"
   ]
  },
  {
   "cell_type": "code",
   "execution_count": 71,
   "metadata": {},
   "outputs": [
    {
     "data": {
      "text/plain": [
       "{2: 'moj400', 12345: ['s-gh', 20, [20, 20]], 12347: ['f-esh', 20, [20, 20]]}"
      ]
     },
     "execution_count": 71,
     "metadata": {},
     "output_type": "execute_result"
    }
   ],
   "source": [
    "#یک راه دیگه تعریف دیکشنری\n",
    "d2 = {\n",
    "    2: 'moj400', \n",
    "    12345: ['s-gh', 20, [20, 20]],\n",
    "    12347: ['f-esh', 20, [20, 20]],\n",
    "        }\n",
    "d2"
   ]
  },
  {
   "cell_type": "code",
   "execution_count": 72,
   "metadata": {},
   "outputs": [
    {
     "data": {
      "text/plain": [
       "{2: 'moj400',\n",
       " 12345: ['s-gh', 20, [20, 20]],\n",
       " 12347: ['f-esh', 20, [20, 20]],\n",
       " 20: [30, 40, 'm7', 20]}"
      ]
     },
     "execution_count": 72,
     "metadata": {},
     "output_type": "execute_result"
    }
   ],
   "source": [
    "d2[20] = [30, 40 , 'm7', 20]\n",
    "d2"
   ]
  },
  {
   "cell_type": "code",
   "execution_count": null,
   "metadata": {},
   "outputs": [],
   "source": []
  },
  {
   "cell_type": "code",
   "execution_count": 77,
   "metadata": {},
   "outputs": [
    {
     "data": {
      "text/plain": [
       "{'score1': 16, 'score2': {15: 17}}"
      ]
     },
     "execution_count": 77,
     "metadata": {},
     "output_type": "execute_result"
    }
   ],
   "source": [
    "dict3  ={\n",
    "    'score1': 16,\n",
    "    'score2': {15 : 17}\n",
    "}\n",
    "dict3"
   ]
  },
  {
   "cell_type": "code",
   "execution_count": 78,
   "metadata": {},
   "outputs": [
    {
     "data": {
      "text/plain": [
       "{'score1': 16, 'score2': {15: 17}}"
      ]
     },
     "execution_count": 78,
     "metadata": {},
     "output_type": "execute_result"
    }
   ],
   "source": [
    "d3 = dict(dict3)\n",
    "d3"
   ]
  },
  {
   "cell_type": "code",
   "execution_count": 7,
   "metadata": {},
   "outputs": [
    {
     "data": {
      "text/plain": [
       "{}"
      ]
     },
     "execution_count": 7,
     "metadata": {},
     "output_type": "execute_result"
    }
   ],
   "source": [
    "dict_all_class = dict()\n",
    "dict_all_class\n",
    "\n",
    "#تهی"
   ]
  },
  {
   "cell_type": "code",
   "execution_count": 80,
   "metadata": {},
   "outputs": [
    {
     "data": {
      "text/plain": [
       "{1: 's-g', 2: 'f-e', 3: 's-k', 4: 's-r'}"
      ]
     },
     "execution_count": 80,
     "metadata": {},
     "output_type": "execute_result"
    }
   ],
   "source": [
    "c_101 = dict()\n",
    "c_101[1] = 's-g'\n",
    "c_101[2] = 'f-e'\n",
    "c_101[3] = 's-k'\n",
    "c_101[4] = 's-r'\n",
    "c_101"
   ]
  },
  {
   "cell_type": "code",
   "execution_count": 10,
   "metadata": {},
   "outputs": [
    {
     "data": {
      "text/plain": [
       "{5: 's+s', 6: 'f+f', 7: 's_s', 8: 's_s', 9: 'ss_ss'}"
      ]
     },
     "execution_count": 10,
     "metadata": {},
     "output_type": "execute_result"
    }
   ],
   "source": [
    "c_102 = {\n",
    "    5: 's+s',\n",
    "    6: \"f+f\",\n",
    "    7: 's_s',\n",
    "    8: 's_s',\n",
    "    9: 'ss_ss'\n",
    "}\n",
    "c_102\n"
   ]
  },
  {
   "cell_type": "code",
   "execution_count": 16,
   "metadata": {},
   "outputs": [
    {
     "data": {
      "text/plain": [
       "{101: {1: {'name': 's_', 'family': 's'}, 2: {'name': 'f_', 'family': 'e'}},\n",
       " 102: {'name': 'f_', 'family': 'e', 2: {'name': 'f_', 'family': 'e'}}}"
      ]
     },
     "execution_count": 16,
     "metadata": {},
     "output_type": "execute_result"
    }
   ],
   "source": [
    "\n",
    "dict_all_class = dict()\n",
    "dict_all_class\n",
    "\n",
    "\n",
    "\n",
    "dict_all_class[101] = c_101\n",
    "dict_all_class[102] = c_102\n",
    "\n",
    "dict_all_class"
   ]
  },
  {
   "cell_type": "code",
   "execution_count": 12,
   "metadata": {},
   "outputs": [
    {
     "data": {
      "text/plain": [
       "{1: {'name': 's_', 'family': 's'}, 2: {'name': 'f_', 'family': 'e'}}"
      ]
     },
     "execution_count": 12,
     "metadata": {},
     "output_type": "execute_result"
    }
   ],
   "source": [
    "# دیکشنری تو در تو\n",
    "\n",
    "c_101 = dict()\n",
    "c_101[1] = {'name': 's_', 'family': 's'}\n",
    "c_101[2] = {'name': 'f_', 'family': 'e'}\n",
    "\n",
    "\n",
    "# c_101[4]= 4\n",
    "c_101"
   ]
  },
  {
   "cell_type": "code",
   "execution_count": null,
   "metadata": {},
   "outputs": [],
   "source": [
    "def main():\n",
    "    n= eval(input('How many numbers do you have?'))\n",
    "    sum = 0.0\n",
    "    \n",
    "    for i in range(n):\n",
    "        \n",
    "        x= eval(input('Enter a  number:'))\n",
    "        sum = sum +x \n",
    "    print(']n The average is:', sum/n)    \n",
    "    \n",
    "main()"
   ]
  },
  {
   "cell_type": "code",
   "execution_count": 90,
   "metadata": {},
   "outputs": [
    {
     "name": "stdout",
     "output_type": "stream",
     "text": [
      "Enter n:6\n",
      "135\n"
     ]
    }
   ],
   "source": [
    "n= eval(input('Enter n:'))\n",
    "for i in range(n+1):\n",
    "    if i ==0:\n",
    "        pass\n",
    "    else:\n",
    "        if i %2 ==1:\n",
    "            print(i, end = \"\")\n",
    "            \n",
    "            \n",
    "print()            "
   ]
  },
  {
   "cell_type": "code",
   "execution_count": 18,
   "metadata": {},
   "outputs": [
    {
     "name": "stdout",
     "output_type": "stream",
     "text": [
      "Enter the starting number:6\n",
      "Enter the ending number:9\n",
      "\n"
     ]
    }
   ],
   "source": [
    "s= eval(input('Enter the starting number:'))\n",
    "e= eval(input('Enter the ending number:'))\n",
    "\n",
    "for i in range (s , e+1, -1):\n",
    "    if i % 2 ==1:\n",
    "        print(i, end = '')\n",
    "\n",
    "print()        "
   ]
  },
  {
   "cell_type": "code",
   "execution_count": 22,
   "metadata": {},
   "outputs": [
    {
     "name": "stdout",
     "output_type": "stream",
     "text": [
      "Enter the starting number:10\n",
      "Enter the ending number:10000\n",
      "Enter the step:100\n",
      "10 110 210 310 410 510 610 710 810 910 1010 1110 1210 1310 1410 1510 1610 1710 1810 1910 2010 2110 2210 2310 2410 2510 2610 2710 2810 2910 3010 3110 3210 3310 3410 3510 3610 3710 3810 3910 4010 4110 4210 4310 4410 4510 4610 4710 4810 4910 5010 5110 5210 5310 5410 5510 5610 5710 5810 5910 6010 6110 6210 6310 6410 6510 6610 6710 6810 6910 7010 7110 7210 7310 7410 7510 7610 7710 7810 7910 8010 8110 8210 8310 8410 8510 8610 8710 8810 8910 9010 9110 9210 9310 9410 9510 9610 9710 9810 9910 \n"
     ]
    }
   ],
   "source": [
    "start= eval(input('Enter the starting number:'))\n",
    "end= eval(input('Enter the ending number:'))\n",
    "step = eval(input('Enter the step:'))\n",
    "\n",
    "for i in range (start, end, step):\n",
    "    print(i, end= ' ')\n",
    "    \n",
    "print()    "
   ]
  },
  {
   "cell_type": "code",
   "execution_count": 32,
   "metadata": {},
   "outputs": [
    {
     "name": "stdout",
     "output_type": "stream",
     "text": [
      "* * * * * * * * * \n",
      "*               * \n",
      "*               * \n",
      "*               * \n",
      "*               * \n",
      "*               * \n",
      "*               * \n",
      "*               * \n",
      "* * * * * * * * * \n"
     ]
    }
   ],
   "source": [
    "num = 9\n",
    "print('* ' * num)\n",
    "\n",
    "for i in range(num-2):\n",
    "    print('* ' + '  ' * (num-2) + '* ')\n",
    "print('* ' * num)    "
   ]
  },
  {
   "cell_type": "code",
   "execution_count": 34,
   "metadata": {},
   "outputs": [
    {
     "name": "stdout",
     "output_type": "stream",
     "text": [
      "* * * * * * * * * * * * \n",
      "*                     *\n",
      "*                     *\n",
      "*                     *\n",
      "*                     *\n",
      "*                     *\n",
      "*                     *\n",
      "*                     *\n",
      "*                     *\n",
      "*                     *\n",
      "*                     *\n",
      "*                     *\n",
      "*                     *\n",
      "*                     *\n",
      "*                     *\n",
      "*                     *\n",
      "*                     *\n",
      "*                     *\n",
      "*                     *\n",
      "*                     *\n",
      "* * * * * * * * * * * * \n"
     ]
    }
   ],
   "source": [
    "n=20\n",
    "for i in range(n+1):\n",
    "    if i == 0:\n",
    "        print('* ' * (n//2+2))\n",
    "    elif i == n:\n",
    "        print('* ' * (n//2+2))\n",
    "    else:\n",
    "        print('*', \" \" * (n-2), ' *')"
   ]
  },
  {
   "cell_type": "code",
   "execution_count": 13,
   "metadata": {},
   "outputs": [
    {
     "name": "stdout",
     "output_type": "stream",
     "text": [
      "There are 0s\n"
     ]
    }
   ],
   "source": [
    "# for i in range(1,2,0,4,4)\n",
    "\n",
    "for i in [1,2,0, 3,4]:\n",
    "    \n",
    "    if i ==0:\n",
    "        print('There are 0s')\n",
    "        break\n",
    "        \n",
    "else:\n",
    "    \n",
    "    print('there sre not 0s')"
   ]
  },
  {
   "cell_type": "code",
   "execution_count": 38,
   "metadata": {},
   "outputs": [
    {
     "name": "stdout",
     "output_type": "stream",
     "text": [
      "How many numbers do you have?4\n",
      "Enter a number>> 12\n",
      "Enter a number>> 12\n",
      "Enter a number>> 12\n",
      "Enter a number>> 12\n",
      "The average of the 4numbers you entred is: 12.0\n"
     ]
    }
   ],
   "source": [
    "sum = 0.0\n",
    "n = eval(input('How many numbers do you have?'))\n",
    "count = 0\n",
    "while count < n:\n",
    "    x = eval(input('Enter a number>> '))\n",
    "    sum = sum + x\n",
    "    count = count + 1\n",
    "\n",
    "print ('The average of the ' + str(n) +  'numbers you entred is:', sum/n)    "
   ]
  },
  {
   "cell_type": "code",
   "execution_count": 1,
   "metadata": {
    "scrolled": true
   },
   "outputs": [
    {
     "name": "stdout",
     "output_type": "stream",
     "text": [
      "Enter a number:8\n",
      "1\n",
      "2\n",
      "3  \n",
      "5  \n",
      "8  \n",
      "13  \n",
      "21  \n",
      "34  \n"
     ]
    }
   ],
   "source": [
    "f1 =1\n",
    "f2=2\n",
    "n= int(input('Enter a number:'))\n",
    "if n==1:\n",
    "    print(f1)\n",
    "    exit(0)\n",
    "    \n",
    "\n",
    "elif n==2:\n",
    "    print(f1)\n",
    "    print(f2)\n",
    "    \n",
    "else:\n",
    "    print(f1)\n",
    "    print(f2)\n",
    "    i=3\n",
    "    while i <=n:\n",
    "        f3 = f2 + f1\n",
    "        print(f3, \" \" )\n",
    "        f1=f2\n",
    "        f2=f3\n",
    "        i=i+1"
   ]
  },
  {
   "cell_type": "code",
   "execution_count": 4,
   "metadata": {},
   "outputs": [
    {
     "name": "stdout",
     "output_type": "stream",
     "text": [
      "please input your number: 8\n",
      "your number is not prime\n"
     ]
    }
   ],
   "source": [
    "number = int(input('please input your number: '))\n",
    "prime= 0\n",
    "for i in range(1, number+1):\n",
    "    if number%i == 0:\n",
    "        prime+=1\n",
    "\n",
    "if prime==2:\n",
    "    print('your number is prime')\n",
    "else:\n",
    "    print('your number is not prime')"
   ]
  },
  {
   "cell_type": "code",
   "execution_count": 2,
   "metadata": {},
   "outputs": [
    {
     "name": "stdout",
     "output_type": "stream",
     "text": [
      "Enter a number:7\n",
      "1 3 5 7 \n"
     ]
    }
   ],
   "source": [
    "n= eval(input('Enter a number:'))\n",
    "for i in range(n+1):\n",
    "    if i==0:\n",
    "        pass\n",
    "    else:\n",
    "        if i %2 ==1:\n",
    "            print(i, end = \" \")\n",
    "            \n",
    "            \n",
    "print()            "
   ]
  },
  {
   "cell_type": "code",
   "execution_count": 3,
   "metadata": {},
   "outputs": [
    {
     "name": "stdout",
     "output_type": "stream",
     "text": [
      "Enter the start number:3\n",
      "Enter the end number:8\n",
      "3 5 7 "
     ]
    }
   ],
   "source": [
    "while True:\n",
    "    start = eval(input('Enter the start number:'))\n",
    "    end = eval(input('Enter the end number:'))\n",
    "    \n",
    "    if start>0 and end>0 and end>start:\n",
    "        break\n",
    "        \n",
    "    else:\n",
    "        print(\"Please enter positive numbers, with end being greater than start\")\n",
    "    \n",
    "for i in range(start, end+1):\n",
    "    if i%2==0:\n",
    "        continue\n",
    "        \n",
    "    print(i, end= \" \" )    "
   ]
  },
  {
   "cell_type": "code",
   "execution_count": 4,
   "metadata": {},
   "outputs": [
    {
     "name": "stdout",
     "output_type": "stream",
     "text": [
      "    *    \n",
      "   * *   \n",
      "  *   *  \n",
      " *     * \n",
      "*       *\n",
      " *     * \n",
      "  *   *  \n",
      "   * *   \n",
      "    *    \n"
     ]
    }
   ],
   "source": [
    "for i in range(1,10):\n",
    "    for j in range(1,10):\n",
    "        if ((i+j == 6) or (j-i ==4) or (i+j == 14) or (i- j==4)):\n",
    "            print(\"*\", end = \"\")\n",
    "            \n",
    "        else:\n",
    "            print(\" \", end = \"\")\n",
    "            \n",
    "    print()    \n",
    "        "
   ]
  },
  {
   "cell_type": "code",
   "execution_count": null,
   "metadata": {},
   "outputs": [],
   "source": []
  }
 ],
 "metadata": {
  "kernelspec": {
   "display_name": "Python 3",
   "language": "python",
   "name": "python3"
  },
  "language_info": {
   "codemirror_mode": {
    "name": "ipython",
    "version": 3
   },
   "file_extension": ".py",
   "mimetype": "text/x-python",
   "name": "python",
   "nbconvert_exporter": "python",
   "pygments_lexer": "ipython3",
   "version": "3.8.5"
  }
 },
 "nbformat": 4,
 "nbformat_minor": 4
}
