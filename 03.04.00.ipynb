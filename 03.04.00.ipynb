{
 "cells": [
  {
   "cell_type": "code",
   "execution_count": 1,
   "metadata": {},
   "outputs": [
    {
     "name": "stdout",
     "output_type": "stream",
     "text": [
      "  *********\n",
      "   ********\n",
      "    *******\n",
      "     ******\n",
      "      *****\n",
      "       ****\n",
      "        ***\n",
      "         **\n"
     ]
    }
   ],
   "source": [
    "n=10\n",
    "for i in range (1,9):\n",
    "    print(i * ' ', (n-i)*'*')\n"
   ]
  },
  {
   "cell_type": "code",
   "execution_count": 4,
   "metadata": {},
   "outputs": [
    {
     "name": "stdout",
     "output_type": "stream",
     "text": [
      "          *\n",
      "         ***\n",
      "        *****\n",
      "       *******\n",
      "      *********\n",
      "     ***********\n",
      "    *************\n",
      "   ***************\n",
      "  *****************\n",
      " *******************\n"
     ]
    }
   ],
   "source": [
    "n= 10\n",
    "for i in range (n):\n",
    "    for j in range (n-i):\n",
    "        print(' ', end= '')\n",
    "\n",
    "    for j in range(2*i+1):\n",
    "        print('*', end= '')\n",
    "\n",
    "    print()"
   ]
  },
  {
   "cell_type": "code",
   "execution_count": null,
   "metadata": {},
   "outputs": [],
   "source": [
    "n=10\n",
    "for i in range (n):\n",
    "    for j in range ((n-i)):\n",
    "        print(' ', end= '')\n",
    "\n",
    "    for j in range(2*i+1):\n",
    "        print('*', end= '')\n",
    "                \n",
    "    print()"
   ]
  },
  {
   "cell_type": "code",
   "execution_count": null,
   "metadata": {},
   "outputs": [],
   "source": [
    "def polstar (n=10):\n",
    "  for i in range (1, 2*n, 2):\n",
    "    print((n-(i//2)) * ' ', '*' * i)\n",
    "\n",
    "polstar() "
   ]
  },
  {
   "cell_type": "code",
   "execution_count": 6,
   "metadata": {},
   "outputs": [
    {
     "name": "stdout",
     "output_type": "stream",
     "text": [
      "Please enter a degree6\n",
      "42.8\n"
     ]
    }
   ],
   "source": [
    "c=int((input('Please enter a degree')))\n",
    "\n",
    "F= (9/5*c) +32\n",
    "print(F)  "
   ]
  },
  {
   "cell_type": "code",
   "execution_count": 7,
   "metadata": {},
   "outputs": [
    {
     "name": "stdout",
     "output_type": "stream",
     "text": [
      "Please enter a celsius number:87\n",
      "Celsius: 87 to Farenheit : 188.6\n"
     ]
    }
   ],
   "source": [
    "\n",
    "def main():\n",
    "    c= int(input('Please enter a celsius number:'))\n",
    "    f= (9/5) * c +32\n",
    "    print('Celsius:', c, 'to Farenheit :', f )\n",
    "    \n",
    "main() "
   ]
  },
  {
   "cell_type": "code",
   "execution_count": 8,
   "metadata": {},
   "outputs": [
    {
     "name": "stdout",
     "output_type": "stream",
     "text": [
      "This program finds the real solutions to a quadratic\n",
      "\n",
      "Enter the value of coefficient a:8\n",
      "Enter the value of coefficient b:8\n",
      "Enter the value of coefficient c:9\n",
      "\n",
      "The solutions are : (-0.5000000000000001-0.9354143466934853j) (-0.49999999999999994+0.9354143466934853j)\n"
     ]
    }
   ],
   "source": [
    "def rootsQEq():\n",
    "    print('This program finds the real solutions to a quadratic')\n",
    "    print()\n",
    "    \n",
    "    \n",
    "    a= eval(input('Enter the value of coefficient a:'))\n",
    "    b= eval(input('Enter the value of coefficient b:'))\n",
    "    c= eval(input('Enter the value of coefficient c:'))\n",
    "    \n",
    "    \n",
    "    s_root_val = (b*b- 4*a*c)  ** 0.5\n",
    "    \n",
    "    root1 = (-b-s_root_val)/(2*a)\n",
    "    \n",
    "    root2 = (-b+s_root_val)/(2*a)\n",
    "    \n",
    "    print()\n",
    "    print('The solutions are :', root1, root2)\n",
    "    \n",
    "    \n",
    "    \n",
    "rootsQEq()"
   ]
  },
  {
   "cell_type": "code",
   "execution_count": 5,
   "metadata": {},
   "outputs": [
    {
     "name": "stdout",
     "output_type": "stream",
     "text": [
      "This program finds the real solutions to a quadratic\n",
      "\n",
      "Enter the value of coefficient a:6\n",
      "Enter the value of coefficient b:1\n",
      "Enter the value of coefficient c:8\n",
      "The equation has no real roots\n"
     ]
    }
   ],
   "source": [
    "import math\n",
    "\n",
    "def rootsQEq():\n",
    "    print('This program finds the real solutions to a quadratic')\n",
    "    print()\n",
    "    \n",
    "    a= eval(input('Enter the value of coefficient a:'))\n",
    "    b= eval(input('Enter the value of coefficient b:'))\n",
    "    c= eval(input('Enter the value of coefficient c:'))\n",
    "\n",
    "    discriminant = b*b- 4*a*c\n",
    "    \n",
    "    if discriminant <0:\n",
    "        print('The equation has no real roots')\n",
    "    else:\n",
    "        s_root_val= math.sqrt(discriminant)\n",
    "    \n",
    "        root1 = (-b- s_root_val)/(2*a)\n",
    "        root2 = (-b+ s_root_val)/(2*a)\n",
    "        print('\\nThe solutions are :', root1, root2)\n",
    "    \n",
    "rootsQEq()"
   ]
  },
  {
   "cell_type": "code",
   "execution_count": 6,
   "metadata": {},
   "outputs": [
    {
     "name": "stdout",
     "output_type": "stream",
     "text": [
      "This program finds the real solutions to a quadratic\n",
      "\n",
      "Enter the value of coefficient a:1\n",
      "Enter the value of coefficient b:2\n",
      "Enter the value of coefficient c:1\n",
      "\n",
      "The solution is: -1.0\n"
     ]
    }
   ],
   "source": [
    "import math\n",
    "\n",
    "def rootsQEq():\n",
    "    print('This program finds the real solutions to a quadratic')\n",
    "    print()\n",
    "    \n",
    "    a= eval(input('Enter the value of coefficient a:'))\n",
    "    b= eval(input('Enter the value of coefficient b:'))\n",
    "    c= eval(input('Enter the value of coefficient c:'))\n",
    "\n",
    "    discriminant = b*b- 4*a*c\n",
    "    \n",
    "    if discriminant !=0:\n",
    "        s_root_val= math.sqrt(discriminant)\n",
    "    \n",
    "        root1 = (-b- s_root_val)/(2*a)\n",
    "        root2 = (-b+ s_root_val)/(2*a)\n",
    "        print('\\nThe solutions are :', root1, root2)\n",
    "    else:\n",
    "        root = (-b)/(2*a)\n",
    "        print('\\nThe solution is:', root)\n",
    "        \n",
    "    \n",
    "rootsQEq()"
   ]
  },
  {
   "cell_type": "code",
   "execution_count": 7,
   "metadata": {},
   "outputs": [
    {
     "name": "stdout",
     "output_type": "stream",
     "text": [
      "Please enter pass 1:76\n",
      "Please enter pass 2:76\n",
      "Password is correct\n"
     ]
    }
   ],
   "source": [
    "def password_compare (pass1, pass2):\n",
    "    if pass1 != pass2: \n",
    "     print(' not correct')\n",
    "     return  False\n",
    "    return True \n",
    "for i in range (3):\n",
    "    p1 = input('Please enter pass 1:')\n",
    "    p2 = input ('Please enter pass 2:')\n",
    "\n",
    "    flag = password_compare(p1, p2)\n",
    "\n",
    "    if flag == True:\n",
    "        print('Password is correct')\n",
    "        break\n",
    "    print('\\n\\n', 'Please try again!')"
   ]
  },
  {
   "cell_type": "code",
   "execution_count": 1,
   "metadata": {},
   "outputs": [
    {
     "data": {
      "text/plain": [
       "True"
      ]
     },
     "execution_count": 1,
     "metadata": {},
     "output_type": "execute_result"
    }
   ],
   "source": [
    "'a'< 'b'"
   ]
  },
  {
   "cell_type": "code",
   "execution_count": 2,
   "metadata": {},
   "outputs": [
    {
     "data": {
      "text/plain": [
       "False"
      ]
     },
     "execution_count": 2,
     "metadata": {},
     "output_type": "execute_result"
    }
   ],
   "source": [
    "'aa'<'a'"
   ]
  },
  {
   "cell_type": "code",
   "execution_count": 3,
   "metadata": {},
   "outputs": [
    {
     "name": "stdout",
     "output_type": "stream",
     "text": [
      "correct\n"
     ]
    }
   ],
   "source": [
    "if -30:\n",
    "    print('correct')"
   ]
  },
  {
   "cell_type": "code",
   "execution_count": 4,
   "metadata": {},
   "outputs": [
    {
     "data": {
      "text/plain": [
       "65"
      ]
     },
     "execution_count": 4,
     "metadata": {},
     "output_type": "execute_result"
    }
   ],
   "source": [
    "# ASCII number\n",
    "ord('A')"
   ]
  },
  {
   "cell_type": "code",
   "execution_count": 8,
   "metadata": {},
   "outputs": [
    {
     "name": "stdout",
     "output_type": "stream",
     "text": [
      "True\n"
     ]
    }
   ],
   "source": [
    " if 1<2<3:\n",
    "        print('True')"
   ]
  },
  {
   "cell_type": "code",
   "execution_count": 5,
   "metadata": {},
   "outputs": [
    {
     "name": "stdout",
     "output_type": "stream",
     "text": [
      "True\n"
     ]
    }
   ],
   "source": [
    "if 1<2 and 2<3:\n",
    "    print('True')"
   ]
  },
  {
   "cell_type": "code",
   "execution_count": 6,
   "metadata": {},
   "outputs": [
    {
     "data": {
      "text/plain": [
       "False"
      ]
     },
     "execution_count": 6,
     "metadata": {},
     "output_type": "execute_result"
    }
   ],
   "source": [
    "x = True\n",
    "not x"
   ]
  },
  {
   "cell_type": "code",
   "execution_count": 2,
   "metadata": {},
   "outputs": [
    {
     "name": "stdout",
     "output_type": "stream",
     "text": [
      "OK\n"
     ]
    }
   ],
   "source": [
    "temp = 40\n",
    "if temp <50 and temp>30:\n",
    "    print('OK')"
   ]
  },
  {
   "cell_type": "code",
   "execution_count": 3,
   "metadata": {},
   "outputs": [
    {
     "name": "stdout",
     "output_type": "stream",
     "text": [
      "ok\n"
     ]
    }
   ],
   "source": [
    "x= 'covid-19'\n",
    "\n",
    "sequence= 'fkndjkahbl;dkfsklnf lzkvilknv,mzvmvfd'\n",
    "\n",
    "if x not in sequence:\n",
    "    print('ok')\n",
    "    "
   ]
  },
  {
   "cell_type": "code",
   "execution_count": null,
   "metadata": {},
   "outputs": [],
   "source": []
  }
 ],
 "metadata": {
  "kernelspec": {
   "display_name": "Python 3",
   "language": "python",
   "name": "python3"
  },
  "language_info": {
   "codemirror_mode": {
    "name": "ipython",
    "version": 3
   },
   "file_extension": ".py",
   "mimetype": "text/x-python",
   "name": "python",
   "nbconvert_exporter": "python",
   "pygments_lexer": "ipython3",
   "version": "3.8.5"
  }
 },
 "nbformat": 4,
 "nbformat_minor": 4
}
