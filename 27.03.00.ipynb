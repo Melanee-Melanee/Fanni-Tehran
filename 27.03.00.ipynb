{
 "cells": [
  {
   "cell_type": "code",
   "execution_count": 2,
   "metadata": {},
   "outputs": [
    {
     "name": "stdout",
     "output_type": "stream",
     "text": [
      "Happy birth day to you\n",
      "Happy birth day to you\n",
      "Happy birth day to you\n",
      "Happy birth day dear Fred\n",
      "Happy birth day to you\n"
     ]
    }
   ],
   "source": [
    "def happy():\n",
    "    print('Happy birth day to you')\n",
    "    \n",
    "    \n",
    "def signFred():\n",
    "    happy()\n",
    "    happy()\n",
    "    happy()\n",
    "    print('Happy birth day dear Fred')\n",
    "    happy()\n",
    "    \n",
    "signFred()\n",
    "    "
   ]
  },
  {
   "cell_type": "code",
   "execution_count": 45,
   "metadata": {},
   "outputs": [
    {
     "name": "stdout",
     "output_type": "stream",
     "text": [
      "Happy birth day to you\n",
      "Happy birth day to you\n",
      "Happy birth day to you\n",
      "Happy birth day to you\n",
      "Happy birth day to you\n",
      "Happy birth day to you\n",
      "Happy birth day to you\n",
      "Happy birth day to you\n",
      "Happy birth day to you\n",
      "Happy birth day to you\n",
      "happy birthday dear mojtame fanni\n",
      "Happy birth day to you\n"
     ]
    }
   ],
   "source": [
    "def happy():\n",
    "    print('Happy birth day to you')\n",
    "def sign (name):\n",
    "    for i in range (10) :\n",
    "        happy()\n",
    "        \n",
    "    print('happy birthday dear', name)\n",
    "    happy()\n",
    "    \n",
    "sign('mojtame fanni')\n",
    "    "
   ]
  },
  {
   "cell_type": "code",
   "execution_count": 7,
   "metadata": {},
   "outputs": [
    {
     "name": "stdout",
     "output_type": "stream",
     "text": [
      "x: 10\n",
      "y: 21\n",
      "x is after swapping with y is: 21\n",
      "y is after swapping with x is : 10\n"
     ]
    }
   ],
   "source": [
    "def swap(x,y):\n",
    "    print('x:', x)\n",
    "    print('y:', y)\n",
    "    \n",
    "    temp = x\n",
    "    x=y\n",
    "    y=temp\n",
    "    \n",
    "    \n",
    "    \n",
    "    print('x is after swapping with y is:', x)\n",
    "    print('y is after swapping with x is :', y)\n",
    "    \n",
    "\n"
   ]
  },
  {
   "cell_type": "code",
   "execution_count": 8,
   "metadata": {},
   "outputs": [
    {
     "name": "stdout",
     "output_type": "stream",
     "text": [
      "x: 10\n",
      "y: 21\n",
      "x is after swapping with y is: 21\n",
      "y is after swapping with x is : 10\n"
     ]
    }
   ],
   "source": [
    "swap(10, 21)"
   ]
  },
  {
   "cell_type": "code",
   "execution_count": 9,
   "metadata": {},
   "outputs": [],
   "source": [
    "def swap(x, y):\n",
    "    \n",
    "    print('x:', x)\n",
    "    print('y:', y)\n",
    "    \n",
    "    x, y = y, x\n",
    "    \n",
    "    print('x is after swapping with y is:', x)\n",
    "    print('y is after swapping with x is :', y)"
   ]
  },
  {
   "cell_type": "code",
   "execution_count": 10,
   "metadata": {},
   "outputs": [
    {
     "name": "stdout",
     "output_type": "stream",
     "text": [
      "x: 10\n",
      "y: 21\n",
      "x is after swapping with y is: 21\n",
      "y is after swapping with x is : 10\n"
     ]
    }
   ],
   "source": [
    "swap(10,21)"
   ]
  },
  {
   "cell_type": "code",
   "execution_count": 11,
   "metadata": {},
   "outputs": [],
   "source": [
    "def func1(x,y,z):\n",
    "    z=4\n",
    "    print(x,y,z)"
   ]
  },
  {
   "cell_type": "code",
   "execution_count": 17,
   "metadata": {},
   "outputs": [
    {
     "name": "stdout",
     "output_type": "stream",
     "text": [
      "48 48 4\n"
     ]
    }
   ],
   "source": [
    "a, b = 35, 48\n",
    "c=15\n",
    "\n",
    "func1(b,b, a)\n"
   ]
  },
  {
   "cell_type": "code",
   "execution_count": 20,
   "metadata": {},
   "outputs": [
    {
     "name": "stdout",
     "output_type": "stream",
     "text": [
      "20\n",
      "100\n"
     ]
    }
   ],
   "source": [
    "x= 100\n",
    "def func3():\n",
    "    x= 20 \n",
    "    print(x)\n",
    "\n",
    "func3()\n",
    "print(x)"
   ]
  },
  {
   "cell_type": "code",
   "execution_count": 21,
   "metadata": {},
   "outputs": [
    {
     "name": "stdout",
     "output_type": "stream",
     "text": [
      "20\n",
      "100\n"
     ]
    }
   ],
   "source": [
    "x=100\n",
    "def func4(x):\n",
    "    print(x)\n",
    "    \n",
    "    \n",
    "func4(20)\n",
    "print(x)"
   ]
  },
  {
   "cell_type": "code",
   "execution_count": 25,
   "metadata": {},
   "outputs": [
    {
     "name": "stdout",
     "output_type": "stream",
     "text": [
      "1050.0\n"
     ]
    }
   ],
   "source": [
    "def addInterest (balance, rate):\n",
    "    newBalance = balance *(1 + rate)\n",
    "    return newBalance\n",
    "\n",
    "\n",
    "def test():\n",
    "    amount = 1000\n",
    "    rate = 0.05\n",
    "    nb = addInterest (amount, rate)\n",
    "    print(nb)\n",
    "    \n",
    "test()"
   ]
  },
  {
   "cell_type": "code",
   "execution_count": 26,
   "metadata": {},
   "outputs": [
    {
     "name": "stdout",
     "output_type": "stream",
     "text": [
      "1010\n",
      "27\n",
      "81\n"
     ]
    }
   ],
   "source": [
    "xyzw = 1010\n",
    "print(xyzw)\n",
    "\n",
    "def func1(x):\n",
    "    print(x**3)\n",
    "    \n",
    "def func2(x):\n",
    "    print(x**4)\n",
    "    \n",
    "func1 (3)\n",
    "func2 (3)"
   ]
  },
  {
   "cell_type": "code",
   "execution_count": 37,
   "metadata": {},
   "outputs": [
    {
     "name": "stdout",
     "output_type": "stream",
     "text": [
      "6\n"
     ]
    }
   ],
   "source": [
    "def func8 (x):\n",
    "    print(x)\n",
    "    \n",
    "    \n",
    "\n",
    "    \n",
    "func8(x)    "
   ]
  },
  {
   "cell_type": "code",
   "execution_count": 38,
   "metadata": {},
   "outputs": [
    {
     "name": "stdout",
     "output_type": "stream",
     "text": [
      "2\n",
      "6\n",
      "6\n"
     ]
    }
   ],
   "source": [
    "\n",
    "def increment(y):\n",
    "    global x\n",
    "    x = y + 1\n",
    "    print(x)\n",
    "    \n",
    "    \n",
    "    \n",
    "x= 1\n",
    "\n",
    "increment(x)\n",
    "increment(5)\n",
    "print(x)"
   ]
  },
  {
   "cell_type": "code",
   "execution_count": 39,
   "metadata": {},
   "outputs": [
    {
     "name": "stdout",
     "output_type": "stream",
     "text": [
      "The answer is:24\n"
     ]
    }
   ],
   "source": [
    "def answer():\n",
    "    print('The answer is:', end = '')\n",
    "    print(6*4)\n",
    "answer()    "
   ]
  },
  {
   "cell_type": "code",
   "execution_count": 43,
   "metadata": {},
   "outputs": [
    {
     "name": "stdout",
     "output_type": "stream",
     "text": [
      "0   \n",
      "1   *\n",
      "2   **\n",
      "3   ***\n",
      "4   ****\n",
      "5   *****\n",
      "6   ******\n",
      "7   *******\n",
      "8   ********\n",
      "9   *********\n"
     ]
    }
   ],
   "source": [
    "def plotstar2(n= 10):\n",
    "    for i in range (10):\n",
    "        print(i, ' ', '*' *i)\n",
    "        \n",
    "plotstar2()        "
   ]
  },
  {
   "cell_type": "code",
   "execution_count": 44,
   "metadata": {},
   "outputs": [
    {
     "name": "stdout",
     "output_type": "stream",
     "text": [
      "* * * * * * * * * * \n",
      "* * * * * * * * * * \n",
      "* * * * * * * * * * \n",
      "* * * * * * * * * * \n",
      "* * * * * * * * * * \n",
      "* * * * * * * * * * \n",
      "* * * * * * * * * * \n",
      "* * * * * * * * * * \n",
      "* * * * * * * * * * \n",
      "* * * * * * * * * * \n"
     ]
    }
   ],
   "source": [
    "def plotstar (n=10):\n",
    "    for i in range(n):\n",
    "        for j in range(n):\n",
    "            print('*', end = ' ')\n",
    "        print()\n",
    "plotstar()        "
   ]
  },
  {
   "cell_type": "code",
   "execution_count": null,
   "metadata": {},
   "outputs": [],
   "source": []
  }
 ],
 "metadata": {
  "kernelspec": {
   "display_name": "Python 3",
   "language": "python",
   "name": "python3"
  },
  "language_info": {
   "codemirror_mode": {
    "name": "ipython",
    "version": 3
   },
   "file_extension": ".py",
   "mimetype": "text/x-python",
   "name": "python",
   "nbconvert_exporter": "python",
   "pygments_lexer": "ipython3",
   "version": "3.8.5"
  }
 },
 "nbformat": 4,
 "nbformat_minor": 4
}
