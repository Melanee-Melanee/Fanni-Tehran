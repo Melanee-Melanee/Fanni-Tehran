{
 "cells": [
  {
   "cell_type": "code",
   "execution_count": 8,
   "metadata": {},
   "outputs": [
    {
     "name": "stdout",
     "output_type": "stream",
     "text": [
      "please input your number:7\n",
      "your number is prime\n"
     ]
    }
   ],
   "source": [
    "number = int(input('please input your number:'))\n",
    "prime = 0\n",
    "for i in range(1, number+1):\n",
    "    if number%i == 0:\n",
    "        prime+=1\n",
    "        \n",
    "        \n",
    "if prime ==2:\n",
    "    print('your number is prime')\n",
    "    \n",
    "else:\n",
    "    print('your number is not prime')\n"
   ]
  },
  {
   "cell_type": "code",
   "execution_count": 3,
   "metadata": {},
   "outputs": [],
   "source": [
    "def is_prime(n):\n",
    "    if n %2 ==0 or n<2:\n",
    "        return 'Not Prime'\n",
    "    \n",
    "    for i in range(3, int(n**.5) + 1, 2):\n",
    "        return 'Not Prime'\n",
    "    \n",
    "    return 'Prime'"
   ]
  },
  {
   "cell_type": "code",
   "execution_count": 7,
   "metadata": {},
   "outputs": [
    {
     "data": {
      "text/plain": [
       "'Prime'"
      ]
     },
     "execution_count": 7,
     "metadata": {},
     "output_type": "execute_result"
    }
   ],
   "source": [
    "is_prime(5)"
   ]
  },
  {
   "cell_type": "code",
   "execution_count": 50,
   "metadata": {},
   "outputs": [
    {
     "name": "stdout",
     "output_type": "stream",
     "text": [
      "12345678910"
     ]
    }
   ],
   "source": [
    "for i in range(1,11):\n",
    "    print(i, end = '')"
   ]
  },
  {
   "cell_type": "code",
   "execution_count": 12,
   "metadata": {},
   "outputs": [
    {
     "name": "stdout",
     "output_type": "stream",
     "text": [
      "12345678910"
     ]
    }
   ],
   "source": [
    "counter = 1\n",
    "while counter <= 10:\n",
    "    print(counter, end= '')\n",
    "    counter+=1\n",
    "    \n",
    "    "
   ]
  },
  {
   "cell_type": "code",
   "execution_count": 13,
   "metadata": {},
   "outputs": [
    {
     "name": "stdout",
     "output_type": "stream",
     "text": [
      "1 2 3 4 5 6 7 8 9 10 "
     ]
    }
   ],
   "source": [
    "i = 1\n",
    "while i <=10:\n",
    "    print(i, end = \" \")\n",
    "    i +=1"
   ]
  },
  {
   "cell_type": "code",
   "execution_count": 14,
   "metadata": {},
   "outputs": [
    {
     "name": "stdout",
     "output_type": "stream",
     "text": [
      "123456789101112131415161718192021222324252627282930313233343536373839404142434445464748495051525354555657585960616263646566676869707172737475767778798081828384858687888990919293949596979899"
     ]
    }
   ],
   "source": [
    "for i in range(1,100):\n",
    "    print(i, end = '')"
   ]
  },
  {
   "cell_type": "code",
   "execution_count": 15,
   "metadata": {},
   "outputs": [
    {
     "name": "stdout",
     "output_type": "stream",
     "text": [
      "enter n:4\n",
      "enter number:5\n",
      "enter number:4\n",
      "enter number:7\n",
      "enter number:8\n",
      "average is: 6.0\n"
     ]
    }
   ],
   "source": [
    "\n",
    "def average ():\n",
    "    \n",
    "    n = eval(input('enter n:'))\n",
    "    \n",
    "    sum = 0\n",
    "    for i in range (n):\n",
    "        \n",
    "        x = eval(input('enter number:'))\n",
    "        sum = sum +x\n",
    "    print('average is:', sum/n)   \n",
    "\n",
    "average()\n",
    "    \n",
    "    "
   ]
  },
  {
   "cell_type": "code",
   "execution_count": 16,
   "metadata": {},
   "outputs": [
    {
     "name": "stdout",
     "output_type": "stream",
     "text": [
      "10 9 8 7 6 5 4 3 2 1 "
     ]
    }
   ],
   "source": [
    "for i in range (10, 0, -1):\n",
    "    print(i, end = \" \")\n",
    "    "
   ]
  },
  {
   "cell_type": "code",
   "execution_count": 17,
   "metadata": {},
   "outputs": [
    {
     "name": "stdout",
     "output_type": "stream",
     "text": [
      "10 9 8 7 6 5 4 3 2 1 "
     ]
    }
   ],
   "source": [
    "i = 10\n",
    "while i>=1:\n",
    "    print(i, end = ' ')\n",
    "    i-=1"
   ]
  },
  {
   "cell_type": "code",
   "execution_count": 19,
   "metadata": {},
   "outputs": [
    {
     "name": "stdout",
     "output_type": "stream",
     "text": [
      "enter a number >>4\n",
      "yes or noyes\n",
      "enter a number >>7\n",
      "yes or nono\n",
      "the average of the2numer is 5.5\n"
     ]
    }
   ],
   "source": [
    "sum = 0\n",
    "count = 0\n",
    "moreData = \"yes\"\n",
    "while moreData == 'yes':\n",
    "    x= eval(input(\"enter a number >>\"))\n",
    "    sum = sum +x\n",
    "    count = count +1\n",
    "    moreData = input('yes or no')\n",
    "\n",
    "print('the average of the' +str (count) + \"numer is\" , sum/count)    "
   ]
  },
  {
   "cell_type": "code",
   "execution_count": 22,
   "metadata": {},
   "outputs": [],
   "source": [
    "def sum_n(n=10):\n",
    "    s= 0\n",
    "    counter = 1\n",
    "    while counter <=n:\n",
    "        a = eval(input('Please enter a number:'))\n",
    "        s = s + a\n",
    "        counter +=1\n",
    "        \n",
    "    avg = s/n\n",
    "    \n",
    "    print(avg)"
   ]
  },
  {
   "cell_type": "code",
   "execution_count": 23,
   "metadata": {},
   "outputs": [
    {
     "name": "stdout",
     "output_type": "stream",
     "text": [
      "Please enter a number:14\n",
      "Please enter a number:15\n",
      "Please enter a number:16\n",
      "15.0\n"
     ]
    }
   ],
   "source": [
    "sum_n(3)"
   ]
  },
  {
   "cell_type": "code",
   "execution_count": 24,
   "metadata": {},
   "outputs": [
    {
     "data": {
      "text/plain": [
       "'llo'"
      ]
     },
     "execution_count": 24,
     "metadata": {},
     "output_type": "execute_result"
    }
   ],
   "source": [
    "s = 'Hello Words'\n",
    "s[2:5]"
   ]
  },
  {
   "cell_type": "code",
   "execution_count": 25,
   "metadata": {},
   "outputs": [
    {
     "name": "stdout",
     "output_type": "stream",
     "text": [
      "Sh\n"
     ]
    }
   ],
   "source": [
    "s= 'Sh Rahmani'\n",
    "print(s[:2])"
   ]
  },
  {
   "cell_type": "code",
   "execution_count": 26,
   "metadata": {},
   "outputs": [
    {
     "data": {
      "text/plain": [
       "'Hello World Hello World '"
      ]
     },
     "execution_count": 26,
     "metadata": {},
     "output_type": "execute_result"
    }
   ],
   "source": [
    "s1= 'Hello '\n",
    "s2 = \"World \"\n",
    "s3 = s1 + s2\n",
    "s3\n",
    "s4 = s3*2\n",
    "s4"
   ]
  },
  {
   "cell_type": "code",
   "execution_count": 28,
   "metadata": {},
   "outputs": [
    {
     "name": "stdout",
     "output_type": "stream",
     "text": [
      "My name is: farhad and my family name is:  eshraghi\n"
     ]
    }
   ],
   "source": [
    "nf = 'farhad eshraghi'\n",
    "print('My name is:',nf[:6],'and my family name is:', nf[6:])"
   ]
  },
  {
   "cell_type": "code",
   "execution_count": 30,
   "metadata": {},
   "outputs": [
    {
     "data": {
      "text/plain": [
       "15"
      ]
     },
     "execution_count": 30,
     "metadata": {},
     "output_type": "execute_result"
    }
   ],
   "source": [
    "len(nf)"
   ]
  },
  {
   "cell_type": "code",
   "execution_count": 31,
   "metadata": {},
   "outputs": [
    {
     "name": "stdout",
     "output_type": "stream",
     "text": [
      "ش * ق * ا * ی * ق * "
     ]
    }
   ],
   "source": [
    "o = 'شقایق'\n",
    "for i in range (len(o)):\n",
    "    print(o[i] , \"*\", end= \" \")\n",
    "   "
   ]
  },
  {
   "cell_type": "code",
   "execution_count": 51,
   "metadata": {},
   "outputs": [
    {
     "name": "stdout",
     "output_type": "stream",
     "text": [
      "f *a *r *h *a *d *e *s *h *r *a *g *h *i *"
     ]
    }
   ],
   "source": [
    "for i in nf:\n",
    "    print(i, '*', end='')"
   ]
  },
  {
   "cell_type": "code",
   "execution_count": 35,
   "metadata": {},
   "outputs": [
    {
     "name": "stdout",
     "output_type": "stream",
     "text": [
      "f *a *r *h *a *d *e *s *h *r *a *g *h *i *"
     ]
    }
   ],
   "source": [
    "nf = 'farhadeshraghi'\n",
    "c= 0\n",
    "\n",
    "while c < len(nf):\n",
    "    print(nf[c], '*', end= '')\n",
    "    c+=1"
   ]
  },
  {
   "cell_type": "code",
   "execution_count": 43,
   "metadata": {},
   "outputs": [
    {
     "name": "stdout",
     "output_type": "stream",
     "text": [
      "70 *65 *82 *72 *65 *68 *69 *83 *72 *82 *65 *71 *72 *73 *"
     ]
    }
   ],
   "source": [
    "#32 فاصله عدد اسکی حروف بزرگ و کوچک\n",
    "nf = 'farhadeshraghi'\n",
    "c= 0\n",
    "\n",
    "while c < len(nf):\n",
    "    print(ord(nf[c])-32, '*', end= '')\n",
    "    c+=1"
   ]
  },
  {
   "cell_type": "code",
   "execution_count": 42,
   "metadata": {},
   "outputs": [
    {
     "name": "stdout",
     "output_type": "stream",
     "text": [
      "F *A *R *H *A *D *E *S *H *R *A *G *H *I *"
     ]
    }
   ],
   "source": [
    "nf = 'farhadeshraghi'\n",
    "c= 0\n",
    "\n",
    "while c < len(nf):\n",
    "    print(chr(ord(nf[c])-32), '*', end= '')\n",
    "    c+=1"
   ]
  },
  {
   "cell_type": "code",
   "execution_count": 33,
   "metadata": {},
   "outputs": [
    {
     "name": "stdout",
     "output_type": "stream",
     "text": [
      "enter your character:b\n",
      "98\n"
     ]
    }
   ],
   "source": [
    "m = input(\"enter your character:\")\n",
    "print(ord(m))"
   ]
  },
  {
   "cell_type": "code",
   "execution_count": 34,
   "metadata": {},
   "outputs": [
    {
     "name": "stdout",
     "output_type": "stream",
     "text": [
      "1588 * 1602 * 1575 * 1740 * 1602 * "
     ]
    }
   ],
   "source": [
    "#حروف فارسی بیت بیشتری دارند 16 بیتی هستند\n",
    "for i in range (len(o)):\n",
    "    print(ord(o[i]), '*', end = ' ')"
   ]
  },
  {
   "cell_type": "code",
   "execution_count": 45,
   "metadata": {},
   "outputs": [
    {
     "data": {
      "text/plain": [
       "65"
      ]
     },
     "execution_count": 45,
     "metadata": {},
     "output_type": "execute_result"
    }
   ],
   "source": [
    "ord('A')"
   ]
  },
  {
   "cell_type": "code",
   "execution_count": 47,
   "metadata": {},
   "outputs": [
    {
     "name": "stdout",
     "output_type": "stream",
     "text": [
      "[\n",
      "\\\n",
      "]\n",
      "^\n",
      "_\n",
      "`\n",
      "a\n",
      "b\n"
     ]
    }
   ],
   "source": [
    "for i in range(91, 99):\n",
    "    print(chr(i))"
   ]
  },
  {
   "cell_type": "code",
   "execution_count": 57,
   "metadata": {},
   "outputs": [
    {
     "name": "stdout",
     "output_type": "stream",
     "text": [
      "0\n",
      "2\n",
      "4\n",
      "6\n",
      "8\n"
     ]
    }
   ],
   "source": [
    "flag = True\n",
    "c=0\n",
    "while flag:\n",
    "    print(c)\n",
    "    c+=2\n",
    "    if c==10:\n",
    "        flag = False\n",
    "#       break\n",
    "        "
   ]
  },
  {
   "cell_type": "code",
   "execution_count": 58,
   "metadata": {},
   "outputs": [
    {
     "name": "stdout",
     "output_type": "stream",
     "text": [
      "['Python', ' string', ' is', ' mutable']\n"
     ]
    }
   ],
   "source": [
    "nf = 'farhadeshraghi'\n",
    "mystr1 = 'Python1 string1 is1 mutable'\n",
    "print(mystr1.split('1'))"
   ]
  },
  {
   "cell_type": "code",
   "execution_count": 68,
   "metadata": {},
   "outputs": [
    {
     "data": {
      "text/plain": [
       "['32', ' 24', ' 25', ' 57']"
      ]
     },
     "execution_count": 68,
     "metadata": {},
     "output_type": "execute_result"
    }
   ],
   "source": [
    "'32, 24, 25, 57'.split(',')"
   ]
  },
  {
   "cell_type": "code",
   "execution_count": 1,
   "metadata": {},
   "outputs": [
    {
     "name": "stdout",
     "output_type": "stream",
     "text": [
      "Enter serial number:76\n",
      "Enter patient name:f\n",
      "Enter patient age10\n",
      "enter patient sexfemale\n",
      "enter patient heigth:130\n",
      "enter weight50\n",
      "enter blood groupA\n",
      "enter father nameahmad\n",
      "enter addresstehran\n",
      "enter citytehran\n",
      "enter statetehram\n",
      "enter phone number:912\n",
      "enter emailarqavanam\n",
      "enter doctor namezohre\n",
      "enter disease namecorona\n",
      "enter prescribed medicineasprin\n",
      "enter bill amount: Rs.1200000\n"
     ]
    }
   ],
   "source": [
    "def writeHospital():\n",
    "    sno = input('Enter serial number:')\n",
    "    name = input('Enter patient name:')\n",
    "    age = input('Enter patient age:')             \n",
    "    sex = input('enter patient sex:')\n",
    "    heigth = input('enter patient heigth:')             \n",
    "    weight = input('enter weight:')\n",
    "    bgroup = input( 'enter blood group:')\n",
    "    fname = input(\"enter father name:\")\n",
    "    address = input('enter address:')\n",
    "    city = input('enter city:')\n",
    "    state = input('enter state:')\n",
    "    pno = input('enter phone number:')\n",
    "    email = input('enter email:')\n",
    "    doctor = input('enter doctor name:')\n",
    "    dname = input('enter disease name:')\n",
    "    med = input('enter prescribed medicine:')\n",
    "    bill = input('enter bill amount: Rs.')\n",
    "                 \n",
    "                 \n",
    "    record = {\n",
    "       'serial_number':sno,\n",
    "       'name': name,\n",
    "       'age': age,\n",
    "       'sex' : sex,\n",
    "       'heigth' : heigth,\n",
    "       'weigth': weight,\n",
    "       'bgroup' : bgroup,\n",
    "       'fname': fname, \n",
    "       'address': address,\n",
    "       'city': city,\n",
    "       'state': state,\n",
    "       'pno' : pno,\n",
    "       'email': email,\n",
    "       'doctor': doctor,\n",
    "       'dname': dname,\n",
    "       'med': med,\n",
    "       'bill': bill,\n",
    "   } \n",
    "                 \n",
    "    return record                 "
   ]
  },
  {
   "cell_type": "code",
   "execution_count": null,
   "metadata": {},
   "outputs": [
    {
     "name": "stdout",
     "output_type": "stream",
     "text": [
      "simple hospital management system \n",
      "n\n",
      "1. SHOW ALL RECORDS\n",
      "2. SEARCH BY SERIAL NUMBER\n",
      "3. WRIE RECORD\n",
      "4. SEARCH BY BLOOD GROUP\n",
      "5. SEARCH BY CONTACT NUMBER\n",
      "6. SEARCH BY AGE\n",
      "7. SEARCH BY SEX\n",
      "8. SEARCH BY DISEASE NAME\n",
      "9. SEARCH BY DOCTOR NAME \n",
      "10. SEARCH BT PAYMENT METHOD\n",
      "11. SEARCH BY EMAIL\n",
      "12. MODIFY RECORD\n",
      "13. DELETE RECORD \n",
      "14. EXIT \n"
     ]
    }
   ],
   "source": [
    "def show_menu():\n",
    "    all_patient = list()\n",
    "    print('simple hospital management system \\nn')\n",
    "    print('1. SHOW ALL RECORDS')\n",
    "    print('2. SEARCH BY SERIAL NUMBER')\n",
    "    print('3. WRIE RECORD')\n",
    "    print('4. SEARCH BY BLOOD GROUP')\n",
    "    print('5. SEARCH BY CONTACT NUMBER')\n",
    "    print('6. SEARCH BY AGE')\n",
    "    print('7. SEARCH BY SEX')\n",
    "    print('8. SEARCH BY DISEASE NAME')\n",
    "    print('9. SEARCH BY DOCTOR NAME ')\n",
    "    print('10. SEARCH BT PAYMENT METHOD')\n",
    "    print('11. SEARCH BY EMAIL')\n",
    "    print('12. MODIFY RECORD')\n",
    "    print('13. DELETE RECORD ')\n",
    "    print('14. EXIT ')\n",
    "    ch=eval(input('PLEASE INTER YOUR CHOICE:'))\n",
    "    if ch==1:\n",
    "        rec = writeHospital()\n",
    "        all_patient.append(rec)\n",
    "       \n",
    "    if ch==14:\n",
    "            exit()\n",
    "    \n",
    "          \n",
    "show_menu()          "
   ]
  },
  {
   "cell_type": "code",
   "execution_count": null,
   "metadata": {},
   "outputs": [],
   "source": []
  }
 ],
 "metadata": {
  "kernelspec": {
   "display_name": "Python 3",
   "language": "python",
   "name": "python3"
  },
  "language_info": {
   "codemirror_mode": {
    "name": "ipython",
    "version": 3
   },
   "file_extension": ".py",
   "mimetype": "text/x-python",
   "name": "python",
   "nbconvert_exporter": "python",
   "pygments_lexer": "ipython3",
   "version": "3.8.5"
  }
 },
 "nbformat": 4,
 "nbformat_minor": 5
}
