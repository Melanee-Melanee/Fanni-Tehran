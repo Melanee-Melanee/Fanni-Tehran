{
 "cells": [
  {
   "cell_type": "code",
   "execution_count": 23,
   "metadata": {},
   "outputs": [],
   "source": [
    "#shaya question\n",
    "def alpha():\n",
    "    itr = eval(input('Please enter number of words: '))\n",
    "    min_chr = ''\n",
    "    min_words = ''\n",
    "    list_chr_words = []\n",
    "    for i in range(itr):\n",
    "        word = input('Please enter a word:')\n",
    "\n",
    "        chars = [c for c in word]\n",
    "        u_char = set(chars)\n",
    "        \n",
    "        print('Word:', word, 'Chars:', u_char, '#of chars:', len(u_char))\n",
    "        \n",
    "        if i == 0:\n",
    "            min_chr = u_char\n",
    "            min_words = word\n",
    "            list_chr_words = [[min_words, min_chr]]\n",
    "            \n",
    "        elif len(min_chr) > len (u_char):\n",
    "            min_chr = u_char\n",
    "            min_words = word\n",
    "            list_chr_words = [[min_words, min_chr]]\n",
    "        elif len(min_chr) == len(u_char):\n",
    "            min_chr = u_char\n",
    "            min_words = word\n",
    "            list_chr_words.append([min_words, min_chr])\n",
    "            \n",
    "    print()\n",
    "    print('*' * 80)\n",
    "    # for lst in list_chr_words:\n",
    "    #     print('Word: ', lst[0], 'Chars:', lst[1], '#Of Chars:', len(lst[1]))\n",
    "\n",
    "    print('Word:', min_words, 'Chars:', min_chr, '#Of chars:', len(min_chr))"
   ]
  },
  {
   "cell_type": "code",
   "execution_count": 24,
   "metadata": {},
   "outputs": [
    {
     "name": "stdout",
     "output_type": "stream",
     "text": [
      "Please enter number of words: 2\n",
      "Please enter a word:fffghg\n",
      "Word: fffghg Chars: {'h', 'g', 'f'} #of chars: 3\n",
      "Please enter a word:ffgg\n",
      "Word: ffgg Chars: {'g', 'f'} #of chars: 2\n",
      "\n",
      "********************************************************************************\n",
      "Word: ffgg Chars: {'g', 'f'} #Of chars: 2\n"
     ]
    }
   ],
   "source": [
    "alpha()"
   ]
  },
  {
   "cell_type": "code",
   "execution_count": 9,
   "metadata": {},
   "outputs": [
    {
     "data": {
      "text/plain": [
       "['j', 'j', 'j', 'j', 'j', 'j', 'j', 'j', 'j', 'j', 'j', 'j', 'k']"
      ]
     },
     "execution_count": 9,
     "metadata": {},
     "output_type": "execute_result"
    }
   ],
   "source": [
    "word = 'jjjjjjjjjjjjk'\n",
    "[c for c in word]"
   ]
  },
  {
   "cell_type": "code",
   "execution_count": 9,
   "metadata": {},
   "outputs": [
    {
     "name": "stdout",
     "output_type": "stream",
     "text": [
      " Hi I am Melanee\n"
     ]
    }
   ],
   "source": [
    "f = open('C:/Users/Administrator/Desktop/Melanee.txt', 'r')\n",
    "data = f.read()\n",
    "print(data)\n",
    "\n"
   ]
  },
  {
   "cell_type": "code",
   "execution_count": 14,
   "metadata": {},
   "outputs": [],
   "source": [
    "path = 'C:/Users/Administrator/Desktop/'\n",
    "path = path + 'sss.txt'\n",
    "f = open(path, 'x')\n",
    "f.close()"
   ]
  },
  {
   "cell_type": "code",
   "execution_count": 19,
   "metadata": {},
   "outputs": [],
   "source": [
    "path = 'C:/Users/Administrator/Desktop/'\n",
    "path = path + 'sss.txt'\n",
    "f = open(path, 'a')\n",
    "f.write('I am dhgvffg')\n",
    "f.close()"
   ]
  },
  {
   "cell_type": "code",
   "execution_count": 2,
   "metadata": {},
   "outputs": [],
   "source": [
    "class person:\n",
    "    count = 0                   #class attribute\n",
    "    def __init__(self):         #constructor \n",
    "        print('Created')\n",
    "        self.name = 'Unknown'   #instance attribute\n",
    "        self.age = 0            #instance attribute\n",
    "        m = input('Test')\n",
    "        \n",
    "    def displayInfo(self):\n",
    "        print(self.name, self.age)\n",
    "    "
   ]
  },
  {
   "cell_type": "code",
   "execution_count": 20,
   "metadata": {},
   "outputs": [
    {
     "name": "stdout",
     "output_type": "stream",
     "text": [
      "Emma\n",
      "Emma2\n"
     ]
    }
   ],
   "source": [
    "class Student12:\n",
    "    def __init__(self, sn):\n",
    "        self.sname = sn\n",
    "        \n",
    "    def setSName(self, sn):\n",
    "        self.sname = sn\n",
    "        \n",
    "    def getSName(self):\n",
    "        return self.sname\n",
    "    \n",
    "s1 = Student12('Emma')\n",
    "print(s1.getSName())\n",
    "s1.setSName('Emma2')\n",
    "print(s1.getSName())\n",
    "       "
   ]
  },
  {
   "cell_type": "code",
   "execution_count": 4,
   "metadata": {},
   "outputs": [
    {
     "name": "stdout",
     "output_type": "stream",
     "text": [
      "Created\n",
      "Testhg\n"
     ]
    }
   ],
   "source": [
    "p1 = person()\n",
    "#person is an instance"
   ]
  },
  {
   "cell_type": "code",
   "execution_count": 6,
   "metadata": {},
   "outputs": [
    {
     "name": "stdout",
     "output_type": "stream",
     "text": [
      "Unknown 0\n"
     ]
    }
   ],
   "source": [
    "p1.displayInfo()"
   ]
  },
  {
   "cell_type": "code",
   "execution_count": 1,
   "metadata": {},
   "outputs": [],
   "source": [
    "class Student:\n",
    "    sname  = 'Mohammad'\n",
    "    tname = 'melanee'"
   ]
  },
  {
   "cell_type": "code",
   "execution_count": 2,
   "metadata": {},
   "outputs": [
    {
     "name": "stdout",
     "output_type": "stream",
     "text": [
      "Mohammad\n",
      "melanee\n"
     ]
    }
   ],
   "source": [
    "#create 3 instance of our class (Student)\n",
    "s1 = Student()\n",
    "print(s1.sname)\n",
    "s2 = Student()\n",
    "print(s2.tname)\n",
    "# s3 = Student()\n",
    "# print(s3.sname)"
   ]
  },
  {
   "cell_type": "code",
   "execution_count": 18,
   "metadata": {},
   "outputs": [],
   "source": [
    "class Student:\n",
    "          \n",
    "    def __init__(self, sn):\n",
    "        self.sname = sn\n",
    "    \n",
    "     \n"
   ]
  },
  {
   "cell_type": "code",
   "execution_count": 13,
   "metadata": {},
   "outputs": [
    {
     "name": "stdout",
     "output_type": "stream",
     "text": [
      "ali\n"
     ]
    }
   ],
   "source": [
    "s3 = Student('ali')\n",
    "print(s3.sname)"
   ]
  },
  {
   "cell_type": "code",
   "execution_count": 4,
   "metadata": {},
   "outputs": [],
   "source": [
    "class Student:\n",
    "          \n",
    "    def __init__(self, sn):\n",
    "        self.sname = sn\n",
    "        \n",
    "    def setSName(self, sn):\n",
    "        self.sname = sn\n",
    "        return setSName\n",
    "    \n",
    "    "
   ]
  },
  {
   "cell_type": "code",
   "execution_count": 19,
   "metadata": {},
   "outputs": [
    {
     "data": {
      "text/plain": [
       "'aida'"
      ]
     },
     "execution_count": 19,
     "metadata": {},
     "output_type": "execute_result"
    }
   ],
   "source": [
    "s1 = Student('aida')\n",
    "s1.sname"
   ]
  },
  {
   "cell_type": "code",
   "execution_count": 28,
   "metadata": {},
   "outputs": [
    {
     "name": "stdout",
     "output_type": "stream",
     "text": [
      "Eman\n",
      "Eman2\n"
     ]
    }
   ],
   "source": [
    "#we want to edit sname, we must create a function (setSName, getSName) and pass self in it\n",
    "\n",
    "class Student12:\n",
    "    def __init__(self,sn):\n",
    "        self.sname = sn\n",
    "        \n",
    "    def setSName(self,sn):\n",
    "        self.sname = sn\n",
    "        \n",
    "    def getSName(self):\n",
    "        return self.sname\n",
    "    \n",
    "s1= Student12('Eman')\n",
    "print(s1.getSName())\n",
    "s1.setSName('Eman2')\n",
    "print(s1.getSName())"
   ]
  },
  {
   "cell_type": "code",
   "execution_count": 10,
   "metadata": {},
   "outputs": [],
   "source": [
    "class Student:\n",
    "    def __init__(self, sn, sid, sy):\n",
    "        self.sname = sn\n",
    "        self.sid = sid\n",
    "        self.syear = sy\n",
    "        \n",
    "    def getSName(self):\n",
    "        return self.sname\n",
    "    \n",
    "    def getSid(self):\n",
    "        return self.sid\n",
    "    \n",
    "    def get_all(self):\n",
    "        return self.sname, self.sid, self.syear"
   ]
  },
  {
   "cell_type": "code",
   "execution_count": 11,
   "metadata": {},
   "outputs": [],
   "source": [
    "s8 = Student('shaya ghasemi', 2, 1399) "
   ]
  },
  {
   "cell_type": "code",
   "execution_count": 12,
   "metadata": {},
   "outputs": [
    {
     "name": "stdout",
     "output_type": "stream",
     "text": [
      "shaya ghasemi\n"
     ]
    }
   ],
   "source": [
    "print(s8.getSName())"
   ]
  },
  {
   "cell_type": "code",
   "execution_count": 41,
   "metadata": {},
   "outputs": [
    {
     "name": "stdout",
     "output_type": "stream",
     "text": [
      "2\n"
     ]
    }
   ],
   "source": [
    "print(s8.getSid())"
   ]
  },
  {
   "cell_type": "code",
   "execution_count": null,
   "metadata": {},
   "outputs": [],
   "source": [
    "print(s8.get_all())"
   ]
  },
  {
   "cell_type": "code",
   "execution_count": null,
   "metadata": {},
   "outputs": [],
   "source": [
    "def getSYear(self):\n",
    "    return self.syear\n",
    "def setSYear(self, sy):\n",
    "    if type(sy) is str and (sy.lower()=='freshman' or \n",
    "                            sy.lower()=='sophomore') or \n",
    "                            sy.lower()=='junior' or sy.lower()=='senior')\n",
    " #graduated can not change\n",
    "                  self.syear = sy\n",
    "    else:\n",
    "        print('....')\n",
    "    "
   ]
  },
  {
   "cell_type": "code",
   "execution_count": 4,
   "metadata": {},
   "outputs": [],
   "source": [
    "class Course:\n",
    "    def __init__(self, cn, cid, sl):\n",
    "        self.cname = cn\n",
    "        self.cid = cid\n",
    "        self.slist = sl\n",
    "        \n",
    "    def getCName (self):\n",
    "        return self.cname\n",
    "    \n",
    "    def getCid(self):\n",
    "        return self.cid"
   ]
  },
  {
   "cell_type": "code",
   "execution_count": 9,
   "metadata": {},
   "outputs": [],
   "source": [
    "def prinALllStudents(self):\n",
    "    for i in self.slist:\n",
    "        print(i.getSName(), i.getSid(), i.getSYear())\n",
    "        \n",
    "def addStudent(self, st):\n",
    "    if type(st) is Student:\n",
    "        for i in self.slist:\n",
    "            if i is st:\n",
    "                print('....')\n",
    "                return \n",
    "        self.slist.append(st)\n",
    "    else:\n",
    "        print('....')"
   ]
  },
  {
   "attachments": {
    "image.png": {
     "image/png": "[encoded data removed]"
    }
   },
   "cell_type": "markdown",
   "metadata": {},
   "source": [
    "![image.png](attachment:image.png)"
   ]
  },
  {
   "cell_type": "code",
   "execution_count": 10,
   "metadata": {},
   "outputs": [],
   "source": [
    "c1 = Course('Python Programming', 15110, [] )"
   ]
  },
  {
   "cell_type": "code",
   "execution_count": 12,
   "metadata": {},
   "outputs": [
    {
     "name": "stdout",
     "output_type": "stream",
     "text": [
      "Python Programming\n"
     ]
    }
   ],
   "source": [
    "print(c1.getCName())"
   ]
  },
  {
   "cell_type": "code",
   "execution_count": 15,
   "metadata": {},
   "outputs": [],
   "source": [
    "s1 = Student('hassan', 100, 'Freshman')"
   ]
  },
  {
   "cell_type": "code",
   "execution_count": 16,
   "metadata": {},
   "outputs": [
    {
     "name": "stdout",
     "output_type": "stream",
     "text": [
      "hassan\n"
     ]
    }
   ],
   "source": [
    "print(s1.getSName())"
   ]
  },
  {
   "cell_type": "code",
   "execution_count": null,
   "metadata": {},
   "outputs": [],
   "source": [
    "s1= Student('abolfazl', 101, 'freshman')"
   ]
  },
  {
   "cell_type": "code",
   "execution_count": null,
   "metadata": {},
   "outputs": [],
   "source": [
    "def main():\n",
    "\n",
    "    c1 = Course('PRINCIPLE OF COMPUTING', 15110, [])\n",
    "    s1 = Student('hassan', 100, 'Freshman')\n",
    "    s2 = Student('ABOLFAZL', 100, 'Freshman')\n",
    "main()"
   ]
  }
 ],
 "metadata": {
  "kernelspec": {
   "display_name": "Python 3",
   "language": "python",
   "name": "python3"
  },
  "language_info": {
   "codemirror_mode": {
    "name": "ipython",
    "version": 3
   },
   "file_extension": ".py",
   "mimetype": "text/x-python",
   "name": "python",
   "nbconvert_exporter": "python",
   "pygments_lexer": "ipython3",
   "version": "3.8.5"
  }
 },
 "nbformat": 4,
 "nbformat_minor": 5
}
