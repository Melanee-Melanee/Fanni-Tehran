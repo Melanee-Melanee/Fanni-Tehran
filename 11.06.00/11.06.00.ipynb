{
 "cells": [
  {
   "cell_type": "code",
   "execution_count": 1,
   "metadata": {},
   "outputs": [
    {
     "name": "stdout",
     "output_type": "stream",
     "text": [
      "   0\n",
      "0  1\n",
      "1  2\n",
      "2  3\n",
      "3  4\n",
      "4  5\n"
     ]
    }
   ],
   "source": [
    "import pandas as pd\n",
    "data = [1,2,3,4,5]\n",
    "df = pd.DataFrame(data)\n",
    "print(df)"
   ]
  },
  {
   "cell_type": "code",
   "execution_count": 2,
   "metadata": {},
   "outputs": [
    {
     "data": {
      "text/html": [
       "<div>\n",
       "<style scoped>\n",
       "    .dataframe tbody tr th:only-of-type {\n",
       "        vertical-align: middle;\n",
       "    }\n",
       "\n",
       "    .dataframe tbody tr th {\n",
       "        vertical-align: top;\n",
       "    }\n",
       "\n",
       "    .dataframe thead th {\n",
       "        text-align: right;\n",
       "    }\n",
       "</style>\n",
       "<table border=\"1\" class=\"dataframe\">\n",
       "  <thead>\n",
       "    <tr style=\"text-align: right;\">\n",
       "      <th></th>\n",
       "      <th>Name</th>\n",
       "      <th>Age</th>\n",
       "    </tr>\n",
       "  </thead>\n",
       "  <tbody>\n",
       "    <tr>\n",
       "      <th>0</th>\n",
       "      <td>Tom</td>\n",
       "      <td>29</td>\n",
       "    </tr>\n",
       "    <tr>\n",
       "      <th>1</th>\n",
       "      <td>Jack</td>\n",
       "      <td>34</td>\n",
       "    </tr>\n",
       "    <tr>\n",
       "      <th>2</th>\n",
       "      <td>Steve</td>\n",
       "      <td>23</td>\n",
       "    </tr>\n",
       "  </tbody>\n",
       "</table>\n",
       "</div>"
      ],
      "text/plain": [
       "    Name  Age\n",
       "0    Tom   29\n",
       "1   Jack   34\n",
       "2  Steve   23"
      ]
     },
     "execution_count": 2,
     "metadata": {},
     "output_type": "execute_result"
    }
   ],
   "source": [
    "data = {'Name': ['Tom', 'Jack', 'Steve'], 'Age': [29, 34, 23]}\n",
    "df = pd.DataFrame(data)\n",
    "df\n"
   ]
  },
  {
   "cell_type": "code",
   "execution_count": 4,
   "metadata": {},
   "outputs": [
    {
     "data": {
      "text/html": [
       "<div>\n",
       "<style scoped>\n",
       "    .dataframe tbody tr th:only-of-type {\n",
       "        vertical-align: middle;\n",
       "    }\n",
       "\n",
       "    .dataframe tbody tr th {\n",
       "        vertical-align: top;\n",
       "    }\n",
       "\n",
       "    .dataframe thead th {\n",
       "        text-align: right;\n",
       "    }\n",
       "</style>\n",
       "<table border=\"1\" class=\"dataframe\">\n",
       "  <thead>\n",
       "    <tr style=\"text-align: right;\">\n",
       "      <th></th>\n",
       "      <th>Name</th>\n",
       "      <th>Age</th>\n",
       "    </tr>\n",
       "  </thead>\n",
       "  <tbody>\n",
       "    <tr>\n",
       "      <th>rank1</th>\n",
       "      <td>Tom</td>\n",
       "      <td>29</td>\n",
       "    </tr>\n",
       "    <tr>\n",
       "      <th>rank2</th>\n",
       "      <td>Jack</td>\n",
       "      <td>34</td>\n",
       "    </tr>\n",
       "    <tr>\n",
       "      <th>rank3</th>\n",
       "      <td>Steve</td>\n",
       "      <td>23</td>\n",
       "    </tr>\n",
       "  </tbody>\n",
       "</table>\n",
       "</div>"
      ],
      "text/plain": [
       "        Name  Age\n",
       "rank1    Tom   29\n",
       "rank2   Jack   34\n",
       "rank3  Steve   23"
      ]
     },
     "execution_count": 4,
     "metadata": {},
     "output_type": "execute_result"
    }
   ],
   "source": [
    "df = pd.DataFrame(data, index= ['rank1', 'rank2', 'rank3', ])\n",
    "df"
   ]
  },
  {
   "cell_type": "code",
   "execution_count": 18,
   "metadata": {},
   "outputs": [
    {
     "data": {
      "text/html": [
       "<div>\n",
       "<style scoped>\n",
       "    .dataframe tbody tr th:only-of-type {\n",
       "        vertical-align: middle;\n",
       "    }\n",
       "\n",
       "    .dataframe tbody tr th {\n",
       "        vertical-align: top;\n",
       "    }\n",
       "\n",
       "    .dataframe thead th {\n",
       "        text-align: right;\n",
       "    }\n",
       "</style>\n",
       "<table border=\"1\" class=\"dataframe\">\n",
       "  <thead>\n",
       "    <tr style=\"text-align: right;\">\n",
       "      <th></th>\n",
       "      <th>Name</th>\n",
       "      <th>Age</th>\n",
       "    </tr>\n",
       "  </thead>\n",
       "  <tbody>\n",
       "    <tr>\n",
       "      <th>0</th>\n",
       "      <td>Name_0</td>\n",
       "      <td>25</td>\n",
       "    </tr>\n",
       "    <tr>\n",
       "      <th>1</th>\n",
       "      <td>Name_1</td>\n",
       "      <td>21</td>\n",
       "    </tr>\n",
       "    <tr>\n",
       "      <th>2</th>\n",
       "      <td>Name_2</td>\n",
       "      <td>15</td>\n",
       "    </tr>\n",
       "    <tr>\n",
       "      <th>3</th>\n",
       "      <td>Name_3</td>\n",
       "      <td>27</td>\n",
       "    </tr>\n",
       "    <tr>\n",
       "      <th>4</th>\n",
       "      <td>Name_4</td>\n",
       "      <td>14</td>\n",
       "    </tr>\n",
       "    <tr>\n",
       "      <th>5</th>\n",
       "      <td>Name_5</td>\n",
       "      <td>14</td>\n",
       "    </tr>\n",
       "    <tr>\n",
       "      <th>6</th>\n",
       "      <td>Name_6</td>\n",
       "      <td>15</td>\n",
       "    </tr>\n",
       "    <tr>\n",
       "      <th>7</th>\n",
       "      <td>Name_7</td>\n",
       "      <td>27</td>\n",
       "    </tr>\n",
       "    <tr>\n",
       "      <th>8</th>\n",
       "      <td>Name_8</td>\n",
       "      <td>25</td>\n",
       "    </tr>\n",
       "    <tr>\n",
       "      <th>9</th>\n",
       "      <td>Name_9</td>\n",
       "      <td>16</td>\n",
       "    </tr>\n",
       "  </tbody>\n",
       "</table>\n",
       "</div>"
      ],
      "text/plain": [
       "     Name  Age\n",
       "0  Name_0   25\n",
       "1  Name_1   21\n",
       "2  Name_2   15\n",
       "3  Name_3   27\n",
       "4  Name_4   14\n",
       "5  Name_5   14\n",
       "6  Name_6   15\n",
       "7  Name_7   27\n",
       "8  Name_8   25\n",
       "9  Name_9   16"
      ]
     },
     "execution_count": 18,
     "metadata": {},
     "output_type": "execute_result"
    }
   ],
   "source": [
    "import random\n",
    "data = {}\n",
    "\n",
    "lst = []\n",
    "for i in range(10):\n",
    "    lst.append('Name_' + str(i))\n",
    "data['Name'] = lst    \n",
    "\n",
    "lst = []\n",
    "for i in range(10):\n",
    "    lst.append(random.randint(12, 32))\n",
    "data['Age'] = lst\n",
    "\n",
    "df = pd.DataFrame(data)\n",
    "df"
   ]
  },
  {
   "cell_type": "code",
   "execution_count": 19,
   "metadata": {},
   "outputs": [
    {
     "data": {
      "text/html": [
       "<div>\n",
       "<style scoped>\n",
       "    .dataframe tbody tr th:only-of-type {\n",
       "        vertical-align: middle;\n",
       "    }\n",
       "\n",
       "    .dataframe tbody tr th {\n",
       "        vertical-align: top;\n",
       "    }\n",
       "\n",
       "    .dataframe thead th {\n",
       "        text-align: right;\n",
       "    }\n",
       "</style>\n",
       "<table border=\"1\" class=\"dataframe\">\n",
       "  <thead>\n",
       "    <tr style=\"text-align: right;\">\n",
       "      <th></th>\n",
       "      <th>Name</th>\n",
       "      <th>Family</th>\n",
       "      <th>Age</th>\n",
       "    </tr>\n",
       "  </thead>\n",
       "  <tbody>\n",
       "    <tr>\n",
       "      <th>0</th>\n",
       "      <td>Name_0</td>\n",
       "      <td>Family_0</td>\n",
       "      <td>14</td>\n",
       "    </tr>\n",
       "    <tr>\n",
       "      <th>1</th>\n",
       "      <td>Name_1</td>\n",
       "      <td>Family_1</td>\n",
       "      <td>23</td>\n",
       "    </tr>\n",
       "    <tr>\n",
       "      <th>2</th>\n",
       "      <td>Name_2</td>\n",
       "      <td>Family_2</td>\n",
       "      <td>29</td>\n",
       "    </tr>\n",
       "    <tr>\n",
       "      <th>3</th>\n",
       "      <td>Name_3</td>\n",
       "      <td>Family_3</td>\n",
       "      <td>29</td>\n",
       "    </tr>\n",
       "    <tr>\n",
       "      <th>4</th>\n",
       "      <td>Name_4</td>\n",
       "      <td>Family_4</td>\n",
       "      <td>12</td>\n",
       "    </tr>\n",
       "    <tr>\n",
       "      <th>5</th>\n",
       "      <td>Name_5</td>\n",
       "      <td>Family_5</td>\n",
       "      <td>28</td>\n",
       "    </tr>\n",
       "    <tr>\n",
       "      <th>6</th>\n",
       "      <td>Name_6</td>\n",
       "      <td>Family_6</td>\n",
       "      <td>16</td>\n",
       "    </tr>\n",
       "    <tr>\n",
       "      <th>7</th>\n",
       "      <td>Name_7</td>\n",
       "      <td>Family_7</td>\n",
       "      <td>12</td>\n",
       "    </tr>\n",
       "    <tr>\n",
       "      <th>8</th>\n",
       "      <td>Name_8</td>\n",
       "      <td>Family_8</td>\n",
       "      <td>29</td>\n",
       "    </tr>\n",
       "    <tr>\n",
       "      <th>9</th>\n",
       "      <td>Name_9</td>\n",
       "      <td>Family_9</td>\n",
       "      <td>12</td>\n",
       "    </tr>\n",
       "  </tbody>\n",
       "</table>\n",
       "</div>"
      ],
      "text/plain": [
       "     Name    Family  Age\n",
       "0  Name_0  Family_0   14\n",
       "1  Name_1  Family_1   23\n",
       "2  Name_2  Family_2   29\n",
       "3  Name_3  Family_3   29\n",
       "4  Name_4  Family_4   12\n",
       "5  Name_5  Family_5   28\n",
       "6  Name_6  Family_6   16\n",
       "7  Name_7  Family_7   12\n",
       "8  Name_8  Family_8   29\n",
       "9  Name_9  Family_9   12"
      ]
     },
     "execution_count": 19,
     "metadata": {},
     "output_type": "execute_result"
    }
   ],
   "source": [
    "import pandas as pd\n",
    "import random\n",
    "data = {}\n",
    "\n",
    "lst = []\n",
    "for i in range(10):\n",
    "    lst.append('Name_' + str(i))\n",
    "data['Name'] = lst    \n",
    "\n",
    "\n",
    "lst = []\n",
    "for i in range(10):\n",
    "    lst.append('Family_' + str(i))\n",
    "data['Family'] = lst    \n",
    "\n",
    "lst = []\n",
    "for i in range(10):\n",
    "    lst.append(random.randint(12, 32))\n",
    "data['Age'] = lst\n",
    "\n",
    "df = pd.DataFrame(data)\n",
    "df"
   ]
  },
  {
   "cell_type": "code",
   "execution_count": 24,
   "metadata": {},
   "outputs": [],
   "source": [
    "#create csv file from our data frame\n",
    "df.to_csv('F:/.../.../.../.../11.06.00/dataframe.csv')"
   ]
  },
  {
   "cell_type": "code",
   "execution_count": 25,
   "metadata": {},
   "outputs": [
    {
     "data": {
      "text/html": [
       "<div>\n",
       "<style scoped>\n",
       "    .dataframe tbody tr th:only-of-type {\n",
       "        vertical-align: middle;\n",
       "    }\n",
       "\n",
       "    .dataframe tbody tr th {\n",
       "        vertical-align: top;\n",
       "    }\n",
       "\n",
       "    .dataframe thead th {\n",
       "        text-align: right;\n",
       "    }\n",
       "</style>\n",
       "<table border=\"1\" class=\"dataframe\">\n",
       "  <thead>\n",
       "    <tr style=\"text-align: right;\">\n",
       "      <th></th>\n",
       "      <th>Name</th>\n",
       "      <th>Family</th>\n",
       "      <th>Age</th>\n",
       "    </tr>\n",
       "  </thead>\n",
       "  <tbody>\n",
       "    <tr>\n",
       "      <th>5</th>\n",
       "      <td>Name_5</td>\n",
       "      <td>Family_5</td>\n",
       "      <td>28</td>\n",
       "    </tr>\n",
       "    <tr>\n",
       "      <th>4</th>\n",
       "      <td>Name_4</td>\n",
       "      <td>Family_4</td>\n",
       "      <td>12</td>\n",
       "    </tr>\n",
       "    <tr>\n",
       "      <th>2</th>\n",
       "      <td>Name_2</td>\n",
       "      <td>Family_2</td>\n",
       "      <td>29</td>\n",
       "    </tr>\n",
       "  </tbody>\n",
       "</table>\n",
       "</div>"
      ],
      "text/plain": [
       "     Name    Family  Age\n",
       "5  Name_5  Family_5   28\n",
       "4  Name_4  Family_4   12\n",
       "2  Name_2  Family_2   29"
      ]
     },
     "execution_count": 25,
     "metadata": {},
     "output_type": "execute_result"
    }
   ],
   "source": [
    "df.sample(3)"
   ]
  },
  {
   "cell_type": "code",
   "execution_count": 26,
   "metadata": {},
   "outputs": [
    {
     "data": {
      "text/html": [
       "<div>\n",
       "<style scoped>\n",
       "    .dataframe tbody tr th:only-of-type {\n",
       "        vertical-align: middle;\n",
       "    }\n",
       "\n",
       "    .dataframe tbody tr th {\n",
       "        vertical-align: top;\n",
       "    }\n",
       "\n",
       "    .dataframe thead th {\n",
       "        text-align: right;\n",
       "    }\n",
       "</style>\n",
       "<table border=\"1\" class=\"dataframe\">\n",
       "  <thead>\n",
       "    <tr style=\"text-align: right;\">\n",
       "      <th></th>\n",
       "      <th>Name</th>\n",
       "      <th>Family</th>\n",
       "      <th>Age</th>\n",
       "    </tr>\n",
       "  </thead>\n",
       "  <tbody>\n",
       "    <tr>\n",
       "      <th>0</th>\n",
       "      <td>Name_0</td>\n",
       "      <td>Family_0</td>\n",
       "      <td>14</td>\n",
       "    </tr>\n",
       "    <tr>\n",
       "      <th>1</th>\n",
       "      <td>Name_1</td>\n",
       "      <td>Family_1</td>\n",
       "      <td>23</td>\n",
       "    </tr>\n",
       "    <tr>\n",
       "      <th>2</th>\n",
       "      <td>Name_2</td>\n",
       "      <td>Family_2</td>\n",
       "      <td>29</td>\n",
       "    </tr>\n",
       "    <tr>\n",
       "      <th>3</th>\n",
       "      <td>Name_3</td>\n",
       "      <td>Family_3</td>\n",
       "      <td>29</td>\n",
       "    </tr>\n",
       "    <tr>\n",
       "      <th>4</th>\n",
       "      <td>Name_4</td>\n",
       "      <td>Family_4</td>\n",
       "      <td>12</td>\n",
       "    </tr>\n",
       "  </tbody>\n",
       "</table>\n",
       "</div>"
      ],
      "text/plain": [
       "     Name    Family  Age\n",
       "0  Name_0  Family_0   14\n",
       "1  Name_1  Family_1   23\n",
       "2  Name_2  Family_2   29\n",
       "3  Name_3  Family_3   29\n",
       "4  Name_4  Family_4   12"
      ]
     },
     "execution_count": 26,
     "metadata": {},
     "output_type": "execute_result"
    }
   ],
   "source": [
    "#showing first 5 rows\n",
    "df.head()"
   ]
  },
  {
   "cell_type": "code",
   "execution_count": 28,
   "metadata": {},
   "outputs": [
    {
     "data": {
      "text/html": [
       "<div>\n",
       "<style scoped>\n",
       "    .dataframe tbody tr th:only-of-type {\n",
       "        vertical-align: middle;\n",
       "    }\n",
       "\n",
       "    .dataframe tbody tr th {\n",
       "        vertical-align: top;\n",
       "    }\n",
       "\n",
       "    .dataframe thead th {\n",
       "        text-align: right;\n",
       "    }\n",
       "</style>\n",
       "<table border=\"1\" class=\"dataframe\">\n",
       "  <thead>\n",
       "    <tr style=\"text-align: right;\">\n",
       "      <th></th>\n",
       "      <th>Name</th>\n",
       "      <th>Family</th>\n",
       "      <th>Age</th>\n",
       "    </tr>\n",
       "  </thead>\n",
       "  <tbody>\n",
       "    <tr>\n",
       "      <th>5</th>\n",
       "      <td>Name_5</td>\n",
       "      <td>Family_5</td>\n",
       "      <td>28</td>\n",
       "    </tr>\n",
       "    <tr>\n",
       "      <th>6</th>\n",
       "      <td>Name_6</td>\n",
       "      <td>Family_6</td>\n",
       "      <td>16</td>\n",
       "    </tr>\n",
       "    <tr>\n",
       "      <th>7</th>\n",
       "      <td>Name_7</td>\n",
       "      <td>Family_7</td>\n",
       "      <td>12</td>\n",
       "    </tr>\n",
       "    <tr>\n",
       "      <th>8</th>\n",
       "      <td>Name_8</td>\n",
       "      <td>Family_8</td>\n",
       "      <td>29</td>\n",
       "    </tr>\n",
       "    <tr>\n",
       "      <th>9</th>\n",
       "      <td>Name_9</td>\n",
       "      <td>Family_9</td>\n",
       "      <td>12</td>\n",
       "    </tr>\n",
       "  </tbody>\n",
       "</table>\n",
       "</div>"
      ],
      "text/plain": [
       "     Name    Family  Age\n",
       "5  Name_5  Family_5   28\n",
       "6  Name_6  Family_6   16\n",
       "7  Name_7  Family_7   12\n",
       "8  Name_8  Family_8   29\n",
       "9  Name_9  Family_9   12"
      ]
     },
     "execution_count": 28,
     "metadata": {},
     "output_type": "execute_result"
    }
   ],
   "source": [
    "#showing the lasst 5 rows\n",
    "df.tail()"
   ]
  },
  {
   "cell_type": "code",
   "execution_count": 72,
   "metadata": {},
   "outputs": [],
   "source": [
    "class person:\n",
    "#     count = 0\n",
    "    lst = [17,2,37,4,5]\n",
    "    \n",
    "    def __init__(self):\n",
    "        self.name = 'unknown'\n",
    "        self.age = 0\n",
    "#         self.count2 = 5\n",
    "        \n",
    "    def sorting(self):\n",
    "        lst = self.lst\n",
    "        self.lst = sorted(lst)   \n",
    "        \n",
    "    def displayInfo(self):\n",
    "        #even self can access to outer attributes(count)\n",
    "        print(self.name, self.age, self.lst,)\n",
    "        \n"
   ]
  },
  {
   "cell_type": "code",
   "execution_count": 62,
   "metadata": {},
   "outputs": [],
   "source": [
    "#creating an object\n",
    "ob = person()"
   ]
  },
  {
   "cell_type": "code",
   "execution_count": 63,
   "metadata": {},
   "outputs": [
    {
     "name": "stdout",
     "output_type": "stream",
     "text": [
      "unknown 0 [17, 2, 37, 4, 5]\n"
     ]
    }
   ],
   "source": [
    "ob.displayInfo()"
   ]
  },
  {
   "cell_type": "code",
   "execution_count": 64,
   "metadata": {},
   "outputs": [
    {
     "ename": "NameError",
     "evalue": "name 'displayInfo' is not defined",
     "output_type": "error",
     "traceback": [
      "\u001b[1;31m---------------------------------------------------------------------------\u001b[0m",
      "\u001b[1;31mNameError\u001b[0m                                 Traceback (most recent call last)",
      "\u001b[1;32m<ipython-input-64-3549b91aa3b7>\u001b[0m in \u001b[0;36m<module>\u001b[1;34m\u001b[0m\n\u001b[1;32m----> 1\u001b[1;33m \u001b[0mdisplayInfo\u001b[0m\u001b[1;33m(\u001b[0m\u001b[1;33m)\u001b[0m\u001b[1;33m\u001b[0m\u001b[1;33m\u001b[0m\u001b[0m\n\u001b[0m",
      "\u001b[1;31mNameError\u001b[0m: name 'displayInfo' is not defined"
     ]
    }
   ],
   "source": [
    "#we can not call displayInfo function\n",
    "displayInfo()"
   ]
  },
  {
   "cell_type": "code",
   "execution_count": 70,
   "metadata": {},
   "outputs": [],
   "source": [
    "ob.sorting()"
   ]
  },
  {
   "cell_type": "code",
   "execution_count": 71,
   "metadata": {},
   "outputs": [
    {
     "name": "stdout",
     "output_type": "stream",
     "text": [
      "unknown 0 [2, 4, 5, 17, 37]\n"
     ]
    }
   ],
   "source": [
    "ob.displayInfo()"
   ]
  },
  {
   "cell_type": "code",
   "execution_count": 73,
   "metadata": {},
   "outputs": [
    {
     "data": {
      "text/plain": [
       "0.09"
      ]
     },
     "execution_count": 73,
     "metadata": {},
     "output_type": "execute_result"
    }
   ],
   "source": [
    "#creating random decimal numbers between 0 and 1 up to 2 decimal places \n",
    "import random\n",
    "round(random.uniform(0,1), 2)"
   ]
  },
  {
   "cell_type": "markdown",
   "metadata": {},
   "source": [
    "## Example of OOP"
   ]
  },
  {
   "cell_type": "code",
   "execution_count": 45,
   "metadata": {},
   "outputs": [],
   "source": [
    "class Customer:\n",
    "    def __init__(self, cname, cid, cjob):\n",
    "        self.cname = cname\n",
    "        self.cid = cid\n",
    "        self.cjob = cjob\n",
    "        \n",
    "    def getCName(self):\n",
    "        return self.cname\n",
    "        \n",
    "    def getCid(self):\n",
    "        return self.cid\n",
    "    \n",
    "    def getCJob(self):\n",
    "        return self.cjob\n",
    "    \n",
    "    def setCJob(self, new_job):\n",
    "        self.cjob = new_job\n",
    "       \n"
   ]
  },
  {
   "cell_type": "code",
   "execution_count": 46,
   "metadata": {},
   "outputs": [],
   "source": [
    "c1 = Customer('shaya', 1234,'Student')\n",
    "c2 = Customer('aida', 7777,'Teacher')\n"
   ]
  },
  {
   "cell_type": "code",
   "execution_count": 47,
   "metadata": {},
   "outputs": [],
   "source": [
    "class Account:\n",
    "    def __init__(self, customer, account_number, balance):\n",
    "        self.customer = customer\n",
    "        self.account_number = account_number\n",
    "        self.balance = balance\n",
    "        \n",
    "    def deposit(self, amount):\n",
    "        self.balanbce = self.balance + amount\n",
    "        \n",
    "    def withdraw(self, amount):\n",
    "        if amount <= self.balance:\n",
    "            self.balance = self.balance - amount\n",
    "        else:\n",
    "            print('you do not have enough funds')\n",
    "            \n",
    "    def getCustomer(self):\n",
    "        return self.customer\n",
    "    \n",
    "    def getAccountNumber(self):\n",
    "        return self.account_number\n",
    "    \n",
    "    def getBalance(self):\n",
    "        return self.balance\n",
    "    "
   ]
  },
  {
   "cell_type": "code",
   "execution_count": 48,
   "metadata": {},
   "outputs": [],
   "source": [
    "c1_account = Account(c1, 100, 120000)\n",
    "c2_account = Account(c2, 101, 5000)"
   ]
  },
  {
   "cell_type": "code",
   "execution_count": 49,
   "metadata": {},
   "outputs": [],
   "source": [
    "class BankAccounts:\n",
    "    def __init__(self, accounts):\n",
    "        self.alist = accounts\n",
    "        \n",
    "    def addAccount(self, account):\n",
    "        for i in self.alist:\n",
    "            if account is i :\n",
    "                print('This account has already been added')\n",
    "                return\n",
    "        self.alist.append(account)  \n",
    "        \n",
    "    def removeAccount(self, account):\n",
    "        counter = 0\n",
    "        for i in self.alist:\n",
    "            if account is i:\n",
    "                self.alist.pop(counter)\n",
    "                return \n",
    "            counter = counter + 1\n",
    "        print('This account does not exist!')\n",
    "    \n",
    "    def printAllCBalances(self):\n",
    "        for i in self.alist:\n",
    "            print(i.getCustomer().getCName(), i.getBalance())     "
   ]
  },
  {
   "cell_type": "code",
   "execution_count": 50,
   "metadata": {},
   "outputs": [],
   "source": [
    "# c1 = Customer(c1, 1234,'Student')\n",
    "# c1.getCJob()\n",
    "    "
   ]
  },
  {
   "cell_type": "code",
   "execution_count": 51,
   "metadata": {},
   "outputs": [],
   "source": [
    "# c1_account = Account(c1, 100, 120000)\n",
    "# c1_account.getAccountNumber()"
   ]
  },
  {
   "cell_type": "code",
   "execution_count": 52,
   "metadata": {},
   "outputs": [],
   "source": [
    "# c2 = Customer('aida', 7777,'Teacher')\n",
    "# c2_account = Account(c2, 101, 5000)\n",
    "# c2_account.getCustomer()\n"
   ]
  },
  {
   "cell_type": "code",
   "execution_count": 58,
   "metadata": {},
   "outputs": [
    {
     "name": "stdout",
     "output_type": "stream",
     "text": [
      "shaya 114000\n",
      "aida 770\n"
     ]
    }
   ],
   "source": [
    "# c3_account = ('Melanee', 34, 1000000)\n",
    "bas = BankAccounts([])\n",
    "bas.addAccount(c1_account)\n",
    "bas.addAccount(c2_account)\n",
    "\n",
    "c1_account.deposit(2000)\n",
    "\n",
    "# c1_account = Account(c1, 100, 120000)\n",
    "# c2_account = Account('jack', 101, 5000)\n",
    "\n",
    "\n",
    "\n",
    "# bas.addAccount(c2_account)\n",
    "# bas.addAccount(c3_account)\n",
    "\n",
    "\n",
    "c1_account.withdraw(3000)\n",
    "# c2_account.withdraw(1500)\n",
    "\n",
    "c2_account.withdraw(1000)\n",
    "\n",
    "bas.printAllCBalances()\n",
    "\n",
    "# bas.removeAccount(c2_account)\n",
    "# bas.printAllCBalances()\n",
    "    "
   ]
  },
  {
   "cell_type": "code",
   "execution_count": null,
   "metadata": {},
   "outputs": [],
   "source": [
    "bas.removeAccount(c2_account)"
   ]
  },
  {
   "cell_type": "code",
   "execution_count": null,
   "metadata": {},
   "outputs": [],
   "source": [
    "bas.printAllCBalances()"
   ]
  },
  {
   "cell_type": "markdown",
   "metadata": {},
   "source": [
    "## Multi Argument"
   ]
  },
  {
   "cell_type": "code",
   "execution_count": 16,
   "metadata": {},
   "outputs": [],
   "source": [
    "def show(name):\n",
    "    print(f'the name is : {name}')"
   ]
  },
  {
   "cell_type": "code",
   "execution_count": 18,
   "metadata": {},
   "outputs": [
    {
     "name": "stdout",
     "output_type": "stream",
     "text": [
      "the name is : ali\n"
     ]
    }
   ],
   "source": [
    "show('ali')"
   ]
  },
  {
   "cell_type": "code",
   "execution_count": 62,
   "metadata": {},
   "outputs": [],
   "source": [
    "def show(name, *args, **kwargs):\n",
    "    print(f'the name is: {name},', args, kwargs)"
   ]
  },
  {
   "cell_type": "markdown",
   "metadata": {},
   "source": [
    "## Another example of OOP"
   ]
  },
  {
   "cell_type": "code",
   "execution_count": 64,
   "metadata": {},
   "outputs": [
    {
     "name": "stdout",
     "output_type": "stream",
     "text": [
      "the name is: ali, ('amir', 5, 7) {'s': 23, 'm': 97}\n"
     ]
    }
   ],
   "source": [
    "show('ali', 'amir', 5, 7, s=23, m=97)\n",
    "\n",
    "class Student:\n",
    "    def __init__(self, sn, sf, sid, sy):\n",
    "        self.sname = sn\n",
    "        self.sfamily = sf\n",
    "        self.sid = sid\n",
    "        self.syear = sy\n",
    "        \n",
    "        \n",
    "    def getSName(self):\n",
    "        return self.sname\n",
    "    \n",
    "    def getSFamily(self):\n",
    "        return self.sfamily\n",
    "    \n",
    "    def getSid(self):\n",
    "        return self.sid\n",
    "    \n",
    "    def get_all(self):\n",
    "        return self.sname, self.sid, self.syear, self.sfamily\n",
    "    \n",
    "    def getSYear(self):\n",
    "        return self.syear\n",
    "    \n",
    "#     def setSYear(self, sy):\n",
    "#         if type(sy) is str and (sy.lower()=='freshman' or sy.lower()=='sophomore' or sy.lower()=='junior' or sy.lower()=='senior'):\n",
    "#      #graduated can not change\n",
    "#                       self.syear = sy\n",
    "#         else:\n",
    "#             print('You have input an invalid value! The only allowable input are freshman , sophomore, junior, and senior')\n",
    "\n",
    "class Course:\n",
    "    def __init__(self, cn, cid, sl):\n",
    "        self.cname = cn\n",
    "        self.cid = cid\n",
    "        self.slist = sl\n",
    "        \n",
    "    def getCName (self):\n",
    "        return self.cname\n",
    "    \n",
    "    def getCid(self):\n",
    "        return self.cid\n",
    "    \n",
    "    def prinALllStudents(self,):\n",
    "        for i in self.slist:\n",
    "            print(i.getSName(), i.getSFamily(), i.getSid(), i.getSYear())\n",
    "            #methods from other classes are accessable in other calsses, unless that method is been privated.\n",
    "        print()    \n",
    "        print('For course:', self.cname ) \n",
    "\n",
    "    def addStudent(self, st):\n",
    "        if type(st) is Student:\n",
    "            for i in self.slist:\n",
    "                if i is st:\n",
    "                    print(\"This student is already added to the course!\")\n",
    "                    return \n",
    "            self.slist.append(st)\n",
    "        else:\n",
    "            print(\"Sorry, this is not a student!\")\n",
    "\n",
    "c1 = Course('Algorithm', 15110, [] )\n",
    "\n",
    "s1 = Student('zahra', 'Aghaee', 100, 'junior')\n",
    "s2= Student('zohre', 'Molaee', 101, 'freshman')\n",
    "s3= Student('Melanee', 'Rahmani', 102, 'senior')\n",
    "s4= Student('sahar', 'Rezaee', 103, 'freshman')\n",
    "\n",
    "c1.addStudent(s1)\n",
    "c1.addStudent(s2)\n",
    "c1.addStudent(s3)\n",
    "c1.addStudent(s4)\n",
    "\n",
    "c1.prinALllStudents()"
   ]
  },
  {
   "cell_type": "code",
   "execution_count": 144,
   "metadata": {},
   "outputs": [
    {
     "name": "stdout",
     "output_type": "stream",
     "text": [
      "yalda Rezaee 104 junior\n",
      "tahere Alemi 105 freshman\n",
      "masi ghasemi 106 senior\n",
      "reza Rafiepour 107 freshman\n",
      "ali shahini 108 junior\n",
      "sepide gholikhani 109 freshman\n",
      "goli yousefzadeh 110 senior\n",
      "\n",
      "For course: Python Programming\n"
     ]
    }
   ],
   "source": [
    "c2 = Course('Python Programming', 15000, [] )\n",
    "s1 = Student('yalda','Rezaee', 104, 'junior')\n",
    "s2 = Student('tahere', 'Alemi', 105, 'freshman')\n",
    "s3 = Student('masi', 'ghasemi' , 106, 'senior')\n",
    "s4 = Student('reza', 'Rafiepour', 107, 'freshman')\n",
    "s5 = Student('ali', 'shahini', 108, 'junior')\n",
    "s6 = Student('sepide', 'gholikhani', 109, 'freshman')\n",
    "s7 = Student('goli','yousefzadeh' ,110, 'senior')\n",
    "c2.addStudent(s1)\n",
    "c2.addStudent(s2)\n",
    "c2.addStudent(s3)\n",
    "c2.addStudent(s4)\n",
    "c2.addStudent(s5)\n",
    "c2.addStudent(s6)\n",
    "c2.addStudent(s7)\n",
    "c2.prinALllStudents()"
   ]
  },
  {
   "cell_type": "markdown",
   "metadata": {},
   "source": [
    "## set time for input"
   ]
  },
  {
   "cell_type": "code",
   "execution_count": 7,
   "metadata": {},
   "outputs": [
    {
     "name": "stdout",
     "output_type": "stream",
     "text": [
      "please enter input:8\n"
     ]
    },
    {
     "data": {
      "text/plain": [
       "['8']"
      ]
     },
     "execution_count": 7,
     "metadata": {},
     "output_type": "execute_result"
    }
   ],
   "source": [
    "import time\n",
    "import datetime\n",
    "def input_fun():\n",
    "    i = 0\n",
    "    lst = []\n",
    "    while True:\n",
    "        i+=1\n",
    "        s = datetime.datetime.now()\n",
    "        in_ = input('please enter input:')\n",
    "        \n",
    "        time.sleep(5)\n",
    "        \n",
    "        e = datetime.datetime.now()\n",
    "        dif = (e-s).total_seconds()\n",
    "        lst.append(in_)\n",
    "        if dif > 5:\n",
    "            return lst\n",
    "\n",
    "input_fun()        "
   ]
  },
  {
   "cell_type": "markdown",
   "metadata": {},
   "source": [
    "## Fibonacci function"
   ]
  },
  {
   "cell_type": "code",
   "execution_count": 74,
   "metadata": {},
   "outputs": [],
   "source": [
    "def fib(n):\n",
    "    a, b = 0,1\n",
    "    for i in range(n):\n",
    "        b, a = a+b, b\n",
    "    print(b)   "
   ]
  },
  {
   "cell_type": "code",
   "execution_count": 75,
   "metadata": {},
   "outputs": [
    {
     "name": "stdout",
     "output_type": "stream",
     "text": [
      "34\n"
     ]
    }
   ],
   "source": [
    "fib(8)"
   ]
  },
  {
   "cell_type": "code",
   "execution_count": null,
   "metadata": {},
   "outputs": [],
   "source": [
    "import sys\n",
    "print('This is the name of programm:', sys.argv[0])\n",
    "print('Number of elements including the name of the programm:', len(sys.argv))\n",
    "print('Number of elements including the name of the programm:', len(sys.argv)-1)\n",
    "print('Argument list:', str(sys.argv))"
   ]
  },
  {
   "cell_type": "markdown",
   "metadata": {},
   "source": [
    "## Caesar() function"
   ]
  },
  {
   "cell_type": "code",
   "execution_count": null,
   "metadata": {},
   "outputs": [],
   "source": []
  }
 ],
 "metadata": {
  "kernelspec": {
   "display_name": "Python 3",
   "language": "python",
   "name": "python3"
  },
  "language_info": {
   "codemirror_mode": {
    "name": "ipython",
    "version": 3
   },
   "file_extension": ".py",
   "mimetype": "text/x-python",
   "name": "python",
   "nbconvert_exporter": "python",
   "pygments_lexer": "ipython3",
   "version": "3.8.5"
  }
 },
 "nbformat": 4,
 "nbformat_minor": 5
}
