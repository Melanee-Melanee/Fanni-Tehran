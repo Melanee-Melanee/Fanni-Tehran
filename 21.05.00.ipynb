{
 "cells": [
  {
   "cell_type": "code",
   "execution_count": 1,
   "metadata": {},
   "outputs": [
    {
     "name": "stdout",
     "output_type": "stream",
     "text": [
      "5 5\n"
     ]
    }
   ],
   "source": [
    "a = b = 5\n",
    "print(a,b)"
   ]
  },
  {
   "cell_type": "code",
   "execution_count": 2,
   "metadata": {},
   "outputs": [
    {
     "name": "stdout",
     "output_type": "stream",
     "text": [
      "[5, 8] [5, 8]\n"
     ]
    }
   ],
   "source": [
    "b=0\n",
    "a = [5,8]\n",
    "b = a.copy()\n",
    "print(a,b)"
   ]
  },
  {
   "cell_type": "code",
   "execution_count": 3,
   "metadata": {},
   "outputs": [
    {
     "name": "stdout",
     "output_type": "stream",
     "text": [
      "[6, 8] [5, 8]\n"
     ]
    }
   ],
   "source": [
    "a[0] = 6\n",
    "print(a,b)"
   ]
  },
  {
   "cell_type": "code",
   "execution_count": 13,
   "metadata": {},
   "outputs": [
    {
     "data": {
      "text/plain": [
       "[[2, 4, 6, 4, 3],\n",
       " [3, 6, 6, 4, 6],\n",
       " [6, 1, 4, 6, 4],\n",
       " [3, 4, 2, 4, 3],\n",
       " [5, 5, 4, 3, 4]]"
      ]
     },
     "execution_count": 13,
     "metadata": {},
     "output_type": "execute_result"
    }
   ],
   "source": [
    "import random\n",
    "def buildSquareMatrix(m,n):\n",
    "    if m==n:\n",
    "        matrix=[]\n",
    "        for i in range(n):\n",
    "            r=[]\n",
    "            for j in range(n):\n",
    "                r.append(random.randint(1,6))\n",
    "            matrix.append(r)\n",
    "        return matrix\n",
    "    else:\n",
    "        return ('This funtion builds only square matrices with random integers\\n')\n",
    "    \n",
    "buildSquareMatrix(5,5)\n",
    "\n"
   ]
  },
  {
   "cell_type": "code",
   "execution_count": 11,
   "metadata": {},
   "outputs": [],
   "source": [
    "#we want to sum matrices\n",
    "def addMatrices(a,b):\n",
    "    m=n=len(a)\n",
    "    c=[]\n",
    "    for i in range(m):\n",
    "        r=[]\n",
    "        for j in range(n):\n",
    "            r.append(a[i][j] + b[i][j])\n",
    "        c.append(r)\n",
    "    return c\n"
   ]
  },
  {
   "cell_type": "code",
   "execution_count": 19,
   "metadata": {},
   "outputs": [
    {
     "name": "stdout",
     "output_type": "stream",
     "text": [
      "4\t5\t1\t6\t6\t\n",
      "3\t1\t5\t3\t1\t\n",
      "6\t5\t4\t2\t2\t\n",
      "6\t2\t2\t2\t5\t\n",
      "2\t4\t1\t3\t4\t\n",
      "\n",
      "1\t2\t6\t3\t6\t\n",
      "1\t3\t4\t3\t5\t\n",
      "5\t2\t4\t3\t2\t\n",
      "1\t4\t1\t4\t1\t\n",
      "5\t4\t1\t1\t2\t\n",
      "\n",
      "5\t7\t7\t9\t12\t\n",
      "4\t4\t9\t6\t6\t\n",
      "11\t7\t8\t5\t4\t\n",
      "7\t6\t3\t6\t6\t\n",
      "7\t8\t2\t4\t6\t\n",
      "\n"
     ]
    }
   ],
   "source": [
    "def printMatrix(a):\n",
    "    for i in a:\n",
    "        for j in i:\n",
    "            print(j, end = '\\t')\n",
    "        print()\n",
    "    print()\n",
    "        \n",
    "a = buildSquareMatrix(5,5)  \n",
    "b = buildSquareMatrix(5,5) \n",
    "printMatrix(a)\n",
    "printMatrix(b)\n",
    "c = addMatrices(a,b)\n",
    "printMatrix(c)"
   ]
  },
  {
   "cell_type": "code",
   "execution_count": 5,
   "metadata": {},
   "outputs": [
    {
     "data": {
      "text/plain": [
       "[[0, 1, 2, 3, 4], [5, 6, 7, 8, 9], [10, 11, 12, 13, 14], [15, 16, 17, 18, 19]]"
      ]
     },
     "execution_count": 5,
     "metadata": {},
     "output_type": "execute_result"
    }
   ],
   "source": [
    "n = 5\n",
    "m= 4\n",
    "b = [[x+5*y for x in range(n)] for y in range(m)]\n",
    "b"
   ]
  },
  {
   "cell_type": "code",
   "execution_count": 20,
   "metadata": {},
   "outputs": [
    {
     "name": "stdout",
     "output_type": "stream",
     "text": [
      "(1, 2, 3)\n",
      "('a', 'b', 'c', 'd')\n",
      "(200, 'A', [4, 5], 3.2)\n"
     ]
    }
   ],
   "source": [
    "t1= (1,2,3)\n",
    "t2= ('a', 'b', 'c', 'd')\n",
    "t3=(200, 'A', [4,5], 3.2)\n",
    "\n",
    "print(t1)\n",
    "print(t2)\n",
    "print(t3)\n"
   ]
  },
  {
   "cell_type": "code",
   "execution_count": 23,
   "metadata": {},
   "outputs": [
    {
     "name": "stdout",
     "output_type": "stream",
     "text": [
      "200 A [4, 5] 3.2 \n"
     ]
    }
   ],
   "source": [
    "for i in t3:\n",
    "    print(i, end= \" \")\n",
    "print()    "
   ]
  },
  {
   "cell_type": "code",
   "execution_count": 33,
   "metadata": {},
   "outputs": [
    {
     "name": "stdout",
     "output_type": "stream",
     "text": [
      "('h', 'o', 'y')\n"
     ]
    }
   ],
   "source": [
    "dd= ('y', 'o', 'h')\n",
    "print(dd[::-1])"
   ]
  },
  {
   "cell_type": "code",
   "execution_count": 28,
   "metadata": {},
   "outputs": [
    {
     "name": "stdout",
     "output_type": "stream",
     "text": [
      "('y', 'o', 'h', 'y', 'o', 'm')\n"
     ]
    }
   ],
   "source": [
    "cc= ('y', 'o', 'm')\n",
    "tt = dd + cc\n",
    "print(tt)"
   ]
  },
  {
   "cell_type": "code",
   "execution_count": 42,
   "metadata": {},
   "outputs": [
    {
     "name": "stdout",
     "output_type": "stream",
     "text": [
      "(1, 2, 3, 1, 2, 3)\n"
     ]
    }
   ],
   "source": [
    "def func1(t):\n",
    "    t = (1,2,3)\n",
    "    t = t *2\n",
    "    print(t)\n",
    "    \n",
    " \n",
    "# print(t)\n",
    "func1(t)\n"
   ]
  },
  {
   "cell_type": "code",
   "execution_count": 30,
   "metadata": {},
   "outputs": [
    {
     "name": "stdout",
     "output_type": "stream",
     "text": [
      "(1, 2, 3)\n"
     ]
    },
    {
     "ename": "NameError",
     "evalue": "name 'aa' is not defined",
     "output_type": "error",
     "traceback": [
      "\u001b[1;31m---------------------------------------------------------------------------\u001b[0m",
      "\u001b[1;31mNameError\u001b[0m                                 Traceback (most recent call last)",
      "\u001b[1;32m<ipython-input-30-dafc95843496>\u001b[0m in \u001b[0;36m<module>\u001b[1;34m\u001b[0m\n\u001b[0;32m      7\u001b[0m \u001b[0mprint\u001b[0m\u001b[1;33m(\u001b[0m\u001b[0mt\u001b[0m\u001b[1;33m)\u001b[0m\u001b[1;33m\u001b[0m\u001b[1;33m\u001b[0m\u001b[0m\n\u001b[0;32m      8\u001b[0m \u001b[0mfunc1\u001b[0m\u001b[1;33m(\u001b[0m\u001b[0mt\u001b[0m\u001b[1;33m)\u001b[0m\u001b[1;33m\u001b[0m\u001b[1;33m\u001b[0m\u001b[0m\n\u001b[1;32m----> 9\u001b[1;33m \u001b[0mprint\u001b[0m\u001b[1;33m(\u001b[0m\u001b[0maa\u001b[0m\u001b[1;33m)\u001b[0m\u001b[1;33m\u001b[0m\u001b[1;33m\u001b[0m\u001b[0m\n\u001b[0m",
      "\u001b[1;31mNameError\u001b[0m: name 'aa' is not defined"
     ]
    }
   ],
   "source": [
    "# we can not print(aa) out of function!\n",
    "def func1(t):\n",
    "    aa = t *2\n",
    "    return aa\n",
    "    \n",
    "t = (1,2,3) \n",
    "print(t)\n",
    "func1(t)\n",
    "print(aa)"
   ]
  },
  {
   "cell_type": "code",
   "execution_count": 8,
   "metadata": {},
   "outputs": [
    {
     "name": "stdout",
     "output_type": "stream",
     "text": [
      "3\n",
      "4\n"
     ]
    }
   ],
   "source": [
    "t1 = (1,2,3,1,5,1)\n",
    "print(t1.count(1))\n",
    "print(t1.index(5))"
   ]
  },
  {
   "cell_type": "code",
   "execution_count": 50,
   "metadata": {},
   "outputs": [
    {
     "name": "stdout",
     "output_type": "stream",
     "text": [
      "{'first': {1: 1}, 'second': {'a', 2}}\n",
      "{'first': {1: 1}, 'second': {'a', 2}, 'fisrt': [1, 2, 3]}\n"
     ]
    }
   ],
   "source": [
    "#add new items to dictionary via d[]=[]\n",
    "def func1(d):\n",
    "    d['fisrt'] = [1,2,3]\n",
    "dic = {'first': {1:1}, 'second': {2, 'a'}}\n",
    "print(dic)\n",
    "\n",
    "\n",
    "func1(dic)\n",
    "print(dic)"
   ]
  },
  {
   "cell_type": "code",
   "execution_count": 13,
   "metadata": {},
   "outputs": [
    {
     "name": "stdout",
     "output_type": "stream",
     "text": [
      "first\n",
      "second\n",
      "third\n"
     ]
    }
   ],
   "source": [
    "#this code print keyes in default\n",
    "dic ={'first': 1, 'second': 2, 'third': 3}\n",
    "for i in dic:\n",
    "    print(i)"
   ]
  },
  {
   "cell_type": "code",
   "execution_count": 14,
   "metadata": {},
   "outputs": [
    {
     "name": "stdout",
     "output_type": "stream",
     "text": [
      "first 1\n",
      "second 2\n",
      "third 3\n"
     ]
    }
   ],
   "source": [
    "#this code print keyes and values\n",
    "dic ={'first': 1, 'second': 2, 'third': 3}\n",
    "for i in dic:\n",
    "    print(i, dic[i])"
   ]
  },
  {
   "cell_type": "code",
   "execution_count": 15,
   "metadata": {},
   "outputs": [
    {
     "name": "stdout",
     "output_type": "stream",
     "text": [
      "{'first': 1, 'second': 2, 'third': 3, 'fourth': 4}\n"
     ]
    }
   ],
   "source": [
    "#add new items to dictionary via d[]=[]\n",
    "dic ={'first': 1, 'second': 2, 'third': 3}\n",
    "dic['fourth'] = 4\n",
    "print(dic)"
   ]
  },
  {
   "cell_type": "code",
   "execution_count": 16,
   "metadata": {},
   "outputs": [
    {
     "data": {
      "text/plain": [
       "'shaya'"
      ]
     },
     "execution_count": 16,
     "metadata": {},
     "output_type": "execute_result"
    }
   ],
   "source": [
    "d = {0: 'shaya', 1:'ayda'}\n",
    "d[0]"
   ]
  },
  {
   "cell_type": "code",
   "execution_count": 17,
   "metadata": {},
   "outputs": [
    {
     "data": {
      "text/plain": [
       "'shaya'"
      ]
     },
     "execution_count": 17,
     "metadata": {},
     "output_type": "execute_result"
    }
   ],
   "source": [
    "l= ['shaya', 'ayda']\n",
    "l[0]"
   ]
  },
  {
   "cell_type": "code",
   "execution_count": 18,
   "metadata": {},
   "outputs": [
    {
     "data": {
      "text/plain": [
       "{'NUM': 45, 1000: 'CODING', 2000: 4.5, 3.4: 7, 'xxx': 89}"
      ]
     },
     "execution_count": 18,
     "metadata": {},
     "output_type": "execute_result"
    }
   ],
   "source": [
    "dic = {'NUM':45, 1000:'CODING', 2000:4.5, 3.4:7, 'xxx':89}\n",
    "dic"
   ]
  },
  {
   "cell_type": "code",
   "execution_count": 23,
   "metadata": {},
   "outputs": [
    {
     "data": {
      "text/plain": [
       "'CODING'"
      ]
     },
     "execution_count": 23,
     "metadata": {},
     "output_type": "execute_result"
    }
   ],
   "source": [
    "dic[1000]"
   ]
  },
  {
   "cell_type": "code",
   "execution_count": 24,
   "metadata": {},
   "outputs": [
    {
     "name": "stdout",
     "output_type": "stream",
     "text": [
      "[(2, 4)] [(1, 6)] [(2, 5)] [(1, 6)] [(2, 1)] [(1, 6)] [(1, 5)] [(2, 5)] [(2, 1)] [(1, 1)] [(1, 2)] [(2, 3)] [(2, 6)] [(1, 5)] [(2, 2)] [(1, 3)] [(2, 5)] [(1, 4)] [(1, 4)] [(2, 3)] "
     ]
    }
   ],
   "source": [
    "#tossing coin and toss for 2o times\n",
    "import random\n",
    "def game(n):\n",
    "    for i in range(n):\n",
    "        t1= (random.randint(1,2), random.randint(1,6))\n",
    "        l1=[t1]\n",
    "        print(l1, end= ' ')\n",
    "        \n",
    "game(20)        \n",
    "   \n"
   ]
  },
  {
   "cell_type": "code",
   "execution_count": 24,
   "metadata": {},
   "outputs": [
    {
     "data": {
      "text/plain": [
       "[(2, 3),\n",
       " (2, 6),\n",
       " (1, 1),\n",
       " (1, 3),\n",
       " (1, 4),\n",
       " (2, 1),\n",
       " (1, 6),\n",
       " (1, 1),\n",
       " (2, 5),\n",
       " (1, 5),\n",
       " (2, 1),\n",
       " (1, 3)]"
      ]
     },
     "execution_count": 24,
     "metadata": {},
     "output_type": "execute_result"
    }
   ],
   "source": [
    "#equivalent above\n",
    "import random\n",
    "def random_cd(iteration):\n",
    "    all_cd = []\n",
    "    for i in range (iteration):\n",
    "        a = random.randint(1,2)\n",
    "        b = random.randint(1,6)\n",
    "        all_cd.append((a,b))\n",
    "        \n",
    "    return all_cd\n",
    "\n",
    "result = random_cd(12)\n",
    "result\n",
    "        "
   ]
  },
  {
   "cell_type": "markdown",
   "metadata": {},
   "source": [
    "#Files in python\n"
   ]
  },
  {
   "cell_type": "code",
   "execution_count": 53,
   "metadata": {},
   "outputs": [],
   "source": [
    "# f = open('C:/Users/sony/Desktop/' + 'sh.txt' ,'x')\n",
    "# f.close()"
   ]
  },
  {
   "cell_type": "code",
   "execution_count": 10,
   "metadata": {},
   "outputs": [],
   "source": [
    "#this code is same as above\n",
    "path_name = 'C:/Users/sony/Desktop/'\n",
    "file_name = 'sss.txt'\n",
    "f = open(path_name + file_name, 'x')\n",
    "f.close()"
   ]
  },
  {
   "cell_type": "code",
   "execution_count": 33,
   "metadata": {},
   "outputs": [
    {
     "data": {
      "text/plain": [
       "<function TextIOWrapper.close()>"
      ]
     },
     "execution_count": 33,
     "metadata": {},
     "output_type": "execute_result"
    }
   ],
   "source": [
    "#we want to print the result of 'tossing coin and toss for 2o times' code in our new created file (sh.txt)\n",
    "f = open(path_name + file_name, 'w')\n",
    "f.write(str(result))\n",
    "f.close"
   ]
  },
  {
   "cell_type": "code",
   "execution_count": 38,
   "metadata": {},
   "outputs": [
    {
     "data": {
      "text/plain": [
       "<function TextIOWrapper.close()>"
      ]
     },
     "execution_count": 38,
     "metadata": {},
     "output_type": "execute_result"
    }
   ],
   "source": [
    "f = open(path_name + file_name, 'a')\n",
    "f.write('I am shaghayegh')\n",
    "f.close"
   ]
  },
  {
   "cell_type": "code",
   "execution_count": 39,
   "metadata": {},
   "outputs": [
    {
     "name": "stdout",
     "output_type": "stream",
     "text": [
      "{'am', '(2,', 'shaghayegh', '[(2,', '3),', '1),', '4),', '6),', '5),', '(1,', '3)]I'}\n",
      "<class 'str'>\n"
     ]
    }
   ],
   "source": [
    "f = open(path_name + file_name, 'r')\n",
    "data = f.read()\n",
    "text = data.replace('\\n', ' ').split(' ')#remove('')\n",
    "print(set(text))\n",
    "print(type(data))"
   ]
  },
  {
   "cell_type": "code",
   "execution_count": 40,
   "metadata": {},
   "outputs": [
    {
     "ename": "AttributeError",
     "evalue": "'builtin_function_or_method' object has no attribute 'replace'",
     "output_type": "error",
     "traceback": [
      "\u001b[1;31m---------------------------------------------------------------------------\u001b[0m",
      "\u001b[1;31mAttributeError\u001b[0m                            Traceback (most recent call last)",
      "\u001b[1;32m<ipython-input-40-20a93979f226>\u001b[0m in \u001b[0;36m<module>\u001b[1;34m\u001b[0m\n\u001b[0;32m      1\u001b[0m \u001b[0mf\u001b[0m \u001b[1;33m=\u001b[0m \u001b[0mopen\u001b[0m\u001b[1;33m(\u001b[0m\u001b[0mpath_name\u001b[0m \u001b[1;33m+\u001b[0m \u001b[0mfile_name\u001b[0m\u001b[1;33m,\u001b[0m \u001b[1;34m'r'\u001b[0m\u001b[1;33m)\u001b[0m\u001b[1;33m\u001b[0m\u001b[1;33m\u001b[0m\u001b[0m\n\u001b[0;32m      2\u001b[0m \u001b[0mdata\u001b[0m \u001b[1;33m=\u001b[0m \u001b[0mf\u001b[0m\u001b[1;33m.\u001b[0m\u001b[0mclose\u001b[0m\u001b[1;33m\u001b[0m\u001b[1;33m\u001b[0m\u001b[0m\n\u001b[1;32m----> 3\u001b[1;33m \u001b[0mtext\u001b[0m \u001b[1;33m=\u001b[0m \u001b[0mdata\u001b[0m\u001b[1;33m.\u001b[0m\u001b[0mreplace\u001b[0m\u001b[1;33m(\u001b[0m\u001b[1;34m'\\n'\u001b[0m\u001b[1;33m,\u001b[0m \u001b[1;34m' '\u001b[0m\u001b[1;33m)\u001b[0m\u001b[1;33m.\u001b[0m\u001b[0msplit\u001b[0m\u001b[1;33m(\u001b[0m\u001b[1;34m' '\u001b[0m\u001b[1;33m)\u001b[0m\u001b[1;31m#remove('')\u001b[0m\u001b[1;33m\u001b[0m\u001b[1;33m\u001b[0m\u001b[0m\n\u001b[0m\u001b[0;32m      4\u001b[0m \u001b[0mprint\u001b[0m\u001b[1;33m(\u001b[0m\u001b[0mlen\u001b[0m\u001b[1;33m(\u001b[0m\u001b[0mset\u001b[0m\u001b[1;33m(\u001b[0m\u001b[0mtext\u001b[0m\u001b[1;33m)\u001b[0m\u001b[1;33m)\u001b[0m\u001b[1;33m,\u001b[0m \u001b[1;34m' : '\u001b[0m\u001b[1;33m,\u001b[0m \u001b[0mset\u001b[0m\u001b[1;33m(\u001b[0m\u001b[0mtext\u001b[0m\u001b[1;33m)\u001b[0m\u001b[1;33m,\u001b[0m \u001b[1;34m'\\n\\n'\u001b[0m\u001b[1;33m,\u001b[0m \u001b[0mtext\u001b[0m\u001b[1;33m)\u001b[0m\u001b[1;33m\u001b[0m\u001b[1;33m\u001b[0m\u001b[0m\n",
      "\u001b[1;31mAttributeError\u001b[0m: 'builtin_function_or_method' object has no attribute 'replace'"
     ]
    }
   ],
   "source": [
    "f = open(path_name + file_name, 'r')\n",
    "data = f.close\n",
    "text = data.replace('\\n', ' ').split(' ')#remove('')\n",
    "print(len(set(text)), ' : ', set(text), '\\n\\n', text)"
   ]
  },
  {
   "cell_type": "code",
   "execution_count": 41,
   "metadata": {},
   "outputs": [
    {
     "name": "stdout",
     "output_type": "stream",
     "text": [
      "[(2, 3), (2, 6), (1, 1), (1, 3), (1, 4), (2, 1), (1, 6), (1, 1), (2, 5), (1, 5), (2, 1), (1, 3)]I am shaghayegh\n",
      "\n",
      "\n"
     ]
    }
   ],
   "source": [
    "f = open(path_name + file_name, 'r')\n",
    "str1 = f.readline()\n",
    "print(str1)\n",
    "str2 = f.readline()\n",
    "print(str2)\n",
    "print(f.readline())"
   ]
  },
  {
   "cell_type": "code",
   "execution_count": 3,
   "metadata": {},
   "outputs": [],
   "source": [
    "#deleting a file\n",
    "import os\n",
    "path_name = 'C:/Users/sony/Desktop/'\n",
    "file_name = '123.txt'\n",
    "\n",
    "os.remove(path_name + file_name)"
   ]
  },
  {
   "cell_type": "code",
   "execution_count": 16,
   "metadata": {},
   "outputs": [],
   "source": [
    "#coping a file\n",
    "import os\n",
    "def copyFile (name):\n",
    "    if type(name) is str and os.path.exists(name):\n",
    "        l = name.split('.')\n",
    "        new_name = l[0] + '_copy' + l[1]\n",
    "        f_source = open(name, 'r')\n",
    "        f_destination = open('new_name', 'w')\n",
    "        f_destination.write(f_source.read())\n",
    "        f_source.close()\n",
    "        f_destination.close()\n",
    "    else:\n",
    "        print('The file does not exist!')\n",
    "        \n",
    "path_name = 'C:/Users/sony/Desktop/'\n",
    "file_name = 'sss.txt'\n",
    "copyFile(path_name + file_name)"
   ]
  },
  {
   "cell_type": "code",
   "execution_count": 15,
   "metadata": {},
   "outputs": [
    {
     "name": "stdout",
     "output_type": "stream",
     "text": [
      "Series([], dtype: float64)\n",
      "0    g\n",
      "1    e\n",
      "2    e\n",
      "3    k\n",
      "4    s\n",
      "dtype: object\n"
     ]
    },
    {
     "name": "stderr",
     "output_type": "stream",
     "text": [
      "<ipython-input-15-298bf61b04bd>:4: DeprecationWarning: The default dtype for empty Series will be 'object' instead of 'float64' in a future version. Specify a dtype explicitly to silence this warning.\n",
      "  ser = pd.Series()\n"
     ]
    }
   ],
   "source": [
    "import pandas as pd\n",
    "import numpy as np\n",
    "\n",
    "ser = pd.Series()\n",
    "print(ser)\n",
    "\n",
    "data = np.array(['g', 'e', 'e', 'k', 's'])\n",
    "\n",
    "ser = pd.Series(data)\n",
    "print(ser)"
   ]
  },
  {
   "cell_type": "code",
   "execution_count": 17,
   "metadata": {},
   "outputs": [
    {
     "name": "stdout",
     "output_type": "stream",
     "text": [
      " g\n",
      " e\n",
      " e\n",
      " k\n",
      " s\n"
     ]
    }
   ],
   "source": [
    "#omit number rows\n",
    "print(ser.to_string(index=False))"
   ]
  },
  {
   "cell_type": "code",
   "execution_count": 22,
   "metadata": {},
   "outputs": [
    {
     "name": "stdout",
     "output_type": "stream",
     "text": [
      "        0\n",
      "0   Geeks\n",
      "1     For\n",
      "2      is\n",
      "3  portal\n",
      "4     for\n",
      "5   Geeks\n"
     ]
    }
   ],
   "source": [
    "import pandas as pd\n",
    "# df = pd.DataFrame()\n",
    "# print(df)\n",
    "\n",
    "lst = ['Geeks', 'For', 'is', 'portal', 'for', 'Geeks']\n",
    "\n",
    "df = pd.DataFrame(lst)\n",
    "print(df)"
   ]
  },
  {
   "cell_type": "code",
   "execution_count": 21,
   "metadata": {},
   "outputs": [
    {
     "name": "stdout",
     "output_type": "stream",
     "text": [
      "      0\n",
      "  Geeks\n",
      "    For\n",
      "     is\n",
      " portal\n",
      "    for\n",
      "  Geeks\n"
     ]
    }
   ],
   "source": [
    "#omit number rows\n",
    "print(df.to_string(index=False))"
   ]
  },
  {
   "cell_type": "code",
   "execution_count": 4,
   "metadata": {},
   "outputs": [
    {
     "name": "stdout",
     "output_type": "stream",
     "text": [
      "6 you won, Now you can have one more play!\n",
      "5\n"
     ]
    }
   ],
   "source": [
    "import random\n",
    "def game():\n",
    "    n = random.randint(1,6)\n",
    "    print(n)\n",
    "def runGame(m):\n",
    "    m = random.randint(1,6)\n",
    "    if m<6:\n",
    "        print(m, 'you lose!')\n",
    "    else:\n",
    "        print(m, 'you won, Now you can have one more play!')\n",
    "        game()\n",
    "m=1\n",
    "while True:\n",
    "    runGame(m)\n",
    "    break"
   ]
  },
  {
   "cell_type": "code",
   "execution_count": 14,
   "metadata": {},
   "outputs": [
    {
     "name": "stdout",
     "output_type": "stream",
     "text": [
      "3\n"
     ]
    }
   ],
   "source": [
    "import struct\n",
    "import time\n",
    "def lastbit(f):\n",
    "    return struct.pack('!f', f)[-1] & 1\n",
    "def getrandbits(k):\n",
    "    result = 0\n",
    "    for _ in range(k):\n",
    "        time.sleep(0)\n",
    "        result <<= 1\n",
    "        result |= lastbit(time.perf_counter())\n",
    "    return result\n",
    "def randint(a, b):\n",
    "    \"Return random integer in range [a, b], including both end points.\"\n",
    "    return a + randbelow(b - a + 1)\n",
    "def randbelow(n):\n",
    "    \"Return a random int in the range [0,n).  Raises ValueError if n<=0.\"\n",
    "    if n <= 0:\n",
    "        raise ValueError\n",
    "    k = n.bit_length()  # don't use (n-1) here because n can be 1\n",
    "    r = getrandbits(k)          # 0 <= r < 2**k\n",
    "    while r >= n: # avoid skew\n",
    "        r = getrandbits(k)\n",
    "    return r\n",
    "print(*[randint(0, 10) for _ in range(1)])"
   ]
  },
  {
   "cell_type": "code",
   "execution_count": 28,
   "metadata": {},
   "outputs": [
    {
     "ename": "IndexError",
     "evalue": "list index out of range",
     "output_type": "error",
     "traceback": [
      "\u001b[1;31m---------------------------------------------------------------------------\u001b[0m",
      "\u001b[1;31mIndexError\u001b[0m                                Traceback (most recent call last)",
      "\u001b[1;32m<ipython-input-28-009ea2df66ce>\u001b[0m in \u001b[0;36m<module>\u001b[1;34m\u001b[0m\n\u001b[0;32m      3\u001b[0m \u001b[0mA\u001b[0m \u001b[1;33m=\u001b[0m \u001b[1;33m[\u001b[0m\u001b[1;34m'elizabet'\u001b[0m\u001b[1;33m,\u001b[0m \u001b[1;34m'melanee'\u001b[0m\u001b[1;33m,\u001b[0m \u001b[1;34m'rosalee'\u001b[0m\u001b[1;33m]\u001b[0m\u001b[1;33m\u001b[0m\u001b[1;33m\u001b[0m\u001b[0m\n\u001b[0;32m      4\u001b[0m \u001b[0mB\u001b[0m \u001b[1;33m=\u001b[0m \u001b[0mrandom\u001b[0m\u001b[1;33m.\u001b[0m\u001b[0mrandint\u001b[0m\u001b[1;33m(\u001b[0m\u001b[1;36m0\u001b[0m\u001b[1;33m,\u001b[0m \u001b[0mlen\u001b[0m\u001b[1;33m(\u001b[0m\u001b[0mA\u001b[0m\u001b[1;33m)\u001b[0m\u001b[1;33m)\u001b[0m\u001b[1;33m\u001b[0m\u001b[1;33m\u001b[0m\u001b[0m\n\u001b[1;32m----> 5\u001b[1;33m \u001b[0mC\u001b[0m \u001b[1;33m=\u001b[0m \u001b[0mA\u001b[0m\u001b[1;33m[\u001b[0m\u001b[0mB\u001b[0m\u001b[1;33m]\u001b[0m\u001b[1;33m\u001b[0m\u001b[1;33m\u001b[0m\u001b[0m\n\u001b[0m\u001b[0;32m      6\u001b[0m \u001b[0mprint\u001b[0m\u001b[1;33m(\u001b[0m\u001b[0mC\u001b[0m\u001b[1;33m)\u001b[0m\u001b[1;33m\u001b[0m\u001b[1;33m\u001b[0m\u001b[0m\n",
      "\u001b[1;31mIndexError\u001b[0m: list index out of range"
     ]
    }
   ],
   "source": [
    "#lottary\n",
    "import random\n",
    "A = ['elizabet', 'melanee', 'rosalee']\n",
    "B = random.randint(0, len(A))\n",
    "C = A[B]\n",
    "print(C)\n"
   ]
  },
  {
   "cell_type": "code",
   "execution_count": null,
   "metadata": {},
   "outputs": [],
   "source": []
  }
 ],
 "metadata": {
  "kernelspec": {
   "display_name": "Python 3",
   "language": "python",
   "name": "python3"
  }
 },
 "nbformat": 4,
 "nbformat_minor": 5
}
