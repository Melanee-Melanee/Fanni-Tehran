{
 "cells": [
  {
   "cell_type": "code",
   "execution_count": 1,
   "metadata": {},
   "outputs": [
    {
     "name": "stdout",
     "output_type": "stream",
     "text": [
      "5 5\n"
     ]
    }
   ],
   "source": [
    "a = b = 5\n",
    "print(a,b)"
   ]
  },
  {
   "cell_type": "code",
   "execution_count": 2,
   "metadata": {},
   "outputs": [
    {
     "name": "stdout",
     "output_type": "stream",
     "text": [
      "[5, 8] [5, 8]\n"
     ]
    }
   ],
   "source": [
    "b=0\n",
    "a = [5,8]\n",
    "b = a.copy()\n",
    "print(a,b)"
   ]
  },
  {
   "cell_type": "code",
   "execution_count": 3,
   "metadata": {},
   "outputs": [
    {
     "name": "stdout",
     "output_type": "stream",
     "text": [
      "[6, 8] [5, 8]\n"
     ]
    }
   ],
   "source": [
    "a[0] = 6\n",
    "print(a,b)"
   ]
  },
  {
   "cell_type": "code",
   "execution_count": 4,
   "metadata": {},
   "outputs": [
    {
     "data": {
      "text/plain": [
       "[[5, 1, 6, 4, 4],\n",
       " [4, 5, 2, 6, 1],\n",
       " [3, 6, 1, 1, 1],\n",
       " [5, 6, 4, 3, 1],\n",
       " [5, 4, 3, 6, 3]]"
      ]
     },
     "execution_count": 4,
     "metadata": {},
     "output_type": "execute_result"
    }
   ],
   "source": [
    "import random\n",
    "def buildSquareMatrix(m,n):\n",
    "    if m==n:\n",
    "        matrix=[]\n",
    "        for i in range(n):\n",
    "            r=[]\n",
    "            for j in range(n):\n",
    "                r.append(random.randint(1,6))\n",
    "            matrix.append(r)\n",
    "        return matrix\n",
    "    else:\n",
    "        return ('This funtion builds only square matrices with random integers\\n')\n",
    "    \n",
    "buildSquareMatrix(5,5)\n",
    "\n"
   ]
  },
  {
   "cell_type": "code",
   "execution_count": null,
   "metadata": {},
   "outputs": [],
   "source": [
    "#we want to sum matrices\n",
    "def addMatrices(a,b):\n",
    "    m=n=len(a)\n",
    "    c=[]\n",
    "    for i in range(m):\n",
    "        r=[]\n",
    "        for j in range(n):\n",
    "            r.append(a[i][j] + b[i][j])\n",
    "        c.append(r)\n",
    "    return c"
   ]
  },
  {
   "cell_type": "code",
   "execution_count": 9,
   "metadata": {},
   "outputs": [
    {
     "data": {
      "text/plain": [
       "[[0, 1, 2, 3, 4], [5, 6, 7, 8, 9], [10, 11, 12, 13, 14], [15, 16, 17, 18, 19]]"
      ]
     },
     "execution_count": 9,
     "metadata": {},
     "output_type": "execute_result"
    }
   ],
   "source": [
    "n = 5\n",
    "m= 4\n",
    "b = [[x+5*y for x in range(n)] for y in range(m)]\n",
    "b"
   ]
  },
  {
   "cell_type": "code",
   "execution_count": 4,
   "metadata": {},
   "outputs": [
    {
     "name": "stdout",
     "output_type": "stream",
     "text": [
      "(1, 2, 3)\n",
      "('a', 'b', 'c', 'd')\n",
      "(200, 'A', [4, 5], 3.2)\n"
     ]
    }
   ],
   "source": [
    "t1= (1,2,3)\n",
    "t2= ('a', 'b', 'c', 'd')\n",
    "t3=(200, 'A', [4,5], 3.2)\n",
    "\n",
    "print(t1)\n",
    "print(t2)\n",
    "print(t3)\n"
   ]
  },
  {
   "cell_type": "code",
   "execution_count": 5,
   "metadata": {},
   "outputs": [
    {
     "name": "stdout",
     "output_type": "stream",
     "text": [
      "200 A [4, 5] 3.2 \n"
     ]
    }
   ],
   "source": [
    "for i in t3:\n",
    "    print(i, end= \" \")\n",
    "print()    "
   ]
  },
  {
   "cell_type": "code",
   "execution_count": 11,
   "metadata": {},
   "outputs": [
    {
     "name": "stdout",
     "output_type": "stream",
     "text": [
      "('h', 'o', 'y')\n"
     ]
    }
   ],
   "source": [
    "dd= ('y', 'o', 'h')\n",
    "print(dd[::-1])"
   ]
  },
  {
   "cell_type": "code",
   "execution_count": 13,
   "metadata": {},
   "outputs": [
    {
     "name": "stdout",
     "output_type": "stream",
     "text": [
      "('y', 'o', 'h', 'y', 'o', 'h')\n"
     ]
    }
   ],
   "source": [
    "cc= ('y', 'o', 'h')\n",
    "tt = dd + cc\n",
    "print(tt)"
   ]
  },
  {
   "cell_type": "code",
   "execution_count": 15,
   "metadata": {},
   "outputs": [
    {
     "name": "stdout",
     "output_type": "stream",
     "text": [
      "(1, 2, 3)\n",
      "(1, 2, 3)\n"
     ]
    }
   ],
   "source": [
    "def func1(t):\n",
    "    t = t *2\n",
    "    \n",
    "t = (1,2,3) \n",
    "print(t)\n",
    "func1(t)\n",
    "print(t)"
   ]
  },
  {
   "cell_type": "code",
   "execution_count": 6,
   "metadata": {},
   "outputs": [
    {
     "name": "stdout",
     "output_type": "stream",
     "text": [
      "(1, 2, 3)\n"
     ]
    },
    {
     "ename": "NameError",
     "evalue": "name 'aa' is not defined",
     "output_type": "error",
     "traceback": [
      "\u001b[1;31m---------------------------------------------------------------------------\u001b[0m",
      "\u001b[1;31mNameError\u001b[0m                                 Traceback (most recent call last)",
      "\u001b[1;32m<ipython-input-6-aaefae47444b>\u001b[0m in \u001b[0;36m<module>\u001b[1;34m\u001b[0m\n\u001b[0;32m      6\u001b[0m \u001b[0mprint\u001b[0m\u001b[1;33m(\u001b[0m\u001b[0mt\u001b[0m\u001b[1;33m)\u001b[0m\u001b[1;33m\u001b[0m\u001b[1;33m\u001b[0m\u001b[0m\n\u001b[0;32m      7\u001b[0m \u001b[0mfunc1\u001b[0m\u001b[1;33m(\u001b[0m\u001b[0mt\u001b[0m\u001b[1;33m)\u001b[0m\u001b[1;33m\u001b[0m\u001b[1;33m\u001b[0m\u001b[0m\n\u001b[1;32m----> 8\u001b[1;33m \u001b[0mprint\u001b[0m\u001b[1;33m(\u001b[0m\u001b[0maa\u001b[0m\u001b[1;33m)\u001b[0m\u001b[1;33m\u001b[0m\u001b[1;33m\u001b[0m\u001b[0m\n\u001b[0m",
      "\u001b[1;31mNameError\u001b[0m: name 'aa' is not defined"
     ]
    }
   ],
   "source": [
    "# we can not print(aa) out of function!\n",
    "def func1(t):\n",
    "    aa = t *2\n",
    "    return aa\n",
    "    \n",
    "t = (1,2,3) \n",
    "print(t)\n",
    "func1(t)\n",
    "print(aa)"
   ]
  },
  {
   "cell_type": "code",
   "execution_count": 8,
   "metadata": {},
   "outputs": [
    {
     "name": "stdout",
     "output_type": "stream",
     "text": [
      "3\n",
      "4\n"
     ]
    }
   ],
   "source": [
    "t1 = (1,2,3,1,5,1)\n",
    "print(t1.count(1))\n",
    "print(t1.index(5))"
   ]
  },
  {
   "cell_type": "code",
   "execution_count": 11,
   "metadata": {},
   "outputs": [
    {
     "name": "stdout",
     "output_type": "stream",
     "text": [
      "{'first': {1: 1}, 'second': {'a', 2}}\n",
      "{'first': {1: 1}, 'second': {'a', 2}, 'fisrt': [1, 2, 3]}\n"
     ]
    }
   ],
   "source": [
    "#addin new items to dictionary via d[]=[]\n",
    "def func1(d):\n",
    "    d['fisrt'] = [1,2,3]\n",
    "dic = {'first': {1:1}, 'second': {2, 'a'}}\n",
    "print(dic)\n",
    "func1(dic)\n",
    "print(dic)"
   ]
  },
  {
   "cell_type": "code",
   "execution_count": 13,
   "metadata": {},
   "outputs": [
    {
     "name": "stdout",
     "output_type": "stream",
     "text": [
      "first\n",
      "second\n",
      "third\n"
     ]
    }
   ],
   "source": [
    "#this code print keyes in default\n",
    "dic ={'first': 1, 'second': 2, 'third': 3}\n",
    "for i in dic:\n",
    "    print(i)"
   ]
  },
  {
   "cell_type": "code",
   "execution_count": 14,
   "metadata": {},
   "outputs": [
    {
     "name": "stdout",
     "output_type": "stream",
     "text": [
      "first 1\n",
      "second 2\n",
      "third 3\n"
     ]
    }
   ],
   "source": [
    "#this code print keyes and values\n",
    "dic ={'first': 1, 'second': 2, 'third': 3}\n",
    "for i in dic:\n",
    "    print(i, dic[i])"
   ]
  },
  {
   "cell_type": "code",
   "execution_count": 15,
   "metadata": {},
   "outputs": [
    {
     "name": "stdout",
     "output_type": "stream",
     "text": [
      "{'first': 1, 'second': 2, 'third': 3, 'fourth': 4}\n"
     ]
    }
   ],
   "source": [
    "#addin new items to dictionary via d[]=[]\n",
    "dic ={'first': 1, 'second': 2, 'third': 3}\n",
    "dic['fourth'] = 4\n",
    "print(dic)"
   ]
  },
  {
   "cell_type": "code",
   "execution_count": 16,
   "metadata": {},
   "outputs": [
    {
     "data": {
      "text/plain": [
       "'shaya'"
      ]
     },
     "execution_count": 16,
     "metadata": {},
     "output_type": "execute_result"
    }
   ],
   "source": [
    "d = {0: 'shaya', 1:'ayda'}\n",
    "d[0]"
   ]
  },
  {
   "cell_type": "code",
   "execution_count": 17,
   "metadata": {},
   "outputs": [
    {
     "data": {
      "text/plain": [
       "'shaya'"
      ]
     },
     "execution_count": 17,
     "metadata": {},
     "output_type": "execute_result"
    }
   ],
   "source": [
    "l= ['shaya', 'ayda']\n",
    "l[0]"
   ]
  },
  {
   "cell_type": "code",
   "execution_count": 18,
   "metadata": {},
   "outputs": [
    {
     "data": {
      "text/plain": [
       "{'NUM': 45, 1000: 'CODING', 2000: 4.5, 3.4: 7, 'xxx': 89}"
      ]
     },
     "execution_count": 18,
     "metadata": {},
     "output_type": "execute_result"
    }
   ],
   "source": [
    "dic = {'NUM':45, 1000:'CODING', 2000:4.5, 3.4:7, 'xxx':89}\n",
    "dic"
   ]
  },
  {
   "cell_type": "code",
   "execution_count": 23,
   "metadata": {},
   "outputs": [
    {
     "data": {
      "text/plain": [
       "'CODING'"
      ]
     },
     "execution_count": 23,
     "metadata": {},
     "output_type": "execute_result"
    }
   ],
   "source": [
    "dic[1000]"
   ]
  },
  {
   "cell_type": "code",
   "execution_count": 24,
   "metadata": {},
   "outputs": [
    {
     "name": "stdout",
     "output_type": "stream",
     "text": [
      "[(2, 4)] [(1, 6)] [(2, 5)] [(1, 6)] [(2, 1)] [(1, 6)] [(1, 5)] [(2, 5)] [(2, 1)] [(1, 1)] [(1, 2)] [(2, 3)] [(2, 6)] [(1, 5)] [(2, 2)] [(1, 3)] [(2, 5)] [(1, 4)] [(1, 4)] [(2, 3)] "
     ]
    }
   ],
   "source": [
    "#tossing coin and toss for 2o times\n",
    "import random\n",
    "def game(n):\n",
    "    for i in range(n):\n",
    "        t1= (random.randint(1,2), random.randint(1,6))\n",
    "        l1=[t1]\n",
    "        print(l1, end= ' ')\n",
    "        \n",
    "game(20)        \n",
    "   \n"
   ]
  },
  {
   "cell_type": "code",
   "execution_count": 9,
   "metadata": {},
   "outputs": [
    {
     "data": {
      "text/plain": [
       "[(1, 5),\n",
       " (1, 6),\n",
       " (1, 2),\n",
       " (1, 4),\n",
       " (2, 6),\n",
       " (2, 3),\n",
       " (1, 5),\n",
       " (1, 4),\n",
       " (1, 2),\n",
       " (1, 1),\n",
       " (1, 4),\n",
       " (2, 6)]"
      ]
     },
     "execution_count": 9,
     "metadata": {},
     "output_type": "execute_result"
    }
   ],
   "source": [
    "#equivalent above\n",
    "import random\n",
    "def random_cd(iteration):\n",
    "    all_cd = []\n",
    "    for i in range (iteration):\n",
    "        a = random.randint(1,2)\n",
    "        b= random.randint(1,6)\n",
    "        all_cd.append((a,b))\n",
    "        \n",
    "    return all_cd\n",
    "\n",
    "result = random_cd(12)\n",
    "result\n",
    "        "
   ]
  },
  {
   "cell_type": "markdown",
   "metadata": {},
   "source": [
    "#Files in python\n"
   ]
  },
  {
   "cell_type": "code",
   "execution_count": 5,
   "metadata": {},
   "outputs": [],
   "source": [
    "f = open('C:/Users/sony/Desktop/' + 'sh.txt' ,'x')\n",
    "f.close()"
   ]
  },
  {
   "cell_type": "code",
   "execution_count": 7,
   "metadata": {},
   "outputs": [],
   "source": [
    "#this code is same as above\n",
    "path_name = 'C:/Users/sony/Desktop/'\n",
    "file_name = 'sh.txt'\n",
    "f = open(path_name + file_name, 'x')\n",
    "f.close()"
   ]
  },
  {
   "cell_type": "code",
   "execution_count": 13,
   "metadata": {},
   "outputs": [
    {
     "data": {
      "text/plain": [
       "<function TextIOWrapper.close()>"
      ]
     },
     "execution_count": 13,
     "metadata": {},
     "output_type": "execute_result"
    }
   ],
   "source": [
    "#we wan to print the result of 'tossing coin and toss for 2o times' code in our new created file (sh.txt)\n",
    "f = open(path_name + file_name, 'w')\n",
    "f.write(str(result))\n",
    "f.close"
   ]
  },
  {
   "cell_type": "code",
   "execution_count": 18,
   "metadata": {},
   "outputs": [
    {
     "data": {
      "text/plain": [
       "<function TextIOWrapper.close()>"
      ]
     },
     "execution_count": 18,
     "metadata": {},
     "output_type": "execute_result"
    }
   ],
   "source": [
    "f = open(path_name + file_name, 'a')\n",
    "f.write('I am shaghayegh')\n",
    "f.close"
   ]
  },
  {
   "cell_type": "code",
   "execution_count": 23,
   "metadata": {},
   "outputs": [
    {
     "name": "stdout",
     "output_type": "stream",
     "text": [
      "{'I', 'am', 'shaghayegh'}\n",
      "<class 'str'>\n"
     ]
    }
   ],
   "source": [
    "f = open(path_name + file_name, 'r')\n",
    "data = f.read()\n",
    "text = data.replace('\\n', ' ').split(' ')#remove('')\n",
    "print(set(text))\n",
    "print(type(data))"
   ]
  },
  {
   "cell_type": "code",
   "execution_count": 27,
   "metadata": {},
   "outputs": [
    {
     "name": "stdout",
     "output_type": "stream",
     "text": [
      "3  :  {'I', 'am', 'shaghayegh'} \n",
      "\n",
      " ['I', 'am', 'shaghayegh']\n"
     ]
    }
   ],
   "source": [
    "f = open(path_name + file_name, 'r')\n",
    "data = f.close\n",
    "text = data.replace('\\n', ' ').split(' ')#remove('')\n",
    "print(len(set(text)), ' : ', set(text), '\\n\\n', text)"
   ]
  },
  {
   "cell_type": "code",
   "execution_count": 26,
   "metadata": {},
   "outputs": [
    {
     "name": "stdout",
     "output_type": "stream",
     "text": [
      "I am shaghayegh\n",
      "\n",
      "\n"
     ]
    }
   ],
   "source": [
    "f = open(path_name + file_name, 'r')\n",
    "str1 = f.readline()\n",
    "print(str1)\n",
    "str2 = f.readline()\n",
    "print(str2)\n",
    "print(f.readline())"
   ]
  },
  {
   "cell_type": "code",
   "execution_count": 30,
   "metadata": {},
   "outputs": [
    {
     "ename": "PermissionError",
     "evalue": "[WinError 32] The process cannot access the file because it is being used by another process: 'C:/Users/sony/Desktop/sh.txt'",
     "output_type": "error",
     "traceback": [
      "\u001b[1;31m---------------------------------------------------------------------------\u001b[0m",
      "\u001b[1;31mPermissionError\u001b[0m                           Traceback (most recent call last)",
      "\u001b[1;32m<ipython-input-30-e7656932d59f>\u001b[0m in \u001b[0;36m<module>\u001b[1;34m\u001b[0m\n\u001b[0;32m      4\u001b[0m \u001b[0mfile_name\u001b[0m \u001b[1;33m=\u001b[0m \u001b[1;34m'sh.txt'\u001b[0m\u001b[1;33m\u001b[0m\u001b[1;33m\u001b[0m\u001b[0m\n\u001b[0;32m      5\u001b[0m \u001b[1;33m\u001b[0m\u001b[0m\n\u001b[1;32m----> 6\u001b[1;33m \u001b[0mos\u001b[0m\u001b[1;33m.\u001b[0m\u001b[0mremove\u001b[0m\u001b[1;33m(\u001b[0m\u001b[0mpath_name\u001b[0m \u001b[1;33m+\u001b[0m \u001b[0mfile_name\u001b[0m\u001b[1;33m)\u001b[0m\u001b[1;33m\u001b[0m\u001b[1;33m\u001b[0m\u001b[0m\n\u001b[0m",
      "\u001b[1;31mPermissionError\u001b[0m: [WinError 32] The process cannot access the file because it is being used by another process: 'C:/Users/sony/Desktop/sh.txt'"
     ]
    }
   ],
   "source": [
    "#deleting a file\n",
    "import os\n",
    "path_name = 'C:/Users/sony/Desktop/'\n",
    "file_name = 'sh.txt'\n",
    "\n",
    "os.remove(path_name + file_name)"
   ]
  },
  {
   "cell_type": "code",
   "execution_count": 1,
   "metadata": {},
   "outputs": [],
   "source": [
    "#coping a file\n",
    "import os\n",
    "def copyFile (name):\n",
    "    if type(name) is str and os.path.exists(name):\n",
    "        l = name.split('.')\n",
    "        new_name = l[0] + '_copy' + l[1]\n",
    "        f_source = open(name, 'r')\n",
    "        f_destination = open('new_name', 'w')\n",
    "        f_destination.write(f_source.read())\n",
    "        f_source.close()\n",
    "        f_destination.close()\n",
    "    else:\n",
    "        print('The file does not exist!')\n",
    "        \n",
    "path_name = 'C:/Users/sony/Desktop/'\n",
    "file_name = 'sh.txt'\n",
    "copyFile(path_name + file_name)"
   ]
  },
  {
   "cell_type": "code",
   "execution_count": 49,
   "metadata": {},
   "outputs": [
    {
     "name": "stdout",
     "output_type": "stream",
     "text": [
      "Series([], dtype: float64)\n",
      "0    g\n",
      "1    e\n",
      "2    e\n",
      "3    k\n",
      "4    s\n",
      "dtype: object\n"
     ]
    },
    {
     "name": "stderr",
     "output_type": "stream",
     "text": [
      "<ipython-input-49-298bf61b04bd>:4: DeprecationWarning: The default dtype for empty Series will be 'object' instead of 'float64' in a future version. Specify a dtype explicitly to silence this warning.\n",
      "  ser = pd.Series()\n"
     ]
    }
   ],
   "source": [
    "import pandas as pd\n",
    "import numpy as np\n",
    "\n",
    "ser = pd.Series()\n",
    "print(ser)\n",
    "\n",
    "data = np.array(['g', 'e', 'e', 'k', 's'])\n",
    "\n",
    "ser = pd.Series(data)\n",
    "print(ser)"
   ]
  },
  {
   "cell_type": "code",
   "execution_count": 50,
   "metadata": {},
   "outputs": [
    {
     "name": "stdout",
     "output_type": "stream",
     "text": [
      "Empty DataFrame\n",
      "Columns: []\n",
      "Index: []\n",
      "        0\n",
      "0   Geeks\n",
      "1     For\n",
      "2      is\n",
      "3  portal\n",
      "4     for\n",
      "5   Geeks\n"
     ]
    }
   ],
   "source": [
    "import pandas as pd\n",
    "df = pd.DataFrame()\n",
    "print(df)\n",
    "\n",
    "lst = ['Geeks', 'For', 'is', 'portal', 'for', 'Geeks']\n",
    "\n",
    "df = pd.DataFrame(lst)\n",
    "print(df)"
   ]
  },
  {
   "cell_type": "code",
   "execution_count": 4,
   "metadata": {},
   "outputs": [
    {
     "name": "stdout",
     "output_type": "stream",
     "text": [
      "6 you won, Now you can have one more play!\n",
      "5\n"
     ]
    }
   ],
   "source": [
    "import random\n",
    "def game():\n",
    "    n = random.randint(1,6)\n",
    "    print(n)\n",
    "def runGame(m):\n",
    "    m = random.randint(1,6)\n",
    "    if m<6:\n",
    "        print(m, 'you lose!')\n",
    "    else:\n",
    "        print(m, 'you won, Now you can have one more play!')\n",
    "        game()\n",
    "m=1\n",
    "while True:\n",
    "    runGame(m)\n",
    "    break"
   ]
  },
  {
   "cell_type": "code",
   "execution_count": null,
   "metadata": {},
   "outputs": [],
   "source": []
  }
 ],
 "metadata": {
  "kernelspec": {
   "display_name": "Python 3",
   "language": "python",
   "name": "python3"
  },
  "language_info": {
   "codemirror_mode": {
    "name": "ipython",
    "version": 3
   },
   "file_extension": ".py",
   "mimetype": "text/x-python",
   "name": "python",
   "nbconvert_exporter": "python",
   "pygments_lexer": "ipython3",
   "version": "3.8.5"
  }
 },
 "nbformat": 4,
 "nbformat_minor": 5
}
