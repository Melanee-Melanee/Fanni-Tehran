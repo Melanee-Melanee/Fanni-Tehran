{
 "cells": [
  {
   "cell_type": "code",
   "execution_count": 1,
   "metadata": {},
   "outputs": [],
   "source": [
    "class Customer(object):\n",
    "    def __init__(self, cname, cid, cjob):\n",
    "        self.cname = cname\n",
    "        self.cid = cid\n",
    "        self.cjob = cjob\n",
    "        \n",
    "    def getCName(self):\n",
    "        return self.cname\n",
    "    \n",
    "    def getCid(self):\n",
    "        return self.cid\n",
    "    \n",
    "    def getCjob(self):\n",
    "        return self.cjob\n",
    "    \n",
    "    "
   ]
  },
  {
   "cell_type": "code",
   "execution_count": 2,
   "metadata": {},
   "outputs": [],
   "source": [
    "class Account(Customer):\n",
    "    def __init__(self,account_number, balance, cname, cid, cjob):\n",
    "        Customer.__init__(self, cname, cid, cjob)\n",
    "        \n",
    "        self.account_number = account_number\n",
    "        self.balance = balance\n",
    "        \n",
    "        \n",
    "    def deposit(self, amount):\n",
    "        self.balance = self.balance + amount\n",
    "        \n",
    "        \n",
    "    def withdraw(self, amount):\n",
    "        if amount <= self.balance:\n",
    "            self.balance = self.balance - amount\n",
    "        else:\n",
    "            print('You do not have enough money')\n",
    "        \n",
    "        \n",
    "    def getAccountNumber(self):\n",
    "        return self.account_number\n",
    "    \n",
    "    \n",
    "    def getBalance(self):\n",
    "        return self.balance\n",
    "            "
   ]
  },
  {
   "cell_type": "code",
   "execution_count": 3,
   "metadata": {},
   "outputs": [],
   "source": [
    "class BankAccounts():\n",
    "    def __init__(self, accounts):\n",
    "        self.alist = accounts\n",
    "        \n",
    "    def Addaccount(self, account):\n",
    "        for i in self.alist:\n",
    "            if account is i:\n",
    "                print('This account is already been added')\n",
    "                return\n",
    "        self.alist.append(account)\n",
    "        \n",
    "        \n",
    "    def removeAccounts(self, account):\n",
    "        count = 0\n",
    "        for i in self.alist:\n",
    "            if account is i:\n",
    "                self.alist.pop(counter)\n",
    "                return\n",
    "            counter+=1\n",
    "        print('This account does not exist!')     \n",
    "        \n",
    "    def printAllBalances(self)  :\n",
    "        for i in self.alist:\n",
    "            print(i.getCName(), i.getBalance())\n",
    "                \n",
    "        \n",
    "        \n",
    "        "
   ]
  },
  {
   "cell_type": "code",
   "execution_count": 4,
   "metadata": {},
   "outputs": [],
   "source": [
    "c1_account = Account(100, 120000000, 'Melanee', 54, 'Data Scientist')\n",
    "c2_account = Account(200, 34000, 'Jimi', 13, 'student')"
   ]
  },
  {
   "cell_type": "code",
   "execution_count": 7,
   "metadata": {},
   "outputs": [
    {
     "name": "stdout",
     "output_type": "stream",
     "text": [
      "-------------------\n",
      "Melanee 120000000\n",
      "Jimi 34000\n"
     ]
    }
   ],
   "source": [
    "bas = BankAccounts([])\n",
    "bas.Addaccount(c1_account)\n",
    "bas.Addaccount(c2_account)\n",
    "\n",
    "print('-------------------')\n",
    "bas.printAllBalances()"
   ]
  },
  {
   "cell_type": "code",
   "execution_count": null,
   "metadata": {},
   "outputs": [],
   "source": []
  }
 ],
 "metadata": {
  "kernelspec": {
   "display_name": "Python 3",
   "language": "python",
   "name": "python3"
  },
  "language_info": {
   "codemirror_mode": {
    "name": "ipython",
    "version": 3
   },
   "file_extension": ".py",
   "mimetype": "text/x-python",
   "name": "python",
   "nbconvert_exporter": "python",
   "pygments_lexer": "ipython3",
   "version": "3.8.5"
  }
 },
 "nbformat": 4,
 "nbformat_minor": 4
}
