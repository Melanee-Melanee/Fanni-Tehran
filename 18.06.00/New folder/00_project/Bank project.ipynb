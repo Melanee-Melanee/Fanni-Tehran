{
 "cells": [
  {
   "cell_type": "code",
   "execution_count": 29,
   "metadata": {},
   "outputs": [],
   "source": [
    "class Customer(object):\n",
    "    def __init__(self, cname, cid, cjob):\n",
    "        self.cname = cname\n",
    "        self.cid = cid\n",
    "        self.cjob = cjob\n",
    "        \n",
    "    def getCName(self):\n",
    "        return self.cname\n",
    "    \n",
    "    def getCid(self):\n",
    "        return self.cid\n",
    "    \n",
    "    def getCjob(self):\n",
    "        return self.cjob\n",
    "    \n",
    "    "
   ]
  },
  {
   "cell_type": "code",
   "execution_count": 30,
   "metadata": {},
   "outputs": [],
   "source": [
    "class Account(Customer):\n",
    "    def __init__(self,account_number, balance, cname, cid, cjob):\n",
    "        Customer.__init__(self, cname, cid, cjob)\n",
    "        \n",
    "        self.account_number = account_number\n",
    "        self.balance = balance\n",
    "        \n",
    "        \n",
    "    def deposit(self, amount):\n",
    "        self.balance = self.balance + amount\n",
    "        \n",
    "        \n",
    "    def withdraw(self, amount):\n",
    "        if amount <= self.balance:\n",
    "            self.balance = self.balance - amount\n",
    "        else:\n",
    "            print('You do not have enough money')\n",
    "        \n",
    "        \n",
    "    def getAccountNumber(self):\n",
    "        return self.account_number\n",
    "    \n",
    "    \n",
    "    def getBalance(self):\n",
    "        return self.balance\n",
    "            "
   ]
  },
  {
   "cell_type": "code",
   "execution_count": 34,
   "metadata": {},
   "outputs": [],
   "source": [
    "class BankAccounts():\n",
    "    def __init__(self, accounts):\n",
    "        self.alist = accounts\n",
    "        \n",
    "    def Addaccount(self, account):\n",
    "        for i in self.alist:\n",
    "            if account is i:\n",
    "                print('This account is already been added')\n",
    "                return\n",
    "        self.alist.append(account)\n",
    "        \n",
    "        \n",
    "    def removeAccounts(self, account):\n",
    "        count = 0\n",
    "        for i in self.alist:\n",
    "            if account is i:\n",
    "                self.alist.pop(counter)\n",
    "                return\n",
    "            counter+=1\n",
    "        print('This account does not exist!')     \n",
    "        \n",
    "    def printAllBalances(self)  :\n",
    "        for i in self.alist:\n",
    "            print(i.getCName(), i.getBalance())\n",
    "                \n",
    "        \n",
    "        \n",
    "        "
   ]
  },
  {
   "cell_type": "code",
   "execution_count": 35,
   "metadata": {},
   "outputs": [],
   "source": [
    "c1_account = Account(100, 120000000, 'Melanee', 54, 'Data Scientist')\n",
    "c2_account = Account(200, 34000, 'Jimi', 13, 'student')"
   ]
  },
  {
   "cell_type": "code",
   "execution_count": 36,
   "metadata": {},
   "outputs": [
    {
     "ename": "NameError",
     "evalue": "name 'cname' is not defined",
     "output_type": "error",
     "traceback": [
      "\u001b[1;31m---------------------------------------------------------------------------\u001b[0m",
      "\u001b[1;31mNameError\u001b[0m                                 Traceback (most recent call last)",
      "\u001b[1;32m<ipython-input-36-006b8bde58c0>\u001b[0m in \u001b[0;36m<module>\u001b[1;34m\u001b[0m\n\u001b[0;32m      2\u001b[0m \u001b[0mbas\u001b[0m\u001b[1;33m.\u001b[0m\u001b[0mAddaccount\u001b[0m\u001b[1;33m(\u001b[0m\u001b[0mc1_account\u001b[0m\u001b[1;33m)\u001b[0m\u001b[1;33m\u001b[0m\u001b[1;33m\u001b[0m\u001b[0m\n\u001b[0;32m      3\u001b[0m \u001b[1;31m# bas.Addaccount(c2_account)\u001b[0m\u001b[1;33m\u001b[0m\u001b[1;33m\u001b[0m\u001b[1;33m\u001b[0m\u001b[0m\n\u001b[1;32m----> 4\u001b[1;33m \u001b[0mbas\u001b[0m\u001b[1;33m.\u001b[0m\u001b[0mprintAllBalances\u001b[0m\u001b[1;33m(\u001b[0m\u001b[1;33m)\u001b[0m\u001b[1;33m\u001b[0m\u001b[1;33m\u001b[0m\u001b[0m\n\u001b[0m",
      "\u001b[1;32m<ipython-input-34-16ab45f8374d>\u001b[0m in \u001b[0;36mprintAllBalances\u001b[1;34m(self)\u001b[0m\n\u001b[0;32m     22\u001b[0m     \u001b[1;32mdef\u001b[0m \u001b[0mprintAllBalances\u001b[0m\u001b[1;33m(\u001b[0m\u001b[0mself\u001b[0m\u001b[1;33m)\u001b[0m  \u001b[1;33m:\u001b[0m\u001b[1;33m\u001b[0m\u001b[1;33m\u001b[0m\u001b[0m\n\u001b[0;32m     23\u001b[0m         \u001b[1;32mfor\u001b[0m \u001b[0mi\u001b[0m \u001b[1;32min\u001b[0m \u001b[0mself\u001b[0m\u001b[1;33m.\u001b[0m\u001b[0malist\u001b[0m\u001b[1;33m:\u001b[0m\u001b[1;33m\u001b[0m\u001b[1;33m\u001b[0m\u001b[0m\n\u001b[1;32m---> 24\u001b[1;33m             \u001b[0mprint\u001b[0m\u001b[1;33m(\u001b[0m\u001b[0mi\u001b[0m\u001b[1;33m.\u001b[0m\u001b[0mgetCName\u001b[0m\u001b[1;33m(\u001b[0m\u001b[1;33m)\u001b[0m\u001b[1;33m,\u001b[0m \u001b[0mi\u001b[0m\u001b[1;33m.\u001b[0m\u001b[0mgetBalance\u001b[0m\u001b[1;33m(\u001b[0m\u001b[1;33m)\u001b[0m\u001b[1;33m)\u001b[0m\u001b[1;33m\u001b[0m\u001b[1;33m\u001b[0m\u001b[0m\n\u001b[0m\u001b[0;32m     25\u001b[0m \u001b[1;33m\u001b[0m\u001b[0m\n\u001b[0;32m     26\u001b[0m \u001b[1;33m\u001b[0m\u001b[0m\n",
      "\u001b[1;32m<ipython-input-29-cac4919e66c3>\u001b[0m in \u001b[0;36mgetCName\u001b[1;34m(self)\u001b[0m\n\u001b[0;32m      6\u001b[0m \u001b[1;33m\u001b[0m\u001b[0m\n\u001b[0;32m      7\u001b[0m     \u001b[1;32mdef\u001b[0m \u001b[0mgetCName\u001b[0m\u001b[1;33m(\u001b[0m\u001b[0mself\u001b[0m\u001b[1;33m)\u001b[0m\u001b[1;33m:\u001b[0m\u001b[1;33m\u001b[0m\u001b[1;33m\u001b[0m\u001b[0m\n\u001b[1;32m----> 8\u001b[1;33m         \u001b[1;32mreturn\u001b[0m \u001b[0mcname\u001b[0m\u001b[1;33m\u001b[0m\u001b[1;33m\u001b[0m\u001b[0m\n\u001b[0m\u001b[0;32m      9\u001b[0m \u001b[1;33m\u001b[0m\u001b[0m\n\u001b[0;32m     10\u001b[0m     \u001b[1;32mdef\u001b[0m \u001b[0mgetCid\u001b[0m\u001b[1;33m(\u001b[0m\u001b[0mself\u001b[0m\u001b[1;33m)\u001b[0m\u001b[1;33m:\u001b[0m\u001b[1;33m\u001b[0m\u001b[1;33m\u001b[0m\u001b[0m\n",
      "\u001b[1;31mNameError\u001b[0m: name 'cname' is not defined"
     ]
    }
   ],
   "source": [
    "bas = BankAccounts([])\n",
    "bas.Addaccount(c1_account)\n",
    "# bas.Addaccount(c2_account)\n",
    "bas.printAllBalances()"
   ]
  },
  {
   "cell_type": "code",
   "execution_count": null,
   "metadata": {},
   "outputs": [],
   "source": []
  }
 ],
 "metadata": {
  "kernelspec": {
   "display_name": "Python 3",
   "language": "python",
   "name": "python3"
  },
  "language_info": {
   "codemirror_mode": {
    "name": "ipython",
    "version": 3
   },
   "file_extension": ".py",
   "mimetype": "text/x-python",
   "name": "python",
   "nbconvert_exporter": "python",
   "pygments_lexer": "ipython3",
   "version": "3.8.5"
  }
 },
 "nbformat": 4,
 "nbformat_minor": 4
}
