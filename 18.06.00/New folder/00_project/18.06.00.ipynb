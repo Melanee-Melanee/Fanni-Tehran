{
 "cells": [
  {
   "cell_type": "code",
   "execution_count": 1,
   "metadata": {},
   "outputs": [
    {
     "data": {
      "text/plain": [
       "'__main__'"
      ]
     },
     "execution_count": 1,
     "metadata": {},
     "output_type": "execute_result"
    }
   ],
   "source": [
    "#interpreter start to interpret from this point\n",
    "__name__"
   ]
  },
  {
   "cell_type": "code",
   "execution_count": 2,
   "metadata": {},
   "outputs": [
    {
     "name": "stdout",
     "output_type": "stream",
     "text": [
      "5 e\n",
      "6 r\n",
      "7 t\n"
     ]
    }
   ],
   "source": [
    "#enumerate let you have a counter in a loop\n",
    "lst = ['e', 'r', 't']\n",
    "for i, l in enumerate(lst, 5):\n",
    "    print(i, l)"
   ]
  },
  {
   "cell_type": "code",
   "execution_count": 3,
   "metadata": {},
   "outputs": [
    {
     "data": {
      "text/plain": [
       "'e r t'"
      ]
     },
     "execution_count": 3,
     "metadata": {},
     "output_type": "execute_result"
    }
   ],
   "source": [
    "' '.join(lst)"
   ]
  },
  {
   "cell_type": "code",
   "execution_count": 4,
   "metadata": {},
   "outputs": [
    {
     "name": "stdout",
     "output_type": "stream",
     "text": [
      "c= 123\n"
     ]
    }
   ],
   "source": [
    "d = ['1', '2', '3']\n",
    "c =  ''.join(d)\n",
    "print ('c=', str(c))\n",
    "    "
   ]
  },
  {
   "cell_type": "markdown",
   "metadata": {},
   "source": [
    "## Caesar func"
   ]
  },
  {
   "cell_type": "code",
   "execution_count": 1,
   "metadata": {},
   "outputs": [],
   "source": [
    "def encrypt(plaintext, key):\n",
    "    cyphertext = ''\n",
    "    for character in plaintext:\n",
    "        if character.isalpha():\n",
    "            number = ord(character)\n",
    "            number += key\n",
    "            if character.isupper():\n",
    "                if number > ord('Z'):\n",
    "                    number -= 26\n",
    "                elif number < ord('A'):\n",
    "                    number += 26\n",
    "            elif character.islower():\n",
    "                if number > ord('z'):\n",
    "                    number -= 26\n",
    "                elif number < ord('a'):\n",
    "                    number += 26\n",
    "            character = chr(number)\n",
    "        cyphertext += character\n",
    "    return cyphertext        \n",
    "                \n",
    "                "
   ]
  },
  {
   "cell_type": "code",
   "execution_count": 2,
   "metadata": {},
   "outputs": [
    {
     "data": {
      "text/plain": [
       "'rjqfsjj'"
      ]
     },
     "execution_count": 2,
     "metadata": {},
     "output_type": "execute_result"
    }
   ],
   "source": [
    "encrypt('melanee', 5)"
   ]
  },
  {
   "cell_type": "code",
   "execution_count": 4,
   "metadata": {},
   "outputs": [
    {
     "name": "stderr",
     "output_type": "stream",
     "text": [
      "100%|██████████| 560000/560000 [00:00<00:00, 930340.89it/s]\n"
     ]
    }
   ],
   "source": [
    "from tqdm import tqdm\n",
    "for key in tqdm(range(560000)):\n",
    "    if key != '0':\n",
    "        pass"
   ]
  },
  {
   "cell_type": "code",
   "execution_count": 6,
   "metadata": {},
   "outputs": [
    {
     "name": "stdout",
     "output_type": "stream",
     "text": [
      "2021-09-10 21:51:56.916968\n"
     ]
    }
   ],
   "source": [
    "import datetime\n",
    "x = datetime.datetime.now()\n",
    "print(x)\n"
   ]
  },
  {
   "cell_type": "code",
   "execution_count": 13,
   "metadata": {},
   "outputs": [
    {
     "name": "stdout",
     "output_type": "stream",
     "text": [
      "2021\n",
      "Tuesday\n",
      "Tue\n"
     ]
    }
   ],
   "source": [
    "print(x.year)\n",
    "print(x.strftime('%A'))\n",
    "print(x.strftime('%a'))\n"
   ]
  },
  {
   "cell_type": "code",
   "execution_count": 10,
   "metadata": {},
   "outputs": [
    {
     "name": "stdout",
     "output_type": "stream",
     "text": [
      "June\n"
     ]
    }
   ],
   "source": [
    "x = datetime.datetime(2021, 6, 1)\n",
    "print(x.strftime('%B'))"
   ]
  },
  {
   "cell_type": "code",
   "execution_count": 4,
   "metadata": {},
   "outputs": [
    {
     "name": "stderr",
     "output_type": "stream",
     "text": [
      "usage: ipykernel_launcher.py [-h] argument1\n",
      "ipykernel_launcher.py: error: unrecognized arguments: -f\n"
     ]
    },
    {
     "ename": "SystemExit",
     "evalue": "2",
     "output_type": "error",
     "traceback": [
      "An exception has occurred, use %tb to see the full traceback.\n",
      "\u001b[1;31mSystemExit\u001b[0m\u001b[1;31m:\u001b[0m 2\n"
     ]
    }
   ],
   "source": [
    "import argparse\n",
    "parser = argparse.ArgumentParser()\n",
    "parser.add_argument(dest = 'argument1', help= 'this tis the first argument')\n",
    "args = parser.parse_args()\n",
    "print(args.argument1)"
   ]
  },
  {
   "cell_type": "markdown",
   "metadata": {},
   "source": [
    "## Class Inheritance "
   ]
  },
  {
   "cell_type": "code",
   "execution_count": 5,
   "metadata": {},
   "outputs": [
    {
     "name": "stdout",
     "output_type": "stream",
     "text": [
      "Geek False\n",
      "Geek True\n"
     ]
    }
   ],
   "source": [
    "class Person(object):\n",
    "    def __init__(self, name):\n",
    "        self.name = name\n",
    "    def getName(self):\n",
    "        return self.name\n",
    "    \n",
    "    def isEmployee(self):\n",
    "        return False\n",
    "    \n",
    "class Employee(Person):\n",
    "#Employee inherits from Person \n",
    "#it is polymorphism\n",
    "    def isEmployee(self):\n",
    "        return True\n",
    "    \n",
    "emp = Person('Geek')\n",
    "print(emp.getName(), emp.isEmployee())\n",
    "\n",
    "emp = Employee('Geek')\n",
    "print(emp.getName(), emp.isEmployee())"
   ]
  },
  {
   "cell_type": "code",
   "execution_count": 10,
   "metadata": {},
   "outputs": [
    {
     "name": "stdout",
     "output_type": "stream",
     "text": [
      "Rahul\n",
      "886012\n"
     ]
    }
   ],
   "source": [
    "class Person (object):\n",
    "    def __init__(self, name, idnumber):\n",
    "        self.name = name\n",
    "        self.idnumber = idnumber\n",
    "    def display(self):\n",
    "        print(self.name)\n",
    "        print(self.idnumber)\n",
    "        \n",
    "class Employee(Person):\n",
    "    def __init__(self, name, idnumber, salary, post):\n",
    "        self.salary = salary\n",
    "        self.post = post\n",
    "        \n",
    "        Person.__init__(self, name, idnumber)\n",
    "        \n",
    "a = Employee('Rahul', 886012, 20000, 'Internet')\n",
    "a.display()\n",
    "        \n",
    "        \n",
    "        "
   ]
  },
  {
   "cell_type": "code",
   "execution_count": 11,
   "metadata": {},
   "outputs": [
    {
     "name": "stdout",
     "output_type": "stream",
     "text": [
      "Base1\n",
      "Base2\n",
      "Derived\n",
      "Geek1 Geek2\n"
     ]
    }
   ],
   "source": [
    "class Base1(object):\n",
    "    def __init__(self):\n",
    "        self.str1 = 'Geek1'\n",
    "        print('Base1')\n",
    "        \n",
    "class Base2(object):\n",
    "    def __init__(self):\n",
    "        self.str2 = 'Geek2'\n",
    "        print('Base2')\n",
    "        \n",
    "class Derived(Base1, Base2):\n",
    "    def __init__(self):\n",
    "        Base1.__init__(self)\n",
    "        Base2.__init__(self)\n",
    "        print('Derived')  \n",
    "\n",
    "    def print_strs(self):\n",
    "        print(self.str1, self.str2)        \n",
    "        \n",
    "ob = Derived()\n",
    "ob.print_strs()      "
   ]
  },
  {
   "cell_type": "code",
   "execution_count": 13,
   "metadata": {},
   "outputs": [
    {
     "name": "stdout",
     "output_type": "stream",
     "text": [
      "Geek 23 Noida\n"
     ]
    }
   ],
   "source": [
    "class Base(object):\n",
    "    def __init__(self, name):\n",
    "        self.name = name\n",
    "        \n",
    "    def get_name(self):\n",
    "        return self.name\n",
    "    \n",
    "class Child(Base):\n",
    "    def __init__(self, name, age):\n",
    "        Base.__init__(self, name)\n",
    "        self.age = age\n",
    "    def get_age(self):\n",
    "        return self.age\n",
    "    \n",
    "class GrandChild(Child):\n",
    "    def __init__(self, name, age, address):\n",
    "        Child.__init__(self, name, age)\n",
    "        self.address = address   \n",
    "    def get_address(self):\n",
    "        return self.address\n",
    "    \n",
    "    \n",
    "g = GrandChild('Geek', 23, 'Noida')\n",
    "print(g.get_name(), g.get_age(), g.get_address())\n",
    "        "
   ]
  },
  {
   "cell_type": "code",
   "execution_count": 16,
   "metadata": {},
   "outputs": [],
   "source": [
    "#Protected Access in OOP:\n",
    "class Student:\n",
    "    _name = None\n",
    "    _roll = None\n",
    "    _branch = None\n",
    "    \n",
    "    def __init__(self, name, roll, branch):\n",
    "        self._name = name\n",
    "        self._roll = roll\n",
    "        self._branch = branch\n",
    "        \n",
    "    def _displayrollandbranch(self):\n",
    "        print('Roll', self._roll)\n",
    "        print('Branch:', self._branch)"
   ]
  },
  {
   "cell_type": "code",
   "execution_count": 18,
   "metadata": {},
   "outputs": [
    {
     "name": "stdout",
     "output_type": "stream",
     "text": [
      "Name R2J\n",
      "Roll 1706256\n",
      "Branch: Information technology\n"
     ]
    }
   ],
   "source": [
    "class Geek(Student):\n",
    "    def __init__(self, name, roll, branch):\n",
    "        Student.__init__(self, name, roll, branch)\n",
    "    def displayDetails(self):\n",
    "        print('Name', self._name)\n",
    "        self._displayrollandbranch()\n",
    "\n",
    "obj = Geek('R2J', 1706256, 'Information technology')\n",
    "obj.displayDetails()\n"
   ]
  },
  {
   "cell_type": "code",
   "execution_count": 19,
   "metadata": {},
   "outputs": [
    {
     "name": "stdout",
     "output_type": "stream",
     "text": [
      "Name: R2J\n",
      "Roll: 1706256\n",
      "Branch: Information technology\n"
     ]
    }
   ],
   "source": [
    "#private access in OOP:\n",
    "class Geek:\n",
    "    __name = None\n",
    "    __roll = None\n",
    "    __branch = None\n",
    "    \n",
    "    def __init__(self, name, roll, branch):\n",
    "        self.__name = name\n",
    "        self.__roll = roll\n",
    "        self.__branch = branch\n",
    "        \n",
    "    def __displaydetails(self):\n",
    "        print('Name:', self.__name)\n",
    "        print('Roll:', self.__roll)\n",
    "        print('Branch:', self.__branch)\n",
    "        \n",
    "     #we create a public function to have access to private member   \n",
    "    def access_private_function(self):\n",
    "        self.__displaydetails()\n",
    "        \n",
    "obj = Geek('R2J', 1706256, 'Information technology')\n",
    "obj.access_private_function()"
   ]
  },
  {
   "cell_type": "code",
   "execution_count": null,
   "metadata": {},
   "outputs": [],
   "source": []
  }
 ],
 "metadata": {
  "kernelspec": {
   "display_name": "Python 3",
   "language": "python",
   "name": "python3"
  },
  "language_info": {
   "codemirror_mode": {
    "name": "ipython",
    "version": 3
   },
   "file_extension": ".py",
   "mimetype": "text/x-python",
   "name": "python",
   "nbconvert_exporter": "python",
   "pygments_lexer": "ipython3",
   "version": "3.8.5"
  }
 },
 "nbformat": 4,
 "nbformat_minor": 4
}
